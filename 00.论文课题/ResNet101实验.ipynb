{
 "cells": [
  {
   "cell_type": "code",
   "execution_count": 1,
   "metadata": {},
   "outputs": [],
   "source": [
    "import torch\n",
    "import torch.nn as nn\n",
    "import torch.optim as optim\n",
    "import torchvision\n",
    "import torchvision.transforms as transforms\n",
    "import numpy as np\n",
    "from torchvision import datasets, models, transforms\n",
    "import os\n",
    "import matplotlib.pyplot as plt\n",
    "import pandas as pd\n",
    "from PIL import Image\n",
    "from torch.utils.data import Dataset\n",
    "from torch.autograd import Variable\n",
    "import time"
   ]
  },
  {
   "cell_type": "code",
   "execution_count": 2,
   "metadata": {},
   "outputs": [],
   "source": [
    "data_dir = 'F:\\DataSets/EmotionImages/TargetData'\n",
    "\n",
    "data_transform = {x: transforms.Compose([transforms.Resize([256, 256]),  # 设置尺寸\n",
    "                                        transforms.ToTensor(),  # 转为Tensor\n",
    "                                        transforms.Normalize([0.485, 0.456, 0.406],\n",
    "                                                             [0.229, 0.224, 0.225])])  # 标准化\n",
    "                  for x in {\"train\", \"valid\"}}  # {\"train\":\"训练集数据格式\",\"valid\":\"测试集数据格式\"}\n",
    "\n",
    "image_datasets = {x: datasets.ImageFolder(root=os.path.join(data_dir, x),  # 载入数据\n",
    "                                         transform = data_transform[x])\n",
    "                  for x in {\"train\", \"valid\"}}  # {\"train\":\"训练集\",\"valid\":\"测试集\"}\n",
    "\n",
    "dataloader = {x: torch.utils.data.DataLoader(dataset=image_datasets[x],\n",
    "                                            batch_size=16,\n",
    "                                            shuffle=True)\n",
    "              for x in {\"train\", \"valid\"}}  # {包装16个为一个批次\"train\":\"训练集数据载入\",\"valid\":\"测试集数据载入\"}"
   ]
  },
  {
   "cell_type": "code",
   "execution_count": 3,
   "metadata": {},
   "outputs": [],
   "source": [
    "X_example, y_example = next(iter(dataloader[\"train\"]))  # 迭代得到一个批次的样本\n",
    "example_classes = image_datasets[\"train\"].classes\n",
    "index_classes = image_datasets[\"train\"].class_to_idx"
   ]
  },
  {
   "cell_type": "code",
   "execution_count": 4,
   "metadata": {},
   "outputs": [
    {
     "name": "stdout",
     "output_type": "stream",
     "text": [
      "1848\n",
      "231\n"
     ]
    }
   ],
   "source": [
    "train_data = dataloader[\"train\"]\n",
    "valid_data = dataloader[\"valid\"]\n",
    "\n",
    "train_data_size = len(image_datasets[\"train\"])\n",
    "valid_data_size = len(image_datasets[\"valid\"])\n",
    "\n",
    "print(train_data_size)\n",
    "print(valid_data_size)"
   ]
  },
  {
   "cell_type": "code",
   "execution_count": 13,
   "metadata": {},
   "outputs": [],
   "source": [
    "my_model = models.resnet101(pretrained=True)  # 使用VGG16 网络预训练好的模型"
   ]
  },
  {
   "cell_type": "code",
   "execution_count": 21,
   "metadata": {},
   "outputs": [
    {
     "name": "stdout",
     "output_type": "stream",
     "text": [
      "Sequential(\n",
      "  (0): Linear(in_features=2048, out_features=256, bias=True)\n",
      "  (1): ReLU()\n",
      "  (2): Dropout(p=0.4, inplace=False)\n",
      "  (3): Linear(in_features=256, out_features=3, bias=True)\n",
      "  (4): LogSoftmax()\n",
      ")\n"
     ]
    }
   ],
   "source": [
    "print(my_model.fc)"
   ]
  },
  {
   "cell_type": "code",
   "execution_count": null,
   "metadata": {},
   "outputs": [],
   "source": [
    "print(my_model)"
   ]
  },
  {
   "cell_type": "code",
   "execution_count": 14,
   "metadata": {},
   "outputs": [],
   "source": [
    "for param in my_model.parameters():\n",
    "    param.requires_grad = False"
   ]
  },
  {
   "cell_type": "code",
   "execution_count": 15,
   "metadata": {},
   "outputs": [],
   "source": [
    "fc_inputs = my_model.fc.in_features\n",
    "my_model.fc = nn.Sequential(\n",
    "    nn.Linear(fc_inputs, 256),\n",
    "    nn.ReLU(),\n",
    "    nn.Dropout(0.4),\n",
    "    nn.Linear(256, 3),\n",
    "    nn.LogSoftmax(dim=1)\n",
    ")"
   ]
  },
  {
   "cell_type": "code",
   "execution_count": 16,
   "metadata": {},
   "outputs": [],
   "source": [
    "loss_func = nn.NLLLoss()\n",
    "optimizer = optim.Adam(my_model.parameters())"
   ]
  },
  {
   "cell_type": "code",
   "execution_count": 17,
   "metadata": {},
   "outputs": [],
   "source": [
    "def train_and_valid(model, loss_function, optimizer, epochs=25):\n",
    "    device = torch.device(\"cuda:0\" if torch.cuda.is_available() else \"cpu\")\n",
    "    history = []\n",
    "    best_acc = 0.0\n",
    "    best_epoch = 0\n",
    " \n",
    "    for epoch in range(epochs):\n",
    "        epoch_start = time.time()\n",
    "        print(\"Epoch: {}/{}\".format(epoch+1, epochs))\n",
    " \n",
    "        model.train()\n",
    " \n",
    "        train_loss = 0.0\n",
    "        train_acc = 0.0\n",
    "        valid_loss = 0.0\n",
    "        valid_acc = 0.0\n",
    " \n",
    "        for i, (inputs, labels) in enumerate(train_data):\n",
    "            inputs = inputs.to(device)\n",
    "            labels = labels.to(device)\n",
    " \n",
    "            #因为这里梯度是累加的，所以每次记得清零\n",
    "            optimizer.zero_grad()\n",
    " \n",
    "            outputs = model(inputs)\n",
    " \n",
    "            loss = loss_function(outputs, labels)\n",
    " \n",
    "            loss.backward()\n",
    " \n",
    "            optimizer.step()\n",
    " \n",
    "            train_loss += loss.item() * inputs.size(0)\n",
    " \n",
    "            ret, predictions = torch.max(outputs.data, 1)\n",
    "            correct_counts = predictions.eq(labels.data.view_as(predictions))\n",
    " \n",
    "            acc = torch.mean(correct_counts.type(torch.FloatTensor))\n",
    " \n",
    "            train_acc += acc.item() * inputs.size(0)\n",
    " \n",
    "        with torch.no_grad():\n",
    "            model.eval()\n",
    " \n",
    "            for j, (inputs, labels) in enumerate(valid_data):\n",
    "                inputs = inputs.to(device)\n",
    "                labels = labels.to(device)\n",
    " \n",
    "                outputs = model(inputs)\n",
    " \n",
    "                loss = loss_function(outputs, labels)\n",
    " \n",
    "                valid_loss += loss.item() * inputs.size(0)\n",
    " \n",
    "                ret, predictions = torch.max(outputs.data, 1)\n",
    "                correct_counts = predictions.eq(labels.data.view_as(predictions))\n",
    " \n",
    "                acc = torch.mean(correct_counts.type(torch.FloatTensor))\n",
    " \n",
    "                valid_acc += acc.item() * inputs.size(0)\n",
    " \n",
    "        avg_train_loss = train_loss/train_data_size\n",
    "        avg_train_acc = train_acc/train_data_size\n",
    " \n",
    "        avg_valid_loss = valid_loss/valid_data_size\n",
    "        avg_valid_acc = valid_acc/valid_data_size\n",
    " \n",
    "        history.append([avg_train_loss, avg_valid_loss, avg_train_acc, avg_valid_acc])\n",
    " \n",
    "        if best_acc < avg_valid_acc:\n",
    "            best_acc = avg_valid_acc\n",
    "            best_epoch = epoch + 1\n",
    " \n",
    "        epoch_end = time.time()\n",
    " \n",
    "        print(\"Epoch: {:03d}, Training: Loss: {:.4f}, Accuracy: {:.4f}%, \\n\\t\\tValidation: Loss: {:.4f}, Accuracy: {:.4f}%, Time: {:.4f}s\".format(\n",
    "            epoch+1, avg_valid_loss, avg_train_acc*100, avg_valid_loss, avg_valid_acc*100, epoch_end-epoch_start\n",
    "        ))\n",
    "        print(\"Best Accuracy for validation : {:.4f} at epoch {:03d}\".format(best_acc, best_epoch))\n",
    " \n",
    "        torch.save(model, 'F:\\DataSets/modles/'+'resnet101_'+str(epoch+1)+'.pt')\n",
    "    return model, history"
   ]
  },
  {
   "cell_type": "code",
   "execution_count": 18,
   "metadata": {},
   "outputs": [
    {
     "name": "stdout",
     "output_type": "stream",
     "text": [
      "Epoch: 1/20\n",
      "Epoch: 001, Training: Loss: 0.5144, Accuracy: 62.9870%, \n",
      "\t\tValidation: Loss: 0.5144, Accuracy: 80.0866%, Time: 2174.8134s\n",
      "Best Accuracy for validation : 0.8009 at epoch 001\n"
     ]
    },
    {
     "name": "stderr",
     "output_type": "stream",
     "text": [
      "E:\\Anaconda3\\lib\\site-packages\\torch\\serialization.py:292: UserWarning: Couldn't retrieve source code for container of type ResNet. It won't be checked for correctness upon loading.\n",
      "  \"type \" + obj.__name__ + \". It won't be checked \"\n",
      "E:\\Anaconda3\\lib\\site-packages\\torch\\serialization.py:292: UserWarning: Couldn't retrieve source code for container of type Conv2d. It won't be checked for correctness upon loading.\n",
      "  \"type \" + obj.__name__ + \". It won't be checked \"\n",
      "E:\\Anaconda3\\lib\\site-packages\\torch\\serialization.py:292: UserWarning: Couldn't retrieve source code for container of type BatchNorm2d. It won't be checked for correctness upon loading.\n",
      "  \"type \" + obj.__name__ + \". It won't be checked \"\n",
      "E:\\Anaconda3\\lib\\site-packages\\torch\\serialization.py:292: UserWarning: Couldn't retrieve source code for container of type ReLU. It won't be checked for correctness upon loading.\n",
      "  \"type \" + obj.__name__ + \". It won't be checked \"\n",
      "E:\\Anaconda3\\lib\\site-packages\\torch\\serialization.py:292: UserWarning: Couldn't retrieve source code for container of type MaxPool2d. It won't be checked for correctness upon loading.\n",
      "  \"type \" + obj.__name__ + \". It won't be checked \"\n",
      "E:\\Anaconda3\\lib\\site-packages\\torch\\serialization.py:292: UserWarning: Couldn't retrieve source code for container of type Sequential. It won't be checked for correctness upon loading.\n",
      "  \"type \" + obj.__name__ + \". It won't be checked \"\n",
      "E:\\Anaconda3\\lib\\site-packages\\torch\\serialization.py:292: UserWarning: Couldn't retrieve source code for container of type Bottleneck. It won't be checked for correctness upon loading.\n",
      "  \"type \" + obj.__name__ + \". It won't be checked \"\n",
      "E:\\Anaconda3\\lib\\site-packages\\torch\\serialization.py:292: UserWarning: Couldn't retrieve source code for container of type AdaptiveAvgPool2d. It won't be checked for correctness upon loading.\n",
      "  \"type \" + obj.__name__ + \". It won't be checked \"\n",
      "E:\\Anaconda3\\lib\\site-packages\\torch\\serialization.py:292: UserWarning: Couldn't retrieve source code for container of type Linear. It won't be checked for correctness upon loading.\n",
      "  \"type \" + obj.__name__ + \". It won't be checked \"\n",
      "E:\\Anaconda3\\lib\\site-packages\\torch\\serialization.py:292: UserWarning: Couldn't retrieve source code for container of type Dropout. It won't be checked for correctness upon loading.\n",
      "  \"type \" + obj.__name__ + \". It won't be checked \"\n",
      "E:\\Anaconda3\\lib\\site-packages\\torch\\serialization.py:292: UserWarning: Couldn't retrieve source code for container of type LogSoftmax. It won't be checked for correctness upon loading.\n",
      "  \"type \" + obj.__name__ + \". It won't be checked \"\n"
     ]
    },
    {
     "name": "stdout",
     "output_type": "stream",
     "text": [
      "Epoch: 2/20\n",
      "Epoch: 002, Training: Loss: 0.5282, Accuracy: 76.2446%, \n",
      "\t\tValidation: Loss: 0.5282, Accuracy: 80.5195%, Time: 2080.7630s\n",
      "Best Accuracy for validation : 0.8052 at epoch 002\n",
      "Epoch: 3/20\n",
      "Epoch: 003, Training: Loss: 0.4638, Accuracy: 78.9502%, \n",
      "\t\tValidation: Loss: 0.4638, Accuracy: 81.3853%, Time: 2084.4218s\n",
      "Best Accuracy for validation : 0.8139 at epoch 003\n",
      "Epoch: 4/20\n",
      "Epoch: 004, Training: Loss: 0.4354, Accuracy: 79.3831%, \n",
      "\t\tValidation: Loss: 0.4354, Accuracy: 81.3853%, Time: 2016.2490s\n",
      "Best Accuracy for validation : 0.8139 at epoch 004\n",
      "Epoch: 5/20\n",
      "Epoch: 005, Training: Loss: 0.4525, Accuracy: 82.1970%, \n",
      "\t\tValidation: Loss: 0.4525, Accuracy: 80.5195%, Time: 2010.2010s\n",
      "Best Accuracy for validation : 0.8139 at epoch 004\n",
      "Epoch: 6/20\n",
      "Epoch: 006, Training: Loss: 0.4564, Accuracy: 81.3853%, \n",
      "\t\tValidation: Loss: 0.4564, Accuracy: 79.6537%, Time: 2152.5306s\n",
      "Best Accuracy for validation : 0.8139 at epoch 004\n",
      "Epoch: 7/20\n",
      "Epoch: 007, Training: Loss: 0.4041, Accuracy: 82.5758%, \n",
      "\t\tValidation: Loss: 0.4041, Accuracy: 82.2511%, Time: 2042.4870s\n",
      "Best Accuracy for validation : 0.8225 at epoch 007\n",
      "Epoch: 8/20\n",
      "Epoch: 008, Training: Loss: 0.4426, Accuracy: 82.0887%, \n",
      "\t\tValidation: Loss: 0.4426, Accuracy: 81.3853%, Time: 2115.3357s\n",
      "Best Accuracy for validation : 0.8225 at epoch 007\n",
      "Epoch: 9/20\n",
      "Epoch: 009, Training: Loss: 0.5104, Accuracy: 83.1710%, \n",
      "\t\tValidation: Loss: 0.5104, Accuracy: 80.0866%, Time: 2267.3400s\n",
      "Best Accuracy for validation : 0.8225 at epoch 007\n",
      "Epoch: 10/20\n",
      "Epoch: 010, Training: Loss: 0.4000, Accuracy: 80.5736%, \n",
      "\t\tValidation: Loss: 0.4000, Accuracy: 85.7143%, Time: 2013.2270s\n",
      "Best Accuracy for validation : 0.8571 at epoch 010\n",
      "Epoch: 11/20\n",
      "Epoch: 011, Training: Loss: 0.4051, Accuracy: 82.9004%, \n",
      "\t\tValidation: Loss: 0.4051, Accuracy: 83.9827%, Time: 2007.6890s\n",
      "Best Accuracy for validation : 0.8571 at epoch 010\n",
      "Epoch: 12/20\n",
      "Epoch: 012, Training: Loss: 0.4387, Accuracy: 84.8485%, \n",
      "\t\tValidation: Loss: 0.4387, Accuracy: 80.9524%, Time: 2037.5120s\n",
      "Best Accuracy for validation : 0.8571 at epoch 010\n",
      "Epoch: 13/20\n",
      "Epoch: 013, Training: Loss: 0.4155, Accuracy: 83.5498%, \n",
      "\t\tValidation: Loss: 0.4155, Accuracy: 83.1169%, Time: 2219.2948s\n",
      "Best Accuracy for validation : 0.8571 at epoch 010\n",
      "Epoch: 14/20\n",
      "Epoch: 014, Training: Loss: 0.4098, Accuracy: 83.2251%, \n",
      "\t\tValidation: Loss: 0.4098, Accuracy: 82.6840%, Time: 1892.5084s\n",
      "Best Accuracy for validation : 0.8571 at epoch 010\n",
      "Epoch: 15/20\n",
      "Epoch: 015, Training: Loss: 0.3911, Accuracy: 84.4697%, \n",
      "\t\tValidation: Loss: 0.3911, Accuracy: 84.8485%, Time: 1888.4056s\n",
      "Best Accuracy for validation : 0.8571 at epoch 010\n",
      "Epoch: 16/20\n",
      "Epoch: 016, Training: Loss: 0.4572, Accuracy: 84.8485%, \n",
      "\t\tValidation: Loss: 0.4572, Accuracy: 83.5498%, Time: 1886.0470s\n",
      "Best Accuracy for validation : 0.8571 at epoch 010\n",
      "Epoch: 17/20\n",
      "Epoch: 017, Training: Loss: 0.4479, Accuracy: 85.4978%, \n",
      "\t\tValidation: Loss: 0.4479, Accuracy: 82.2511%, Time: 1883.1889s\n",
      "Best Accuracy for validation : 0.8571 at epoch 010\n",
      "Epoch: 18/20\n",
      "Epoch: 018, Training: Loss: 0.4296, Accuracy: 84.3615%, \n",
      "\t\tValidation: Loss: 0.4296, Accuracy: 83.5498%, Time: 1883.0235s\n",
      "Best Accuracy for validation : 0.8571 at epoch 010\n",
      "Epoch: 19/20\n",
      "Epoch: 019, Training: Loss: 0.3783, Accuracy: 85.1732%, \n",
      "\t\tValidation: Loss: 0.3783, Accuracy: 85.2814%, Time: 1886.4934s\n",
      "Best Accuracy for validation : 0.8571 at epoch 010\n",
      "Epoch: 20/20\n",
      "Epoch: 020, Training: Loss: 0.4130, Accuracy: 84.6861%, \n",
      "\t\tValidation: Loss: 0.4130, Accuracy: 84.4156%, Time: 1885.1346s\n",
      "Best Accuracy for validation : 0.8571 at epoch 010\n"
     ]
    }
   ],
   "source": [
    "num_epochs = 20\n",
    "trained_model, history = train_and_valid(my_model, loss_func, optimizer, num_epochs)"
   ]
  },
  {
   "cell_type": "code",
   "execution_count": 20,
   "metadata": {},
   "outputs": [
    {
     "data": {
      "image/png": "[encoded data removed]",
      "text/plain": [
       "<Figure size 432x288 with 1 Axes>"
      ]
     },
     "metadata": {
      "needs_background": "light"
     },
     "output_type": "display_data"
    },
    {
     "data": {
      "image/png": "[encoded data removed]",
      "text/plain": [
       "<Figure size 432x288 with 1 Axes>"
      ]
     },
     "metadata": {
      "needs_background": "light"
     },
     "output_type": "display_data"
    }
   ],
   "source": [
    "\n",
    "torch.save(history, 'F:\\DataSets/modles/'+'resnet101' + '_history.pt')\n",
    "\n",
    "history = np.array(history)\n",
    "plt.plot(history[:, 0:2])\n",
    "plt.legend(['Tr Loss', 'Val Loss'])\n",
    "plt.xlabel('Epoch Number')\n",
    "plt.ylabel('Loss')\n",
    "plt.ylim(0, 1)\n",
    "plt.savefig('resnet101_loss_curve.png')\n",
    "plt.show()\n",
    " \n",
    "plt.plot(history[:, 2:4]) \n",
    "plt.legend(['Tr Accuracy', 'Val Accuracy'])\n",
    "plt.xlabel('Epoch Number')\n",
    "plt.ylabel('Accuracy')\n",
    "plt.ylim(0, 1)\n",
    "plt.savefig('resnet101_accuracy_curve.png')\n",
    "plt.show()"
   ]
  },
  {
   "cell_type": "code",
   "execution_count": null,
   "metadata": {},
   "outputs": [],
   "source": []
  }
 ],
 "metadata": {
  "kernelspec": {
   "display_name": "Python 3",
   "language": "python",
   "name": "python3"
  },
  "language_info": {
   "codemirror_mode": {
    "name": "ipython",
    "version": 3
   },
   "file_extension": ".py",
   "mimetype": "text/x-python",
   "name": "python",
   "nbconvert_exporter": "python",
   "pygments_lexer": "ipython3",
   "version": "3.7.4"
  }
 },
 "nbformat": 4,
 "nbformat_minor": 4
}
