{
 "cells": [
  {
   "cell_type": "markdown",
   "metadata": {},
   "source": [
    "## 香农熵\n",
    "熵的定义为信息的期望值，在信息论与概率统计中，熵是表示随机变量不确定性的度量。如果待分类的事务可能划分在多个分类之中，则符号xi的信息量定义为：$$l(x_{i})=-log_{2}{p(x_{i})}$$\n",
    "通过上市，我们可以得到所有类别的信息，为了计算熵，我们需要计算所有类别所有可能值包含的信息期望值（数学期望），通过下面的公式得到：\n",
    "$$H=-\\sum_{i=1}^{n}{p(x_{i})\\log_{2}{p(x_{i})}}$$\n",
    "\n",
    "其中n是分类的数目，熵越大，随机变量的不确定性就越大。  \n",
    "当熵中的概率幼数据估计（特别是最大似然估计）得到时，所对应的熵称为经验熵。  \n",
    "数据估计：例如有10个数据，一共有两个类别，A类和B类，其中7个数据属于A类，则A类的概率为十分之七，其中3个属于B类，则该B类的概率即为十分之三。这个概率是我们根据数据数出来的。"
   ]
  },
  {
   "cell_type": "markdown",
   "metadata": {},
   "source": [
    "## 编写代码计算经验熵\n",
    "在编写代码之前，我们先对数据集进行属性标注。\n",
    "\n",
    "* 年龄：0代表青年，1代表中年，2代表老年；\n",
    "* 有工作：0代表否，1代表是；\n",
    "* 有自己的房子：0代表否，1代表是；\n",
    "* 信贷情况：0代表一般，1代表好，2代表非常好；\n",
    "* 类别(是否给贷款)：no代表否，yes代表是。  \n",
    "\n",
    "确定这些之后，我们就可以创建数据集，并计算经验熵了，代码编写如下："
   ]
  },
  {
   "cell_type": "code",
   "execution_count": 14,
   "metadata": {
    "ExecuteTime": {
     "end_time": "2019-10-26T07:23:00.785173Z",
     "start_time": "2019-10-26T07:23:00.764185Z"
    },
    "collapsed": true
   },
   "outputs": [],
   "source": [
    "from math import log\n",
    "\n",
    "def create_data_set():\n",
    "    dataSet = [[0, 0, 0, 0, 'no'],         #数据集\n",
    "            [0, 0, 0, 1, 'no'],\n",
    "            [0, 1, 0, 1, 'yes'],\n",
    "            [0, 1, 1, 0, 'yes'],\n",
    "            [0, 0, 0, 0, 'no'],\n",
    "            [1, 0, 0, 0, 'no'],\n",
    "            [1, 0, 0, 1, 'no'],\n",
    "            [1, 1, 1, 1, 'yes'],\n",
    "            [1, 0, 1, 2, 'yes'],\n",
    "            [1, 0, 1, 2, 'yes'],\n",
    "            [2, 0, 1, 2, 'yes'],\n",
    "            [2, 0, 1, 1, 'yes'],\n",
    "            [2, 1, 0, 1, 'yes'],\n",
    "            [2, 1, 0, 2, 'yes'],\n",
    "            [2, 0, 0, 0, 'no']]\n",
    "    labels = ['不放贷', '放贷']             #分类属性\n",
    "    return dataSet, labels                 #返回数据集和属性\n",
    "\n",
    "\n",
    "def calc_shannon_ent(dataSet):\n",
    "    '''\n",
    "    计算给定数据集的经验熵（香农熵）\n",
    "    '''\n",
    "    numEntires = len(dataSet)      # 计算数据集的行数\n",
    "    labelCounts = {}               # 保存每个标签出现次数的字典\n",
    "    \n",
    "    for featVec in dataSet:        # 对每组特征向量进行统计\n",
    "        currentLabel = featVec[-1]   # 提取标签\n",
    "        if currentLabel not in labelCounts.keys():\n",
    "            labelCounts[currentLabel] = 0\n",
    "        labelCounts[currentLabel] += 1\n",
    "        \n",
    "    shannonEnt = 0        # 经验熵\n",
    "    for key in labelCounts:\n",
    "        prod = float(labelCounts[key]) / numEntires  # 选择该标签的概率\n",
    "        shannonEnt -= prod *log(prod, 2)             # 使用公式计算\n",
    "    \n",
    "    return shannonEnt"
   ]
  },
  {
   "cell_type": "markdown",
   "metadata": {},
   "source": [
    "运行测试"
   ]
  },
  {
   "cell_type": "code",
   "execution_count": 15,
   "metadata": {
    "ExecuteTime": {
     "end_time": "2019-10-26T07:23:08.893282Z",
     "start_time": "2019-10-26T07:23:08.885284Z"
    },
    "collapsed": true
   },
   "outputs": [
    {
     "name": "stdout",
     "output_type": "stream",
     "text": [
      "[[0, 0, 0, 0, 'no'], [0, 0, 0, 1, 'no'], [0, 1, 0, 1, 'yes'], [0, 1, 1, 0, 'yes'], [0, 0, 0, 0, 'no'], [1, 0, 0, 0, 'no'], [1, 0, 0, 1, 'no'], [1, 1, 1, 1, 'yes'], [1, 0, 1, 2, 'yes'], [1, 0, 1, 2, 'yes'], [2, 0, 1, 2, 'yes'], [2, 0, 1, 1, 'yes'], [2, 1, 0, 1, 'yes'], [2, 1, 0, 2, 'yes'], [2, 0, 0, 0, 'no']]\n",
      "0.9709505944546686\n"
     ]
    }
   ],
   "source": [
    "dataSet, features = create_data_set()\n",
    "print(dataSet)\n",
    "print(calc_shannon_ent(dataSet))"
   ]
  },
  {
   "cell_type": "markdown",
   "metadata": {},
   "source": [
    "## 信息增益\n",
    "如何选择特征，需要看信息增益，信息增益是相对于特征而言的，信息增益越大，特征对最终的分类结果影响也就越大，我们应该选择对最终分类结果影响最大的那个特征作为我们的分类特征。\n",
    "### 条件熵\n",
    "$H(Y|X)$表示在已知随机变量X的条件下随机变量Y的不确定性，随机变量X给的的条件下随机变量Y的条件熵$H(Y|X)$，定义为X给定条件下Y的条件概率分布的熵对X的数学期望：\n",
    "$$H(Y|X)=\\sum_{i=1}^{n}{p_{i}H(Y|X=x_{i})}$$\n",
    "这里，$$p_{i}=P(X=x_i),i=1,2,...,n$$\n",
    "同理，当条件熵中的概率由数据估计得到时，所对应的条件熵称为条件经验熵。  \n",
    "\n",
    "信息增益相对于特征而言，所以，特征A对训练数据集D的信息增益$g(D,A)$，定义为集合D的经验熵$H(D)$与特征A给定条件下D的经验条件熵$H(D|A)$之差，即：\n",
    "$$g(D,A)=H(D)-H(D|A)$$"
   ]
  },
  {
   "cell_type": "markdown",
   "metadata": {},
   "source": [
    "## 代码计算信息增益"
   ]
  },
  {
   "cell_type": "code",
   "execution_count": 16,
   "metadata": {
    "ExecuteTime": {
     "end_time": "2019-10-26T07:23:15.996431Z",
     "start_time": "2019-10-26T07:23:15.986432Z"
    },
    "collapsed": true
   },
   "outputs": [
    {
     "name": "stdout",
     "output_type": "stream",
     "text": [
      "[[0, 0, 0, 'no'], [0, 0, 1, 'no'], [1, 0, 1, 'yes'], [1, 1, 0, 'yes'], [0, 0, 0, 'no']]\n"
     ]
    }
   ],
   "source": [
    "def split_data_set(dataSet, axis, value):\n",
    "    \"\"\"\n",
    "    按照给定特征划分数据集\n",
    "    \"\"\"\n",
    "    retDataSet = []\n",
    "    for featVec in dataSet:\n",
    "        if featVec[axis] == value:\n",
    "            reduceFeatVec = featVec[:axis]\n",
    "            reduceFeatVec.extend(featVec[axis+1:])\n",
    "            retDataSet.append(reduceFeatVec)\n",
    "            \n",
    "    return retDataSet\n",
    "\n",
    "print(split_data_set(dataSet, 0, 0))"
   ]
  },
  {
   "cell_type": "code",
   "execution_count": 18,
   "metadata": {
    "ExecuteTime": {
     "end_time": "2019-10-26T07:35:55.883702Z",
     "start_time": "2019-10-26T07:35:55.870703Z"
    },
    "collapsed": true
   },
   "outputs": [
    {
     "name": "stdout",
     "output_type": "stream",
     "text": [
      "第0个特征的增益为0.083\n",
      "第1个特征的增益为0.324\n",
      "第2个特征的增益为0.420\n",
      "第3个特征的增益为0.363\n",
      "最优特征索引值：2\n"
     ]
    }
   ],
   "source": [
    "def choose_best_feature(dataSet):\n",
    "    \"\"\"\n",
    "    选择最优特征\n",
    "    Parameters:\n",
    "        bestFeature-信息增益最大的特征的索引值\n",
    "    \"\"\"\n",
    "    numFeatures = len(dataSet[0]) - 1    # 特征数量\n",
    "    baseEntropy = calc_shannon_ent(dataSet)  # 计算数据集的香农熵\n",
    "    bestInfoGain = 0      # 信息增益\n",
    "    bestFeature = -1      # 最优特征的索引\n",
    "    \n",
    "    for i in range(numFeatures):\n",
    "        featList = [examle[i] for examle in dataSet]\n",
    "        uniqueVals = set(featList)  # 创建set集合，元素不可重复\n",
    "        newEntropy = 0              # 经验条件熵\n",
    "        \n",
    "        for value in uniqueVals:\n",
    "            subDataSet = split_data_set(dataSet, i, value)\n",
    "            # 计算子集的概率\n",
    "            prob = len(subDataSet)/float(len(dataSet))  \n",
    "            # 计算当前特征的经验熵\n",
    "            newEntropy += prob * calc_shannon_ent(subDataSet)\n",
    "        # 信息增益计算\n",
    "        infoGain = baseEntropy - newEntropy\n",
    "        print(\"第%d个特征的增益为%.3f\" % (i, infoGain))\n",
    "        \n",
    "        if infoGain > bestInfoGain:\n",
    "            bestInfoGain = infoGain  # 更新信息增益，找到最大增益\n",
    "            bestFeature = i         # 找出信息增益最大的特征索引\n",
    "            \n",
    "    return bestFeature\n",
    "\n",
    "print(\"最优特征索引值：\"+str(choose_best_feature(dataSet)))"
   ]
  },
  {
   "cell_type": "markdown",
   "metadata": {},
   "source": [
    "## 决策树的构建\n",
    "### ID3算法\n",
    "ID3算法的核心是在决策树各个节点上对应信息增益准则选择特征，递归地构建决策树。  \n",
    "具体方法：从根结点开始，对结点计算所有可能的特征的信息增益，选择信息增益最大的特征作为结点的特征，由该特征的不同取值建立子节点；再对子节点递归地调用以上方法，构建决策树；直到所有特征的信息增益均很小或没有特征可以选取为止。最后得到一个决策树。ID3相当于用极大似然法进行概率模型的选择。"
   ]
  },
  {
   "cell_type": "markdown",
   "metadata": {},
   "source": [
    "### 代码构建决策树\n",
    "使用字典存储决策树的结构，比如以上我们分析的决策树，用字典可以表示为："
   ]
  },
  {
   "cell_type": "code",
   "execution_count": 19,
   "metadata": {
    "ExecuteTime": {
     "end_time": "2019-10-26T07:49:54.498516Z",
     "start_time": "2019-10-26T07:49:54.468530Z"
    },
    "collapsed": true
   },
   "outputs": [
    {
     "data": {
      "text/plain": [
       "{'有自己的房子': {0: {'有工作': {0: 'no', 1: 'yes'}}, 1: 'yes'}}"
      ]
     },
     "execution_count": 19,
     "metadata": {},
     "output_type": "execute_result"
    }
   ],
   "source": [
    "{'有自己的房子':{0:{'有工作':{0:'no', 1:'yes'}}, 1:'yes'}}"
   ]
  },
  {
   "cell_type": "markdown",
   "metadata": {},
   "source": [
    "创建函数majority_cnt统计classList中出现此处最多的元素（类标签），创建函数create_Tree用来递归构建决策树。代码如下："
   ]
  },
  {
   "cell_type": "code",
   "execution_count": 22,
   "metadata": {
    "ExecuteTime": {
     "end_time": "2019-10-26T08:48:10.851617Z",
     "start_time": "2019-10-26T08:48:10.805623Z"
    }
   },
   "outputs": [
    {
     "name": "stdout",
     "output_type": "stream",
     "text": [
      "第0个特征的增益为0.083\n",
      "第1个特征的增益为0.324\n",
      "第2个特征的增益为0.420\n",
      "第3个特征的增益为0.363\n"
     ]
    },
    {
     "ename": "IndexError",
     "evalue": "list index out of range",
     "output_type": "error",
     "traceback": [
      "\u001b[1;31m---------------------------------------------------------------------------\u001b[0m",
      "\u001b[1;31mIndexError\u001b[0m                                Traceback (most recent call last)",
      "\u001b[1;32m<ipython-input-22-09f301f5fb0d>\u001b[0m in \u001b[0;36m<module>\u001b[1;34m\u001b[0m\n\u001b[0;32m     54\u001b[0m \u001b[0mdataSet\u001b[0m\u001b[1;33m,\u001b[0m \u001b[0mlabels\u001b[0m \u001b[1;33m=\u001b[0m \u001b[0mcreate_data_set\u001b[0m\u001b[1;33m(\u001b[0m\u001b[1;33m)\u001b[0m\u001b[1;33m\u001b[0m\u001b[1;33m\u001b[0m\u001b[0m\n\u001b[0;32m     55\u001b[0m \u001b[0mfeatLabels\u001b[0m \u001b[1;33m=\u001b[0m \u001b[1;33m[\u001b[0m\u001b[1;33m]\u001b[0m\u001b[1;33m\u001b[0m\u001b[1;33m\u001b[0m\u001b[0m\n\u001b[1;32m---> 56\u001b[1;33m \u001b[0mmyTree\u001b[0m \u001b[1;33m=\u001b[0m \u001b[0mcreate_tree\u001b[0m\u001b[1;33m(\u001b[0m\u001b[0mdataSet\u001b[0m\u001b[1;33m,\u001b[0m \u001b[0mlabels\u001b[0m\u001b[1;33m,\u001b[0m \u001b[0mfeatLabels\u001b[0m\u001b[1;33m)\u001b[0m\u001b[1;33m\u001b[0m\u001b[1;33m\u001b[0m\u001b[0m\n\u001b[0m\u001b[0;32m     57\u001b[0m \u001b[0mprint\u001b[0m\u001b[1;33m(\u001b[0m\u001b[0mmyTree\u001b[0m\u001b[1;33m)\u001b[0m\u001b[1;33m\u001b[0m\u001b[1;33m\u001b[0m\u001b[0m\n",
      "\u001b[1;32m<ipython-input-22-09f301f5fb0d>\u001b[0m in \u001b[0;36mcreate_tree\u001b[1;34m(dataSet, labels, featLabels)\u001b[0m\n\u001b[0;32m     34\u001b[0m \u001b[1;33m\u001b[0m\u001b[0m\n\u001b[0;32m     35\u001b[0m     \u001b[0mbestFeat\u001b[0m \u001b[1;33m=\u001b[0m \u001b[0mchoose_best_feature\u001b[0m\u001b[1;33m(\u001b[0m\u001b[0mdataSet\u001b[0m\u001b[1;33m)\u001b[0m    \u001b[1;31m# 选择最优特征\u001b[0m\u001b[1;33m\u001b[0m\u001b[1;33m\u001b[0m\u001b[0m\n\u001b[1;32m---> 36\u001b[1;33m     \u001b[0mbestFeatLabel\u001b[0m \u001b[1;33m=\u001b[0m \u001b[0mlabels\u001b[0m\u001b[1;33m[\u001b[0m\u001b[0mbestFeat\u001b[0m\u001b[1;33m]\u001b[0m           \u001b[1;31m# 最优特征的标签\u001b[0m\u001b[1;33m\u001b[0m\u001b[1;33m\u001b[0m\u001b[0m\n\u001b[0m\u001b[0;32m     37\u001b[0m     \u001b[0mfeatLabels\u001b[0m\u001b[1;33m.\u001b[0m\u001b[0mappend\u001b[0m\u001b[1;33m(\u001b[0m\u001b[0mbestFeatLabel\u001b[0m\u001b[1;33m)\u001b[0m\u001b[1;33m\u001b[0m\u001b[1;33m\u001b[0m\u001b[0m\n\u001b[0;32m     38\u001b[0m \u001b[1;33m\u001b[0m\u001b[0m\n",
      "\u001b[1;31mIndexError\u001b[0m: list index out of range"
     ]
    }
   ],
   "source": [
    "import operator\n",
    "\n",
    "def majority_cnt(classList):\n",
    "    \"\"\"\n",
    "    统计classList中出现此处最多的元素（类标签）\n",
    "    \"\"\"\n",
    "    classCount = {}\n",
    "    for vote in classList:\n",
    "        if vote not in classCount.keys():\n",
    "            classCount[vote] = 0\n",
    "        classCount[vote] += 1\n",
    "    # 根据字典的值降序排序    \n",
    "    sortedClassCount = sorted(classCount.items(),\n",
    "                              key=operator.itemgetter(1), reverse=True)\n",
    "    # 返回classList中出现最多的元素\n",
    "    return sortedClassCount[0][0]\n",
    "\n",
    "\n",
    "def create_tree(dataSet, labels, featLabels):\n",
    "    \"\"\"\n",
    "    创建决策树\n",
    "    \n",
    "    Parameter：\n",
    "        dataSet - 训练数据集\n",
    "        labels - 分类属性标签\n",
    "        featLabels - 存储选择的最优特征标签\n",
    "    \"\"\"\n",
    "    classList = [example[-1] for example in dataSet]   # 取分类标签（是否放贷）\n",
    "    if classList.count(classList[0]) == len(classList):  # 如果类别完全相同，则停止划分\n",
    "        return classList[0]\n",
    "    \n",
    "    if len(dataSet[0]) == 1 or len(labels) == 0:\n",
    "        return majority_cnt(classList)\n",
    "    \n",
    "    bestFeat = choose_best_feature(dataSet)    # 选择最优特征\n",
    "    bestFeatLabel = labels[bestFeat]           # 最优特征的标签\n",
    "    featLabels.append(bestFeatLabel)\n",
    "    \n",
    "    myTree = {bestFeatLabel:{}}      # 根据最优特征的标签生成树\n",
    "    del(labels[bestFeatLabel])       # 删除已经使用的特征标签\n",
    "    \n",
    "    # 得到训练集中所有最优特征的属性值\n",
    "    featValues = [example[bestFeat] for example in dataSet]\n",
    "    uniqueVals = set(featValues)    # 去掉重复的属性值\n",
    "    # 遍历特征，创建决策树\n",
    "    for value in uniqueVals:\n",
    "        subLabels = labels[:]\n",
    "        myTree[bestFeatLabel][value] = create_tree(\n",
    "            split_data_set(dataSet, bestFeat, value),\n",
    "            subLabels, featLabels)\n",
    "        \n",
    "    return myTree\n",
    "\n",
    "dataSet, labels = create_data_set()\n",
    "featLabels = []\n",
    "myTree = create_tree(dataSet, labels, featLabels)\n",
    "print(myTree)"
   ]
  },
  {
   "cell_type": "code",
   "execution_count": 1,
   "metadata": {
    "ExecuteTime": {
     "end_time": "2019-10-26T15:22:27.384249Z",
     "start_time": "2019-10-26T15:22:27.366243Z"
    }
   },
   "outputs": [
    {
     "name": "stdout",
     "output_type": "stream",
     "text": [
      "aaa\n"
     ]
    }
   ],
   "source": [
    "print(\"aaa\")"
   ]
  },
  {
   "cell_type": "code",
   "execution_count": null,
   "metadata": {},
   "outputs": [],
   "source": []
  }
 ],
 "metadata": {
  "kernelspec": {
   "display_name": "Python 3",
   "language": "python",
   "name": "python3"
  },
  "language_info": {
   "codemirror_mode": {
    "name": "ipython",
    "version": 3
   },
   "file_extension": ".py",
   "mimetype": "text/x-python",
   "name": "python",
   "nbconvert_exporter": "python",
   "pygments_lexer": "ipython3",
   "version": "3.7.2"
  },
  "toc": {
   "base_numbering": 1,
   "nav_menu": {},
   "number_sections": true,
   "sideBar": true,
   "skip_h1_title": false,
   "title_cell": "Table of Contents",
   "title_sidebar": "Contents",
   "toc_cell": false,
   "toc_position": {},
   "toc_section_display": true,
   "toc_window_display": false
  }
 },
 "nbformat": 4,
 "nbformat_minor": 2
}
