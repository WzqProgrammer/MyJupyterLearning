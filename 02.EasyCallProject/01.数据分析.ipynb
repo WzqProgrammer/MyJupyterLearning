{
 "cells": [
  {
   "cell_type": "code",
   "execution_count": 3,
   "metadata": {},
   "outputs": [],
   "source": [
    "import numpy as np\n",
    "import pandas as pd\n",
    "import matplotlib.pyplot as plt"
   ]
  },
  {
   "cell_type": "code",
   "execution_count": 4,
   "metadata": {},
   "outputs": [],
   "source": [
    "path = \"F:/14.EasyCallProject/EasyCallData.xlsx\""
   ]
  },
  {
   "cell_type": "code",
   "execution_count": 5,
   "metadata": {},
   "outputs": [],
   "source": [
    "df_all = pd.read_excel(path)"
   ]
  },
  {
   "cell_type": "code",
   "execution_count": 6,
   "metadata": {},
   "outputs": [],
   "source": [
    "tags = df_all.columns"
   ]
  },
  {
   "cell_type": "code",
   "execution_count": 7,
   "metadata": {},
   "outputs": [
    {
     "data": {
      "text/plain": [
       "Index(['PROD_ID', 'ACCESS_NUMBER', 'CALL_DT', 'ONLINE_MONTHS', 'VIP_LEVEL',\n",
       "       'GENDER', 'AGE', 'IF_GROUP', 'IF_SCHOOL', 'BRD_F', 'BRD_RAX',\n",
       "       'BRD_ACTIVE_DAYS', 'IF_ITV', 'IF_DBL_CARD', 'IF_4G_TRMNL',\n",
       "       'TRMNL_MONTHS', 'IF_VOLTE', 'MBL_DATA_FLOW_AMNT00',\n",
       "       'MBL_DATA_FLOW_AMNT01', 'MBL_DATA_FLOW_AMNT02', 'MBL_DATA_FLOW_AMNT03',\n",
       "       'MBL_VOICE_DRTN00', 'MBL_VOICE_DRTN01', 'MBL_VOICE_DRTN02',\n",
       "       'MBL_VOICE_DRTN03', 'MBL_DATA_4G_FLOW_AMNT00',\n",
       "       'MBL_DATA_OTHER_FLOW_AMNT00'],\n",
       "      dtype='object')"
      ]
     },
     "execution_count": 7,
     "metadata": {},
     "output_type": "execute_result"
    }
   ],
   "source": [
    "tags"
   ]
  },
  {
   "cell_type": "code",
   "execution_count": 8,
   "metadata": {},
   "outputs": [
    {
     "data": {
      "text/plain": [
       "71616"
      ]
     },
     "execution_count": 8,
     "metadata": {},
     "output_type": "execute_result"
    }
   ],
   "source": [
    "len(df_all.PROD_ID.unique())"
   ]
  },
  {
   "cell_type": "code",
   "execution_count": 13,
   "metadata": {},
   "outputs": [
    {
     "data": {
      "text/plain": [
       "213"
      ]
     },
     "execution_count": 13,
     "metadata": {},
     "output_type": "execute_result"
    }
   ],
   "source": [
    "df_all.ONLINE_MONTHS.max()"
   ]
  },
  {
   "cell_type": "code",
   "execution_count": 10,
   "metadata": {},
   "outputs": [
    {
     "data": {
      "text/plain": [
       "pandas.core.series.Series"
      ]
     },
     "execution_count": 10,
     "metadata": {},
     "output_type": "execute_result"
    }
   ],
   "source": [
    "type(df_all.ONLINE_MONTHS)"
   ]
  },
  {
   "cell_type": "code",
   "execution_count": 23,
   "metadata": {},
   "outputs": [],
   "source": [
    "def compulete_count_normalized(data, min_v, max_v, space):\n",
    "    \"\"\"\n",
    "    统计一列中各个区间中数值的个数和其对应归一化的值\n",
    "    data: 列的Series形式\n",
    "    min_v: 区间最小值\n",
    "    max_v: 区间最大值\n",
    "    space： 区间间隔\n",
    "    \"\"\"\n",
    "    # 需要分段的区间\n",
    "    sections = [x for x in range(min_v, max_v, space)]\n",
    "    # 每个区间中的个数\n",
    "    counts = []\n",
    "    # 每个区间中的个数的比例即归一化\n",
    "    counts_normalize = []\n",
    "    for i in range(0, len(sections)-1):\n",
    "        # 区间中个数统计\n",
    "        part_count = data.value_counts(bins=[sections[i], sections[i+1]-1])\n",
    "        part_count_normalize = data.value_counts(bins=[sections[i], sections[i+1]-1], normalize=True)\n",
    "        counts.append(part_count)\n",
    "        counts_normalize.append(part_count_normalize)\n",
    "    # 合并Series\n",
    "    result1 = pd.DataFrame(pd.concat([x for x in counts]))\n",
    "    result2 = pd.DataFrame(pd.concat([x for x in counts_normalize]))\n",
    "    # 对列的标签进行重命名\n",
    "    result1.rename(columns={result1.columns[0]:'counts'},inplace=True)\n",
    "    result2.rename(columns={result2.columns[0]:'normalized'}, inplace=True)\n",
    "    # 合并两个表\n",
    "    result = pd.concat([result1, result2], axis=1)\n",
    "    return result"
   ]
  },
  {
   "cell_type": "code",
   "execution_count": 31,
   "metadata": {},
   "outputs": [],
   "source": [
    "def compulete_count_normalized_categories(data):\n",
    "    \"\"\"\n",
    "    统计类别的个数及其归一化值\n",
    "    \"\"\"\n",
    "    counts = data.value_counts()\n",
    "    counts_normalize = data.value_counts(normalize=True)\n",
    "    # 合并Series\n",
    "    result1 = pd.DataFrame(counts)\n",
    "    result2 = pd.DataFrame(counts_normalize)\n",
    "    # 对列的标签进行重命名\n",
    "    result1.rename(columns={result1.columns[0]:'counts'},inplace=True)\n",
    "    result2.rename(columns={result2.columns[0]:'normalized'}, inplace=True)\n",
    "    # 合并两个表\n",
    "    result = pd.concat([result1, result2], axis=1)\n",
    "    return result"
   ]
  },
  {
   "cell_type": "markdown",
   "metadata": {},
   "source": [
    "# 对ONLINE_MONTHS的统计分析"
   ]
  },
  {
   "cell_type": "code",
   "execution_count": 24,
   "metadata": {},
   "outputs": [
    {
     "name": "stdout",
     "output_type": "stream",
     "text": [
      "<class 'pandas.core.series.Series'>\n"
     ]
    }
   ],
   "source": [
    "myresult = compulete_count_normalized(df_all.ONLINE_MONTHS, 0, 230, 10)"
   ]
  },
  {
   "cell_type": "code",
   "execution_count": 25,
   "metadata": {},
   "outputs": [
    {
     "data": {
      "text/html": [
       "<div>\n",
       "<style scoped>\n",
       "    .dataframe tbody tr th:only-of-type {\n",
       "        vertical-align: middle;\n",
       "    }\n",
       "\n",
       "    .dataframe tbody tr th {\n",
       "        vertical-align: top;\n",
       "    }\n",
       "\n",
       "    .dataframe thead th {\n",
       "        text-align: right;\n",
       "    }\n",
       "</style>\n",
       "<table border=\"1\" class=\"dataframe\">\n",
       "  <thead>\n",
       "    <tr style=\"text-align: right;\">\n",
       "      <th></th>\n",
       "      <th>counts</th>\n",
       "      <th>normalized</th>\n",
       "    </tr>\n",
       "  </thead>\n",
       "  <tbody>\n",
       "    <tr>\n",
       "      <td>(-0.001, 9.0]</td>\n",
       "      <td>9995</td>\n",
       "      <td>0.139564</td>\n",
       "    </tr>\n",
       "    <tr>\n",
       "      <td>(9.999, 19.0]</td>\n",
       "      <td>11498</td>\n",
       "      <td>0.160551</td>\n",
       "    </tr>\n",
       "    <tr>\n",
       "      <td>(19.999, 29.0]</td>\n",
       "      <td>6624</td>\n",
       "      <td>0.092493</td>\n",
       "    </tr>\n",
       "    <tr>\n",
       "      <td>(29.999, 39.0]</td>\n",
       "      <td>4466</td>\n",
       "      <td>0.062360</td>\n",
       "    </tr>\n",
       "    <tr>\n",
       "      <td>(39.999, 49.0]</td>\n",
       "      <td>4016</td>\n",
       "      <td>0.056077</td>\n",
       "    </tr>\n",
       "    <tr>\n",
       "      <td>(49.999, 59.0]</td>\n",
       "      <td>3619</td>\n",
       "      <td>0.050533</td>\n",
       "    </tr>\n",
       "    <tr>\n",
       "      <td>(59.999, 69.0]</td>\n",
       "      <td>3782</td>\n",
       "      <td>0.052809</td>\n",
       "    </tr>\n",
       "    <tr>\n",
       "      <td>(69.999, 79.0]</td>\n",
       "      <td>3828</td>\n",
       "      <td>0.053452</td>\n",
       "    </tr>\n",
       "    <tr>\n",
       "      <td>(79.999, 89.0]</td>\n",
       "      <td>3698</td>\n",
       "      <td>0.051637</td>\n",
       "    </tr>\n",
       "    <tr>\n",
       "      <td>(89.999, 99.0]</td>\n",
       "      <td>3539</td>\n",
       "      <td>0.049416</td>\n",
       "    </tr>\n",
       "    <tr>\n",
       "      <td>(99.999, 109.0]</td>\n",
       "      <td>4658</td>\n",
       "      <td>0.065041</td>\n",
       "    </tr>\n",
       "    <tr>\n",
       "      <td>(109.999, 119.0]</td>\n",
       "      <td>5402</td>\n",
       "      <td>0.075430</td>\n",
       "    </tr>\n",
       "    <tr>\n",
       "      <td>(119.999, 129.0]</td>\n",
       "      <td>4414</td>\n",
       "      <td>0.061634</td>\n",
       "    </tr>\n",
       "    <tr>\n",
       "      <td>(129.999, 139.0]</td>\n",
       "      <td>705</td>\n",
       "      <td>0.009844</td>\n",
       "    </tr>\n",
       "    <tr>\n",
       "      <td>(139.999, 149.0]</td>\n",
       "      <td>177</td>\n",
       "      <td>0.002472</td>\n",
       "    </tr>\n",
       "    <tr>\n",
       "      <td>(149.999, 159.0]</td>\n",
       "      <td>117</td>\n",
       "      <td>0.001634</td>\n",
       "    </tr>\n",
       "    <tr>\n",
       "      <td>(159.999, 169.0]</td>\n",
       "      <td>100</td>\n",
       "      <td>0.001396</td>\n",
       "    </tr>\n",
       "    <tr>\n",
       "      <td>(169.999, 179.0]</td>\n",
       "      <td>153</td>\n",
       "      <td>0.002136</td>\n",
       "    </tr>\n",
       "    <tr>\n",
       "      <td>(179.999, 189.0]</td>\n",
       "      <td>241</td>\n",
       "      <td>0.003365</td>\n",
       "    </tr>\n",
       "    <tr>\n",
       "      <td>(189.999, 199.0]</td>\n",
       "      <td>294</td>\n",
       "      <td>0.004105</td>\n",
       "    </tr>\n",
       "    <tr>\n",
       "      <td>(199.999, 209.0]</td>\n",
       "      <td>272</td>\n",
       "      <td>0.003798</td>\n",
       "    </tr>\n",
       "    <tr>\n",
       "      <td>(209.999, 219.0]</td>\n",
       "      <td>18</td>\n",
       "      <td>0.000251</td>\n",
       "    </tr>\n",
       "  </tbody>\n",
       "</table>\n",
       "</div>"
      ],
      "text/plain": [
       "                  counts  normalized\n",
       "(-0.001, 9.0]       9995    0.139564\n",
       "(9.999, 19.0]      11498    0.160551\n",
       "(19.999, 29.0]      6624    0.092493\n",
       "(29.999, 39.0]      4466    0.062360\n",
       "(39.999, 49.0]      4016    0.056077\n",
       "(49.999, 59.0]      3619    0.050533\n",
       "(59.999, 69.0]      3782    0.052809\n",
       "(69.999, 79.0]      3828    0.053452\n",
       "(79.999, 89.0]      3698    0.051637\n",
       "(89.999, 99.0]      3539    0.049416\n",
       "(99.999, 109.0]     4658    0.065041\n",
       "(109.999, 119.0]    5402    0.075430\n",
       "(119.999, 129.0]    4414    0.061634\n",
       "(129.999, 139.0]     705    0.009844\n",
       "(139.999, 149.0]     177    0.002472\n",
       "(149.999, 159.0]     117    0.001634\n",
       "(159.999, 169.0]     100    0.001396\n",
       "(169.999, 179.0]     153    0.002136\n",
       "(179.999, 189.0]     241    0.003365\n",
       "(189.999, 199.0]     294    0.004105\n",
       "(199.999, 209.0]     272    0.003798\n",
       "(209.999, 219.0]      18    0.000251"
      ]
     },
     "execution_count": 25,
     "metadata": {},
     "output_type": "execute_result"
    }
   ],
   "source": [
    "myresult"
   ]
  },
  {
   "cell_type": "code",
   "execution_count": 37,
   "metadata": {},
   "outputs": [
    {
     "data": {
      "text/plain": [
       "<matplotlib.axes._subplots.AxesSubplot at 0x1fbfcb26d08>"
      ]
     },
     "execution_count": 37,
     "metadata": {},
     "output_type": "execute_result"
    },
    {
     "data": {
      "image/png": "[encoded data removed]",
      "text/plain": [
       "<Figure size 720x720 with 1 Axes>"
      ]
     },
     "metadata": {
      "needs_background": "light"
     },
     "output_type": "display_data"
    }
   ],
   "source": [
    "myresult.plot.bar(figsize=(10, 10))"
   ]
  },
  {
   "cell_type": "markdown",
   "metadata": {},
   "source": [
    "# 对GENDER的统计分析"
   ]
  },
  {
   "cell_type": "code",
   "execution_count": 32,
   "metadata": {},
   "outputs": [],
   "source": [
    "gender_result = compulete_count_normalized_categories(df_all.GENDER)"
   ]
  },
  {
   "cell_type": "code",
   "execution_count": 33,
   "metadata": {},
   "outputs": [
    {
     "data": {
      "text/html": [
       "<div>\n",
       "<style scoped>\n",
       "    .dataframe tbody tr th:only-of-type {\n",
       "        vertical-align: middle;\n",
       "    }\n",
       "\n",
       "    .dataframe tbody tr th {\n",
       "        vertical-align: top;\n",
       "    }\n",
       "\n",
       "    .dataframe thead th {\n",
       "        text-align: right;\n",
       "    }\n",
       "</style>\n",
       "<table border=\"1\" class=\"dataframe\">\n",
       "  <thead>\n",
       "    <tr style=\"text-align: right;\">\n",
       "      <th></th>\n",
       "      <th>counts</th>\n",
       "      <th>normalized</th>\n",
       "    </tr>\n",
       "  </thead>\n",
       "  <tbody>\n",
       "    <tr>\n",
       "      <td>1.0</td>\n",
       "      <td>45728</td>\n",
       "      <td>0.706093</td>\n",
       "    </tr>\n",
       "    <tr>\n",
       "      <td>2.0</td>\n",
       "      <td>19034</td>\n",
       "      <td>0.293907</td>\n",
       "    </tr>\n",
       "  </tbody>\n",
       "</table>\n",
       "</div>"
      ],
      "text/plain": [
       "     counts  normalized\n",
       "1.0   45728    0.706093\n",
       "2.0   19034    0.293907"
      ]
     },
     "execution_count": 33,
     "metadata": {},
     "output_type": "execute_result"
    }
   ],
   "source": [
    "gender_result"
   ]
  },
  {
   "cell_type": "code",
   "execution_count": 36,
   "metadata": {},
   "outputs": [
    {
     "data": {
      "text/plain": [
       "<matplotlib.axes._subplots.AxesSubplot at 0x1fbff8cd788>"
      ]
     },
     "execution_count": 36,
     "metadata": {},
     "output_type": "execute_result"
    },
    {
     "data": {
      "image/png": "[encoded data removed]",
      "text/plain": [
       "<Figure size 720x720 with 1 Axes>"
      ]
     },
     "metadata": {},
     "output_type": "display_data"
    }
   ],
   "source": [
    "gender_result.plot.pie(y='normalized', figsize=(10, 10))"
   ]
  },
  {
   "cell_type": "markdown",
   "metadata": {},
   "source": [
    "性别为1的用户所占比重极大"
   ]
  },
  {
   "cell_type": "markdown",
   "metadata": {},
   "source": [
    "# 对AGE的统计分析"
   ]
  },
  {
   "cell_type": "code",
   "execution_count": 38,
   "metadata": {},
   "outputs": [
    {
     "data": {
      "text/plain": [
       "15.0"
      ]
     },
     "execution_count": 38,
     "metadata": {},
     "output_type": "execute_result"
    }
   ],
   "source": [
    "df_all.AGE.min()"
   ]
  },
  {
   "cell_type": "code",
   "execution_count": 39,
   "metadata": {},
   "outputs": [
    {
     "data": {
      "text/plain": [
       "100.0"
      ]
     },
     "execution_count": 39,
     "metadata": {},
     "output_type": "execute_result"
    }
   ],
   "source": [
    "df_all.AGE.max()"
   ]
  },
  {
   "cell_type": "code",
   "execution_count": 40,
   "metadata": {},
   "outputs": [
    {
     "name": "stdout",
     "output_type": "stream",
     "text": [
      "<class 'pandas.core.series.Series'>\n"
     ]
    }
   ],
   "source": [
    "result_age = compulete_count_normalized(df_all.AGE, 10, 110, 10)"
   ]
  },
  {
   "cell_type": "code",
   "execution_count": 41,
   "metadata": {},
   "outputs": [
    {
     "data": {
      "text/html": [
       "<div>\n",
       "<style scoped>\n",
       "    .dataframe tbody tr th:only-of-type {\n",
       "        vertical-align: middle;\n",
       "    }\n",
       "\n",
       "    .dataframe tbody tr th {\n",
       "        vertical-align: top;\n",
       "    }\n",
       "\n",
       "    .dataframe thead th {\n",
       "        text-align: right;\n",
       "    }\n",
       "</style>\n",
       "<table border=\"1\" class=\"dataframe\">\n",
       "  <thead>\n",
       "    <tr style=\"text-align: right;\">\n",
       "      <th></th>\n",
       "      <th>counts</th>\n",
       "      <th>normalized</th>\n",
       "    </tr>\n",
       "  </thead>\n",
       "  <tbody>\n",
       "    <tr>\n",
       "      <td>(9.999, 19.0]</td>\n",
       "      <td>4</td>\n",
       "      <td>0.000056</td>\n",
       "    </tr>\n",
       "    <tr>\n",
       "      <td>(19.999, 29.0]</td>\n",
       "      <td>4670</td>\n",
       "      <td>0.065209</td>\n",
       "    </tr>\n",
       "    <tr>\n",
       "      <td>(29.999, 39.0]</td>\n",
       "      <td>15419</td>\n",
       "      <td>0.215301</td>\n",
       "    </tr>\n",
       "    <tr>\n",
       "      <td>(39.999, 49.0]</td>\n",
       "      <td>15161</td>\n",
       "      <td>0.211699</td>\n",
       "    </tr>\n",
       "    <tr>\n",
       "      <td>(49.999, 59.0]</td>\n",
       "      <td>16109</td>\n",
       "      <td>0.224936</td>\n",
       "    </tr>\n",
       "    <tr>\n",
       "      <td>(59.999, 69.0]</td>\n",
       "      <td>7914</td>\n",
       "      <td>0.110506</td>\n",
       "    </tr>\n",
       "    <tr>\n",
       "      <td>(69.999, 79.0]</td>\n",
       "      <td>3966</td>\n",
       "      <td>0.055379</td>\n",
       "    </tr>\n",
       "    <tr>\n",
       "      <td>(79.999, 89.0]</td>\n",
       "      <td>1172</td>\n",
       "      <td>0.016365</td>\n",
       "    </tr>\n",
       "    <tr>\n",
       "      <td>(89.999, 99.0]</td>\n",
       "      <td>342</td>\n",
       "      <td>0.004775</td>\n",
       "    </tr>\n",
       "  </tbody>\n",
       "</table>\n",
       "</div>"
      ],
      "text/plain": [
       "                counts  normalized\n",
       "(9.999, 19.0]        4    0.000056\n",
       "(19.999, 29.0]    4670    0.065209\n",
       "(29.999, 39.0]   15419    0.215301\n",
       "(39.999, 49.0]   15161    0.211699\n",
       "(49.999, 59.0]   16109    0.224936\n",
       "(59.999, 69.0]    7914    0.110506\n",
       "(69.999, 79.0]    3966    0.055379\n",
       "(79.999, 89.0]    1172    0.016365\n",
       "(89.999, 99.0]     342    0.004775"
      ]
     },
     "execution_count": 41,
     "metadata": {},
     "output_type": "execute_result"
    }
   ],
   "source": [
    "result_age"
   ]
  },
  {
   "cell_type": "code",
   "execution_count": 42,
   "metadata": {},
   "outputs": [
    {
     "data": {
      "text/plain": [
       "<matplotlib.axes._subplots.AxesSubplot at 0x1fbfcd31cc8>"
      ]
     },
     "execution_count": 42,
     "metadata": {},
     "output_type": "execute_result"
    },
    {
     "data": {
      "image/png": "[encoded data removed]",
      "text/plain": [
       "<Figure size 432x288 with 1 Axes>"
      ]
     },
     "metadata": {
      "needs_background": "light"
     },
     "output_type": "display_data"
    }
   ],
   "source": [
    "result_age.plot.bar(y=\"counts\")"
   ]
  },
  {
   "cell_type": "markdown",
   "metadata": {},
   "source": [
    "主要年段集中在30——60岁，60岁后易访数量不断下降"
   ]
  },
  {
   "cell_type": "markdown",
   "metadata": {},
   "source": [
    "# 对IF_GROUP的统计分析"
   ]
  },
  {
   "cell_type": "code",
   "execution_count": 46,
   "metadata": {},
   "outputs": [],
   "source": [
    "result_if_group = compulete_count_normalized_categories(df_all.IF_GROUP)"
   ]
  },
  {
   "cell_type": "code",
   "execution_count": 47,
   "metadata": {},
   "outputs": [
    {
     "data": {
      "text/html": [
       "<div>\n",
       "<style scoped>\n",
       "    .dataframe tbody tr th:only-of-type {\n",
       "        vertical-align: middle;\n",
       "    }\n",
       "\n",
       "    .dataframe tbody tr th {\n",
       "        vertical-align: top;\n",
       "    }\n",
       "\n",
       "    .dataframe thead th {\n",
       "        text-align: right;\n",
       "    }\n",
       "</style>\n",
       "<table border=\"1\" class=\"dataframe\">\n",
       "  <thead>\n",
       "    <tr style=\"text-align: right;\">\n",
       "      <th></th>\n",
       "      <th>counts</th>\n",
       "      <th>normalized</th>\n",
       "    </tr>\n",
       "  </thead>\n",
       "  <tbody>\n",
       "    <tr>\n",
       "      <td>N</td>\n",
       "      <td>46928</td>\n",
       "      <td>0.655273</td>\n",
       "    </tr>\n",
       "    <tr>\n",
       "      <td>Y</td>\n",
       "      <td>24688</td>\n",
       "      <td>0.344727</td>\n",
       "    </tr>\n",
       "  </tbody>\n",
       "</table>\n",
       "</div>"
      ],
      "text/plain": [
       "   counts  normalized\n",
       "N   46928    0.655273\n",
       "Y   24688    0.344727"
      ]
     },
     "execution_count": 47,
     "metadata": {},
     "output_type": "execute_result"
    }
   ],
   "source": [
    "result_if_group"
   ]
  },
  {
   "cell_type": "code",
   "execution_count": 48,
   "metadata": {},
   "outputs": [
    {
     "data": {
      "text/plain": [
       "<matplotlib.axes._subplots.AxesSubplot at 0x1fb801ebb88>"
      ]
     },
     "execution_count": 48,
     "metadata": {},
     "output_type": "execute_result"
    },
    {
     "data": {
      "image/png": "[encoded data removed]",
      "text/plain": [
       "<Figure size 432x432 with 1 Axes>"
      ]
     },
     "metadata": {},
     "output_type": "display_data"
    }
   ],
   "source": [
    "result_if_group.plot.pie(y=\"normalized\", figsize=(6, 6))"
   ]
  },
  {
   "cell_type": "markdown",
   "metadata": {},
   "source": [
    "非集团用户所占比重较大"
   ]
  },
  {
   "cell_type": "markdown",
   "metadata": {},
   "source": [
    "# 对IF_SCHOOL的统计分析"
   ]
  },
  {
   "cell_type": "code",
   "execution_count": 49,
   "metadata": {},
   "outputs": [],
   "source": [
    "result_if_school = compulete_count_normalized_categories(df_all.IF_SCHOOL)"
   ]
  },
  {
   "cell_type": "code",
   "execution_count": 50,
   "metadata": {},
   "outputs": [
    {
     "data": {
      "text/html": [
       "<div>\n",
       "<style scoped>\n",
       "    .dataframe tbody tr th:only-of-type {\n",
       "        vertical-align: middle;\n",
       "    }\n",
       "\n",
       "    .dataframe tbody tr th {\n",
       "        vertical-align: top;\n",
       "    }\n",
       "\n",
       "    .dataframe thead th {\n",
       "        text-align: right;\n",
       "    }\n",
       "</style>\n",
       "<table border=\"1\" class=\"dataframe\">\n",
       "  <thead>\n",
       "    <tr style=\"text-align: right;\">\n",
       "      <th></th>\n",
       "      <th>counts</th>\n",
       "      <th>normalized</th>\n",
       "    </tr>\n",
       "  </thead>\n",
       "  <tbody>\n",
       "    <tr>\n",
       "      <td>N</td>\n",
       "      <td>69647</td>\n",
       "      <td>0.972506</td>\n",
       "    </tr>\n",
       "    <tr>\n",
       "      <td>Y</td>\n",
       "      <td>1969</td>\n",
       "      <td>0.027494</td>\n",
       "    </tr>\n",
       "  </tbody>\n",
       "</table>\n",
       "</div>"
      ],
      "text/plain": [
       "   counts  normalized\n",
       "N   69647    0.972506\n",
       "Y    1969    0.027494"
      ]
     },
     "execution_count": 50,
     "metadata": {},
     "output_type": "execute_result"
    }
   ],
   "source": [
    "result_if_school"
   ]
  },
  {
   "cell_type": "code",
   "execution_count": 51,
   "metadata": {},
   "outputs": [
    {
     "data": {
      "text/plain": [
       "<matplotlib.axes._subplots.AxesSubplot at 0x1fbfbcfdc48>"
      ]
     },
     "execution_count": 51,
     "metadata": {},
     "output_type": "execute_result"
    },
    {
     "data": {
      "image/png": "[encoded data removed]",
      "text/plain": [
       "<Figure size 432x432 with 1 Axes>"
      ]
     },
     "metadata": {},
     "output_type": "display_data"
    }
   ],
   "source": [
    "result_if_school.plot.pie(y=\"normalized\", figsize=(6, 6))"
   ]
  },
  {
   "cell_type": "markdown",
   "metadata": {},
   "source": [
    "非校园用户所占比重极大，达到97.25%"
   ]
  },
  {
   "cell_type": "markdown",
   "metadata": {},
   "source": [
    "# 对BRD_F的统计分析"
   ]
  },
  {
   "cell_type": "code",
   "execution_count": 52,
   "metadata": {},
   "outputs": [],
   "source": [
    "result_brd_f = compulete_count_normalized_categories(df_all.BRD_F)"
   ]
  },
  {
   "cell_type": "code",
   "execution_count": 53,
   "metadata": {},
   "outputs": [
    {
     "data": {
      "text/html": [
       "<div>\n",
       "<style scoped>\n",
       "    .dataframe tbody tr th:only-of-type {\n",
       "        vertical-align: middle;\n",
       "    }\n",
       "\n",
       "    .dataframe tbody tr th {\n",
       "        vertical-align: top;\n",
       "    }\n",
       "\n",
       "    .dataframe thead th {\n",
       "        text-align: right;\n",
       "    }\n",
       "</style>\n",
       "<table border=\"1\" class=\"dataframe\">\n",
       "  <thead>\n",
       "    <tr style=\"text-align: right;\">\n",
       "      <th></th>\n",
       "      <th>counts</th>\n",
       "      <th>normalized</th>\n",
       "    </tr>\n",
       "  </thead>\n",
       "  <tbody>\n",
       "    <tr>\n",
       "      <td>Y</td>\n",
       "      <td>51971</td>\n",
       "      <td>0.72569</td>\n",
       "    </tr>\n",
       "    <tr>\n",
       "      <td>N</td>\n",
       "      <td>19645</td>\n",
       "      <td>0.27431</td>\n",
       "    </tr>\n",
       "  </tbody>\n",
       "</table>\n",
       "</div>"
      ],
      "text/plain": [
       "   counts  normalized\n",
       "Y   51971     0.72569\n",
       "N   19645     0.27431"
      ]
     },
     "execution_count": 53,
     "metadata": {},
     "output_type": "execute_result"
    }
   ],
   "source": [
    "result_brd_f"
   ]
  },
  {
   "cell_type": "code",
   "execution_count": 54,
   "metadata": {},
   "outputs": [
    {
     "data": {
      "text/plain": [
       "<matplotlib.axes._subplots.AxesSubplot at 0x1fbfba19288>"
      ]
     },
     "execution_count": 54,
     "metadata": {},
     "output_type": "execute_result"
    },
    {
     "data": {
      "image/png": "[encoded data removed]",
      "text/plain": [
       "<Figure size 432x432 with 1 Axes>"
      ]
     },
     "metadata": {},
     "output_type": "display_data"
    }
   ],
   "source": [
    "result_brd_f.plot.pie(y=\"normalized\", figsize=(6, 6))"
   ]
  },
  {
   "cell_type": "markdown",
   "metadata": {},
   "source": [
    "宽带用户所占比重为72.57%"
   ]
  },
  {
   "cell_type": "markdown",
   "metadata": {},
   "source": [
    "# 对BRD_RAX的统计分析"
   ]
  },
  {
   "cell_type": "code",
   "execution_count": 55,
   "metadata": {},
   "outputs": [
    {
     "data": {
      "text/plain": [
       "2.0"
      ]
     },
     "execution_count": 55,
     "metadata": {},
     "output_type": "execute_result"
    }
   ],
   "source": [
    "df_all.BRD_RAX.min()"
   ]
  },
  {
   "cell_type": "code",
   "execution_count": 59,
   "metadata": {},
   "outputs": [
    {
     "data": {
      "text/plain": [
       "(599.999, 1000.0]    444\n",
       "Name: BRD_RAX, dtype: int64"
      ]
     },
     "execution_count": 59,
     "metadata": {},
     "output_type": "execute_result"
    }
   ],
   "source": [
    "df_all.BRD_RAX.value_counts(bins=[600,1000])"
   ]
  },
  {
   "cell_type": "code",
   "execution_count": 60,
   "metadata": {},
   "outputs": [
    {
     "name": "stdout",
     "output_type": "stream",
     "text": [
      "<class 'pandas.core.series.Series'>\n"
     ]
    }
   ],
   "source": [
    "result_brd_rax = compulete_count_normalized(df_all.BRD_RAX, 0, 1100, 100)"
   ]
  },
  {
   "cell_type": "code",
   "execution_count": 61,
   "metadata": {},
   "outputs": [
    {
     "data": {
      "text/html": [
       "<div>\n",
       "<style scoped>\n",
       "    .dataframe tbody tr th:only-of-type {\n",
       "        vertical-align: middle;\n",
       "    }\n",
       "\n",
       "    .dataframe tbody tr th {\n",
       "        vertical-align: top;\n",
       "    }\n",
       "\n",
       "    .dataframe thead th {\n",
       "        text-align: right;\n",
       "    }\n",
       "</style>\n",
       "<table border=\"1\" class=\"dataframe\">\n",
       "  <thead>\n",
       "    <tr style=\"text-align: right;\">\n",
       "      <th></th>\n",
       "      <th>counts</th>\n",
       "      <th>normalized</th>\n",
       "    </tr>\n",
       "  </thead>\n",
       "  <tbody>\n",
       "    <tr>\n",
       "      <td>(-0.001, 99.0]</td>\n",
       "      <td>2914</td>\n",
       "      <td>0.040689</td>\n",
       "    </tr>\n",
       "    <tr>\n",
       "      <td>(99.999, 199.0]</td>\n",
       "      <td>20009</td>\n",
       "      <td>0.279393</td>\n",
       "    </tr>\n",
       "    <tr>\n",
       "      <td>(199.999, 299.0]</td>\n",
       "      <td>22063</td>\n",
       "      <td>0.308074</td>\n",
       "    </tr>\n",
       "    <tr>\n",
       "      <td>(299.999, 399.0]</td>\n",
       "      <td>1108</td>\n",
       "      <td>0.015471</td>\n",
       "    </tr>\n",
       "    <tr>\n",
       "      <td>(499.999, 599.0]</td>\n",
       "      <td>5313</td>\n",
       "      <td>0.074187</td>\n",
       "    </tr>\n",
       "  </tbody>\n",
       "</table>\n",
       "</div>"
      ],
      "text/plain": [
       "                  counts  normalized\n",
       "(-0.001, 99.0]      2914    0.040689\n",
       "(99.999, 199.0]    20009    0.279393\n",
       "(199.999, 299.0]   22063    0.308074\n",
       "(299.999, 399.0]    1108    0.015471\n",
       "(499.999, 599.0]    5313    0.074187"
      ]
     },
     "execution_count": 61,
     "metadata": {},
     "output_type": "execute_result"
    }
   ],
   "source": [
    "result_brd_rax"
   ]
  },
  {
   "cell_type": "code",
   "execution_count": 62,
   "metadata": {},
   "outputs": [
    {
     "data": {
      "text/plain": [
       "<matplotlib.axes._subplots.AxesSubplot at 0x1fb85de9688>"
      ]
     },
     "execution_count": 62,
     "metadata": {},
     "output_type": "execute_result"
    },
    {
     "data": {
      "image/png": "[encoded data removed]",
      "text/plain": [
       "<Figure size 432x432 with 1 Axes>"
      ]
     },
     "metadata": {},
     "output_type": "display_data"
    }
   ],
   "source": [
    "result_brd_rax.plot.pie(y=\"normalized\", figsize=(6, 6))"
   ]
  },
  {
   "cell_type": "code",
   "execution_count": null,
   "metadata": {},
   "outputs": [],
   "source": []
  }
 ],
 "metadata": {
  "kernelspec": {
   "display_name": "Python 3",
   "language": "python",
   "name": "python3"
  },
  "language_info": {
   "codemirror_mode": {
    "name": "ipython",
    "version": 3
   },
   "file_extension": ".py",
   "mimetype": "text/x-python",
   "name": "python",
   "nbconvert_exporter": "python",
   "pygments_lexer": "ipython3",
   "version": "3.7.4"
  },
  "widgets": {
   "application/vnd.jupyter.widget-state+json": {
    "state": {},
    "version_major": 2,
    "version_minor": 0
   }
  }
 },
 "nbformat": 4,
 "nbformat_minor": 4
}
