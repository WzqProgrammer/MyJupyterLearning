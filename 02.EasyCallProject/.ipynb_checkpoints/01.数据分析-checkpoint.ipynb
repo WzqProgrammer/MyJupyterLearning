{
 "cells": [
  {
   "cell_type": "code",
   "execution_count": 10,
   "metadata": {},
   "outputs": [],
   "source": [
    "import numpy as np\n",
    "import pandas as pd\n",
    "import matplotlib.pyplot as plt"
   ]
  },
  {
   "cell_type": "code",
   "execution_count": 2,
   "metadata": {},
   "outputs": [],
   "source": [
    "path = \"F:/14.EasyCallProject/EasyCallData.xlsx\""
   ]
  },
  {
   "cell_type": "code",
   "execution_count": 3,
   "metadata": {},
   "outputs": [],
   "source": [
    "df_all = pd.read_excel(path)"
   ]
  },
  {
   "cell_type": "code",
   "execution_count": 6,
   "metadata": {},
   "outputs": [],
   "source": [
    "tags = df_all.columns"
   ]
  },
  {
   "cell_type": "code",
   "execution_count": 8,
   "metadata": {},
   "outputs": [
    {
     "data": {
      "text/plain": [
       "Index(['PROD_ID', 'ACCESS_NUMBER', 'CALL_DT', 'ONLINE_MONTHS', 'VIP_LEVEL',\n",
       "       'GENDER', 'AGE', 'IF_GROUP', 'IF_SCHOOL', 'BRD_F', 'BRD_RAX',\n",
       "       'BRD_ACTIVE_DAYS', 'IF_ITV', 'IF_DBL_CARD', 'IF_4G_TRMNL',\n",
       "       'TRMNL_MONTHS', 'IF_VOLTE', 'MBL_DATA_FLOW_AMNT00',\n",
       "       'MBL_DATA_FLOW_AMNT01', 'MBL_DATA_FLOW_AMNT02', 'MBL_DATA_FLOW_AMNT03',\n",
       "       'MBL_VOICE_DRTN00', 'MBL_VOICE_DRTN01', 'MBL_VOICE_DRTN02',\n",
       "       'MBL_VOICE_DRTN03', 'MBL_DATA_4G_FLOW_AMNT00',\n",
       "       'MBL_DATA_OTHER_FLOW_AMNT00'],\n",
       "      dtype='object')"
      ]
     },
     "execution_count": 8,
     "metadata": {},
     "output_type": "execute_result"
    }
   ],
   "source": [
    "tags"
   ]
  },
  {
   "cell_type": "code",
   "execution_count": 9,
   "metadata": {},
   "outputs": [
    {
     "data": {
      "text/plain": [
       "71616"
      ]
     },
     "execution_count": 9,
     "metadata": {},
     "output_type": "execute_result"
    }
   ],
   "source": [
    "len(df_all.PROD_ID.unique())"
   ]
  },
  {
   "cell_type": "code",
   "execution_count": 199,
   "metadata": {},
   "outputs": [
    {
     "data": {
      "text/plain": [
       "[3,\n",
       " 13,\n",
       " 23,\n",
       " 33,\n",
       " 43,\n",
       " 53,\n",
       " 63,\n",
       " 73,\n",
       " 83,\n",
       " 93,\n",
       " 103,\n",
       " 113,\n",
       " 123,\n",
       " 133,\n",
       " 143,\n",
       " 153,\n",
       " 163,\n",
       " 173,\n",
       " 183,\n",
       " 193,\n",
       " 203,\n",
       " 213,\n",
       " 223]"
      ]
     },
     "execution_count": 199,
     "metadata": {},
     "output_type": "execute_result"
    }
   ],
   "source": [
    "sections = [x for x in range(3, 224, 10)]\n",
    "sections"
   ]
  },
  {
   "cell_type": "code",
   "execution_count": 13,
   "metadata": {},
   "outputs": [
    {
     "data": {
      "text/plain": [
       "213"
      ]
     },
     "execution_count": 13,
     "metadata": {},
     "output_type": "execute_result"
    }
   ],
   "source": [
    "df_all.ONLINE_MONTHS.max()"
   ]
  },
  {
   "cell_type": "code",
   "execution_count": 177,
   "metadata": {},
   "outputs": [
    {
     "data": {
      "text/plain": [
       "pandas.core.series.Series"
      ]
     },
     "execution_count": 177,
     "metadata": {},
     "output_type": "execute_result"
    }
   ],
   "source": [
    "type(df_all.ONLINE_MONTHS)"
   ]
  },
  {
   "cell_type": "code",
   "execution_count": 218,
   "metadata": {},
   "outputs": [],
   "source": [
    "def compulete_count_normalized(data, min_v, max_v, space):\n",
    "    print(type(data))\n",
    "    \"\"\"\n",
    "    统计一列中各个区间中数值的个数和其对应归一化的值\n",
    "    data: 列的Series形式\n",
    "    min_v: 区间最小值\n",
    "    max_v: 区间最大值\n",
    "    space： 区间间隔\n",
    "    \"\"\"\n",
    "    # 需要分段的区间\n",
    "    sections = [x for x in range(min_v, max_v, space)]\n",
    "    # 每个区间中的个数\n",
    "    counts = []\n",
    "    # 每个区间中的个数的比例即归一化\n",
    "    counts_normalize = []\n",
    "    for i in range(0, len(online_months)-1):\n",
    "        # 区间中个数统计\n",
    "        part_count = data.value_counts(bins=[online_months[i],online_months[i+1]-1])\n",
    "        part_count_normalize = data.value_counts(bins=[online_months[i],online_months[i+1]-1], normalize=True)\n",
    "        counts.append(part_count)\n",
    "        counts_normalize.append(part_count_normalize)\n",
    "    # 合并Series\n",
    "    result1 = pd.DataFrame(pd.concat([x for x in counts]))\n",
    "    result2 = pd.DataFrame(pd.concat([x for x in counts_normalize]))\n",
    "    # 对列的标签进行重命名\n",
    "    result1.rename(columns={result1.columns[0]:'counts'},inplace=True)\n",
    "    result2.rename(columns={result2.columns[0]:'normalized'}, inplace=True)\n",
    "    # 合并两个表\n",
    "    result = pd.concat([result1, result2], axis=1)\n",
    "    return result"
   ]
  },
  {
   "cell_type": "code",
   "execution_count": 223,
   "metadata": {},
   "outputs": [],
   "source": [
    "def compulete_count_normalized(data):\n",
    "    counts = data.value_counts()\n",
    "    counts_normalize = data.value_counts(normalize=True)\n",
    "    # 合并Series\n",
    "    result1 = pd.DataFrame(pd.concat([x for x in counts]))\n",
    "    result2 = pd.DataFrame(pd.concat([x for x in counts_normalize]))\n",
    "    # 对列的标签进行重命名\n",
    "    result1.rename(columns={result1.columns[0]:'counts'},inplace=True)\n",
    "    result2.rename(columns={result2.columns[0]:'normalized'}, inplace=True)\n",
    "    # 合并两个表\n",
    "    result = pd.concat([result1, result2], axis=1)\n",
    "    return result"
   ]
  },
  {
   "cell_type": "code",
   "execution_count": 224,
   "metadata": {},
   "outputs": [
    {
     "ename": "TypeError",
     "evalue": "cannot concatenate object of type '<class 'int'>'; only Series and DataFrame objs are valid",
     "output_type": "error",
     "traceback": [
      "\u001b[1;31m---------------------------------------------------------------------------\u001b[0m",
      "\u001b[1;31mTypeError\u001b[0m                                 Traceback (most recent call last)",
      "\u001b[1;32m<ipython-input-224-800bb1d7b6d9>\u001b[0m in \u001b[0;36m<module>\u001b[1;34m\u001b[0m\n\u001b[1;32m----> 1\u001b[1;33m \u001b[0mcompulete_count_normalized\u001b[0m\u001b[1;33m(\u001b[0m\u001b[0mdf_all\u001b[0m\u001b[1;33m.\u001b[0m\u001b[0mGENDER\u001b[0m\u001b[1;33m)\u001b[0m\u001b[1;33m\u001b[0m\u001b[1;33m\u001b[0m\u001b[0m\n\u001b[0m",
      "\u001b[1;32m<ipython-input-223-93322c771862>\u001b[0m in \u001b[0;36mcompulete_count_normalized\u001b[1;34m(data)\u001b[0m\n\u001b[0;32m      3\u001b[0m     \u001b[0mcounts_normalize\u001b[0m \u001b[1;33m=\u001b[0m \u001b[0mdata\u001b[0m\u001b[1;33m.\u001b[0m\u001b[0mvalue_counts\u001b[0m\u001b[1;33m(\u001b[0m\u001b[0mnormalize\u001b[0m\u001b[1;33m=\u001b[0m\u001b[1;32mTrue\u001b[0m\u001b[1;33m)\u001b[0m\u001b[1;33m\u001b[0m\u001b[1;33m\u001b[0m\u001b[0m\n\u001b[0;32m      4\u001b[0m         \u001b[1;31m# 合并Series\u001b[0m\u001b[1;33m\u001b[0m\u001b[1;33m\u001b[0m\u001b[1;33m\u001b[0m\u001b[0m\n\u001b[1;32m----> 5\u001b[1;33m     \u001b[0mresult1\u001b[0m \u001b[1;33m=\u001b[0m \u001b[0mpd\u001b[0m\u001b[1;33m.\u001b[0m\u001b[0mDataFrame\u001b[0m\u001b[1;33m(\u001b[0m\u001b[0mpd\u001b[0m\u001b[1;33m.\u001b[0m\u001b[0mconcat\u001b[0m\u001b[1;33m(\u001b[0m\u001b[1;33m[\u001b[0m\u001b[0mx\u001b[0m \u001b[1;32mfor\u001b[0m \u001b[0mx\u001b[0m \u001b[1;32min\u001b[0m \u001b[0mcounts\u001b[0m\u001b[1;33m]\u001b[0m\u001b[1;33m)\u001b[0m\u001b[1;33m)\u001b[0m\u001b[1;33m\u001b[0m\u001b[1;33m\u001b[0m\u001b[0m\n\u001b[0m\u001b[0;32m      6\u001b[0m     \u001b[0mresult2\u001b[0m \u001b[1;33m=\u001b[0m \u001b[0mpd\u001b[0m\u001b[1;33m.\u001b[0m\u001b[0mDataFrame\u001b[0m\u001b[1;33m(\u001b[0m\u001b[0mpd\u001b[0m\u001b[1;33m.\u001b[0m\u001b[0mconcat\u001b[0m\u001b[1;33m(\u001b[0m\u001b[1;33m[\u001b[0m\u001b[0mx\u001b[0m \u001b[1;32mfor\u001b[0m \u001b[0mx\u001b[0m \u001b[1;32min\u001b[0m \u001b[0mcounts_normalize\u001b[0m\u001b[1;33m]\u001b[0m\u001b[1;33m)\u001b[0m\u001b[1;33m)\u001b[0m\u001b[1;33m\u001b[0m\u001b[1;33m\u001b[0m\u001b[0m\n\u001b[0;32m      7\u001b[0m     \u001b[1;31m# 对列的标签进行重命名\u001b[0m\u001b[1;33m\u001b[0m\u001b[1;33m\u001b[0m\u001b[1;33m\u001b[0m\u001b[0m\n",
      "\u001b[1;32mE:\\Anaconda3\\lib\\site-packages\\pandas\\core\\reshape\\concat.py\u001b[0m in \u001b[0;36mconcat\u001b[1;34m(objs, axis, join, join_axes, ignore_index, keys, levels, names, verify_integrity, sort, copy)\u001b[0m\n\u001b[0;32m    253\u001b[0m         \u001b[0mverify_integrity\u001b[0m\u001b[1;33m=\u001b[0m\u001b[0mverify_integrity\u001b[0m\u001b[1;33m,\u001b[0m\u001b[1;33m\u001b[0m\u001b[1;33m\u001b[0m\u001b[0m\n\u001b[0;32m    254\u001b[0m         \u001b[0mcopy\u001b[0m\u001b[1;33m=\u001b[0m\u001b[0mcopy\u001b[0m\u001b[1;33m,\u001b[0m\u001b[1;33m\u001b[0m\u001b[1;33m\u001b[0m\u001b[0m\n\u001b[1;32m--> 255\u001b[1;33m         \u001b[0msort\u001b[0m\u001b[1;33m=\u001b[0m\u001b[0msort\u001b[0m\u001b[1;33m,\u001b[0m\u001b[1;33m\u001b[0m\u001b[1;33m\u001b[0m\u001b[0m\n\u001b[0m\u001b[0;32m    256\u001b[0m     )\n\u001b[0;32m    257\u001b[0m \u001b[1;33m\u001b[0m\u001b[0m\n",
      "\u001b[1;32mE:\\Anaconda3\\lib\\site-packages\\pandas\\core\\reshape\\concat.py\u001b[0m in \u001b[0;36m__init__\u001b[1;34m(self, objs, axis, join, join_axes, keys, levels, names, ignore_index, verify_integrity, copy, sort)\u001b[0m\n\u001b[0;32m    330\u001b[0m                     \u001b[1;34m\" only Series and DataFrame objs are valid\"\u001b[0m\u001b[1;33m.\u001b[0m\u001b[0mformat\u001b[0m\u001b[1;33m(\u001b[0m\u001b[0mtype\u001b[0m\u001b[1;33m(\u001b[0m\u001b[0mobj\u001b[0m\u001b[1;33m)\u001b[0m\u001b[1;33m)\u001b[0m\u001b[1;33m\u001b[0m\u001b[1;33m\u001b[0m\u001b[0m\n\u001b[0;32m    331\u001b[0m                 )\n\u001b[1;32m--> 332\u001b[1;33m                 \u001b[1;32mraise\u001b[0m \u001b[0mTypeError\u001b[0m\u001b[1;33m(\u001b[0m\u001b[0mmsg\u001b[0m\u001b[1;33m)\u001b[0m\u001b[1;33m\u001b[0m\u001b[1;33m\u001b[0m\u001b[0m\n\u001b[0m\u001b[0;32m    333\u001b[0m \u001b[1;33m\u001b[0m\u001b[0m\n\u001b[0;32m    334\u001b[0m             \u001b[1;31m# consolidate\u001b[0m\u001b[1;33m\u001b[0m\u001b[1;33m\u001b[0m\u001b[1;33m\u001b[0m\u001b[0m\n",
      "\u001b[1;31mTypeError\u001b[0m: cannot concatenate object of type '<class 'int'>'; only Series and DataFrame objs are valid"
     ]
    }
   ],
   "source": [
    "compulete_count_normalized(df_all.GENDER)"
   ]
  },
  {
   "cell_type": "code",
   "execution_count": 208,
   "metadata": {},
   "outputs": [
    {
     "data": {
      "text/plain": [
       "1.0    0.706093\n",
       "2.0    0.293907\n",
       "Name: GENDER, dtype: float64"
      ]
     },
     "execution_count": 208,
     "metadata": {},
     "output_type": "execute_result"
    }
   ],
   "source": [
    "df_all.GENDER.value_counts(normalize=True)"
   ]
  },
  {
   "cell_type": "code",
   "execution_count": 213,
   "metadata": {},
   "outputs": [
    {
     "data": {
      "text/plain": [
       "pandas.core.series.Series"
      ]
     },
     "execution_count": 213,
     "metadata": {},
     "output_type": "execute_result"
    }
   ],
   "source": [
    "type(df_all.GENDER)"
   ]
  },
  {
   "cell_type": "markdown",
   "metadata": {},
   "source": [
    "## 对ONLINE_MONTHS的统计分析"
   ]
  },
  {
   "cell_type": "code",
   "execution_count": 219,
   "metadata": {},
   "outputs": [
    {
     "name": "stdout",
     "output_type": "stream",
     "text": [
      "<class 'pandas.core.series.Series'>\n"
     ]
    }
   ],
   "source": [
    "myresult = compulete_count_normalized(df_all.ONLINE_MONTHS, 0, 230, 10)"
   ]
  },
  {
   "cell_type": "code",
   "execution_count": 220,
   "metadata": {},
   "outputs": [
    {
     "data": {
      "text/html": [
       "<div>\n",
       "<style scoped>\n",
       "    .dataframe tbody tr th:only-of-type {\n",
       "        vertical-align: middle;\n",
       "    }\n",
       "\n",
       "    .dataframe tbody tr th {\n",
       "        vertical-align: top;\n",
       "    }\n",
       "\n",
       "    .dataframe thead th {\n",
       "        text-align: right;\n",
       "    }\n",
       "</style>\n",
       "<table border=\"1\" class=\"dataframe\">\n",
       "  <thead>\n",
       "    <tr style=\"text-align: right;\">\n",
       "      <th></th>\n",
       "      <th>counts</th>\n",
       "      <th>normalized</th>\n",
       "    </tr>\n",
       "  </thead>\n",
       "  <tbody>\n",
       "    <tr>\n",
       "      <td>(-0.001, 9.0]</td>\n",
       "      <td>9995</td>\n",
       "      <td>0.139564</td>\n",
       "    </tr>\n",
       "    <tr>\n",
       "      <td>(9.999, 19.0]</td>\n",
       "      <td>11498</td>\n",
       "      <td>0.160551</td>\n",
       "    </tr>\n",
       "    <tr>\n",
       "      <td>(19.999, 29.0]</td>\n",
       "      <td>6624</td>\n",
       "      <td>0.092493</td>\n",
       "    </tr>\n",
       "    <tr>\n",
       "      <td>(29.999, 39.0]</td>\n",
       "      <td>4466</td>\n",
       "      <td>0.062360</td>\n",
       "    </tr>\n",
       "    <tr>\n",
       "      <td>(39.999, 49.0]</td>\n",
       "      <td>4016</td>\n",
       "      <td>0.056077</td>\n",
       "    </tr>\n",
       "    <tr>\n",
       "      <td>(49.999, 59.0]</td>\n",
       "      <td>3619</td>\n",
       "      <td>0.050533</td>\n",
       "    </tr>\n",
       "    <tr>\n",
       "      <td>(59.999, 69.0]</td>\n",
       "      <td>3782</td>\n",
       "      <td>0.052809</td>\n",
       "    </tr>\n",
       "    <tr>\n",
       "      <td>(69.999, 79.0]</td>\n",
       "      <td>3828</td>\n",
       "      <td>0.053452</td>\n",
       "    </tr>\n",
       "    <tr>\n",
       "      <td>(79.999, 89.0]</td>\n",
       "      <td>3698</td>\n",
       "      <td>0.051637</td>\n",
       "    </tr>\n",
       "    <tr>\n",
       "      <td>(89.999, 99.0]</td>\n",
       "      <td>3539</td>\n",
       "      <td>0.049416</td>\n",
       "    </tr>\n",
       "    <tr>\n",
       "      <td>(99.999, 109.0]</td>\n",
       "      <td>4658</td>\n",
       "      <td>0.065041</td>\n",
       "    </tr>\n",
       "    <tr>\n",
       "      <td>(109.999, 119.0]</td>\n",
       "      <td>5402</td>\n",
       "      <td>0.075430</td>\n",
       "    </tr>\n",
       "    <tr>\n",
       "      <td>(119.999, 129.0]</td>\n",
       "      <td>4414</td>\n",
       "      <td>0.061634</td>\n",
       "    </tr>\n",
       "    <tr>\n",
       "      <td>(129.999, 139.0]</td>\n",
       "      <td>705</td>\n",
       "      <td>0.009844</td>\n",
       "    </tr>\n",
       "    <tr>\n",
       "      <td>(139.999, 149.0]</td>\n",
       "      <td>177</td>\n",
       "      <td>0.002472</td>\n",
       "    </tr>\n",
       "    <tr>\n",
       "      <td>(149.999, 159.0]</td>\n",
       "      <td>117</td>\n",
       "      <td>0.001634</td>\n",
       "    </tr>\n",
       "    <tr>\n",
       "      <td>(159.999, 169.0]</td>\n",
       "      <td>100</td>\n",
       "      <td>0.001396</td>\n",
       "    </tr>\n",
       "    <tr>\n",
       "      <td>(169.999, 179.0]</td>\n",
       "      <td>153</td>\n",
       "      <td>0.002136</td>\n",
       "    </tr>\n",
       "    <tr>\n",
       "      <td>(179.999, 189.0]</td>\n",
       "      <td>241</td>\n",
       "      <td>0.003365</td>\n",
       "    </tr>\n",
       "    <tr>\n",
       "      <td>(189.999, 199.0]</td>\n",
       "      <td>294</td>\n",
       "      <td>0.004105</td>\n",
       "    </tr>\n",
       "    <tr>\n",
       "      <td>(199.999, 209.0]</td>\n",
       "      <td>272</td>\n",
       "      <td>0.003798</td>\n",
       "    </tr>\n",
       "    <tr>\n",
       "      <td>(209.999, 219.0]</td>\n",
       "      <td>18</td>\n",
       "      <td>0.000251</td>\n",
       "    </tr>\n",
       "  </tbody>\n",
       "</table>\n",
       "</div>"
      ],
      "text/plain": [
       "                  counts  normalized\n",
       "(-0.001, 9.0]       9995    0.139564\n",
       "(9.999, 19.0]      11498    0.160551\n",
       "(19.999, 29.0]      6624    0.092493\n",
       "(29.999, 39.0]      4466    0.062360\n",
       "(39.999, 49.0]      4016    0.056077\n",
       "(49.999, 59.0]      3619    0.050533\n",
       "(59.999, 69.0]      3782    0.052809\n",
       "(69.999, 79.0]      3828    0.053452\n",
       "(79.999, 89.0]      3698    0.051637\n",
       "(89.999, 99.0]      3539    0.049416\n",
       "(99.999, 109.0]     4658    0.065041\n",
       "(109.999, 119.0]    5402    0.075430\n",
       "(119.999, 129.0]    4414    0.061634\n",
       "(129.999, 139.0]     705    0.009844\n",
       "(139.999, 149.0]     177    0.002472\n",
       "(149.999, 159.0]     117    0.001634\n",
       "(159.999, 169.0]     100    0.001396\n",
       "(169.999, 179.0]     153    0.002136\n",
       "(179.999, 189.0]     241    0.003365\n",
       "(189.999, 199.0]     294    0.004105\n",
       "(199.999, 209.0]     272    0.003798\n",
       "(209.999, 219.0]      18    0.000251"
      ]
     },
     "execution_count": 220,
     "metadata": {},
     "output_type": "execute_result"
    }
   ],
   "source": [
    "myresult"
   ]
  },
  {
   "cell_type": "code",
   "execution_count": 200,
   "metadata": {},
   "outputs": [
    {
     "data": {
      "text/plain": [
       "<matplotlib.axes._subplots.AxesSubplot at 0x19540b8ba88>"
      ]
     },
     "execution_count": 200,
     "metadata": {},
     "output_type": "execute_result"
    },
    {
     "data": {
      "image/png": "[encoded data removed]",
      "text/plain": [
       "<Figure size 432x288 with 1 Axes>"
      ]
     },
     "metadata": {
      "needs_background": "light"
     },
     "output_type": "display_data"
    }
   ],
   "source": [
    "myresult.plot.bar()"
   ]
  },
  {
   "cell_type": "markdown",
   "metadata": {},
   "source": [
    "## 对GENDER的统计分析"
   ]
  },
  {
   "cell_type": "code",
   "execution_count": null,
   "metadata": {},
   "outputs": [],
   "source": []
  }
 ],
 "metadata": {
  "kernelspec": {
   "display_name": "Python 3",
   "language": "python",
   "name": "python3"
  },
  "language_info": {
   "codemirror_mode": {
    "name": "ipython",
    "version": 3
   },
   "file_extension": ".py",
   "mimetype": "text/x-python",
   "name": "python",
   "nbconvert_exporter": "python",
   "pygments_lexer": "ipython3",
   "version": "3.7.4"
  }
 },
 "nbformat": 4,
 "nbformat_minor": 4
}
