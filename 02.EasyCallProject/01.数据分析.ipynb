{
 "cells": [
  {
   "cell_type": "code",
   "execution_count": 1,
   "metadata": {},
   "outputs": [],
   "source": [
    "import numpy as np\n",
    "import pandas as pd\n",
    "import matplotlib.pyplot as plt"
   ]
  },
  {
   "cell_type": "code",
   "execution_count": 2,
   "metadata": {},
   "outputs": [],
   "source": [
    "path = \"F:/14.EasyCallProject/EasyCallData.xlsx\""
   ]
  },
  {
   "cell_type": "code",
   "execution_count": 3,
   "metadata": {},
   "outputs": [],
   "source": [
    "df_all = pd.read_excel(path)"
   ]
  },
  {
   "cell_type": "code",
   "execution_count": 4,
   "metadata": {},
   "outputs": [],
   "source": [
    "tags = df_all.columns"
   ]
  },
  {
   "cell_type": "code",
   "execution_count": 5,
   "metadata": {},
   "outputs": [
    {
     "data": {
      "text/plain": [
       "Index(['PROD_ID', 'ACCESS_NUMBER', 'CALL_DT', 'ONLINE_MONTHS', 'VIP_LEVEL',\n",
       "       'GENDER', 'AGE', 'IF_GROUP', 'IF_SCHOOL', 'BRD_F', 'BRD_RAX',\n",
       "       'BRD_ACTIVE_DAYS', 'IF_ITV', 'IF_DBL_CARD', 'IF_4G_TRMNL',\n",
       "       'TRMNL_MONTHS', 'IF_VOLTE', 'MBL_DATA_FLOW_AMNT00',\n",
       "       'MBL_DATA_FLOW_AMNT01', 'MBL_DATA_FLOW_AMNT02', 'MBL_DATA_FLOW_AMNT03',\n",
       "       'MBL_VOICE_DRTN00', 'MBL_VOICE_DRTN01', 'MBL_VOICE_DRTN02',\n",
       "       'MBL_VOICE_DRTN03', 'MBL_DATA_4G_FLOW_AMNT00',\n",
       "       'MBL_DATA_OTHER_FLOW_AMNT00'],\n",
       "      dtype='object')"
      ]
     },
     "execution_count": 5,
     "metadata": {},
     "output_type": "execute_result"
    }
   ],
   "source": [
    "tags"
   ]
  },
  {
   "cell_type": "code",
   "execution_count": 6,
   "metadata": {},
   "outputs": [
    {
     "data": {
      "text/plain": [
       "71616"
      ]
     },
     "execution_count": 6,
     "metadata": {},
     "output_type": "execute_result"
    }
   ],
   "source": [
    "len(df_all.PROD_ID.unique())"
   ]
  },
  {
   "cell_type": "code",
   "execution_count": 7,
   "metadata": {},
   "outputs": [
    {
     "data": {
      "text/plain": [
       "213"
      ]
     },
     "execution_count": 7,
     "metadata": {},
     "output_type": "execute_result"
    }
   ],
   "source": [
    "df_all.ONLINE_MONTHS.max()"
   ]
  },
  {
   "cell_type": "code",
   "execution_count": 8,
   "metadata": {},
   "outputs": [
    {
     "data": {
      "text/plain": [
       "pandas.core.series.Series"
      ]
     },
     "execution_count": 8,
     "metadata": {},
     "output_type": "execute_result"
    }
   ],
   "source": [
    "type(df_all.ONLINE_MONTHS)"
   ]
  },
  {
   "cell_type": "code",
   "execution_count": 6,
   "metadata": {},
   "outputs": [],
   "source": [
    "def compulete_count_normalized(data, min_v, max_v, space):\n",
    "    \"\"\"\n",
    "    统计一列中各个区间中数值的个数和其对应归一化的值\n",
    "    data: 列的Series形式\n",
    "    min_v: 区间最小值\n",
    "    max_v: 区间最大值\n",
    "    space： 区间间隔\n",
    "    \"\"\"\n",
    "    # 需要分段的区间\n",
    "    sections = [x for x in range(min_v, max_v, space)]\n",
    "    # 每个区间中的个数\n",
    "    counts = []\n",
    "    # 每个区间中的个数的比例即归一化\n",
    "    counts_normalize = []\n",
    "    for i in range(0, len(sections)-1):\n",
    "        # 区间中个数统计\n",
    "        part_count = data.value_counts(bins=[sections[i], sections[i+1]-1])\n",
    "        part_count_normalize = data.value_counts(bins=[sections[i], sections[i+1]-1], normalize=True)\n",
    "        counts.append(part_count)\n",
    "        counts_normalize.append(part_count_normalize)\n",
    "    # 合并Series\n",
    "    result1 = pd.DataFrame(pd.concat([x for x in counts]))\n",
    "    result2 = pd.DataFrame(pd.concat([x for x in counts_normalize]))\n",
    "    # 对列的标签进行重命名\n",
    "    result1.rename(columns={result1.columns[0]:'counts'},inplace=True)\n",
    "    result2.rename(columns={result2.columns[0]:'normalized'}, inplace=True)\n",
    "    # 合并两个表\n",
    "    result = pd.concat([result1, result2], axis=1)\n",
    "    return result"
   ]
  },
  {
   "cell_type": "code",
   "execution_count": 7,
   "metadata": {},
   "outputs": [],
   "source": [
    "def compulete_count_normalized_categories(data):\n",
    "    \"\"\"\n",
    "    统计类别的个数及其归一化值\n",
    "    \"\"\"\n",
    "    counts = data.value_counts()\n",
    "    counts_normalize = data.value_counts(normalize=True)\n",
    "    # 合并Series\n",
    "    result1 = pd.DataFrame(counts)\n",
    "    result2 = pd.DataFrame(counts_normalize)\n",
    "    # 对列的标签进行重命名\n",
    "    result1.rename(columns={result1.columns[0]:'counts'},inplace=True)\n",
    "    result2.rename(columns={result2.columns[0]:'normalized'}, inplace=True)\n",
    "    # 合并两个表\n",
    "    result = pd.concat([result1, result2], axis=1)\n",
    "    return result"
   ]
  },
  {
   "cell_type": "markdown",
   "metadata": {},
   "source": [
    "# 对ONLINE_MONTHS的统计分析"
   ]
  },
  {
   "cell_type": "code",
   "execution_count": 55,
   "metadata": {},
   "outputs": [],
   "source": [
    "myresult = compulete_count_normalized(df_all.ONLINE_MONTHS, 0, 230, 10)"
   ]
  },
  {
   "cell_type": "code",
   "execution_count": 56,
   "metadata": {},
   "outputs": [
    {
     "data": {
      "text/html": [
       "<div>\n",
       "<style scoped>\n",
       "    .dataframe tbody tr th:only-of-type {\n",
       "        vertical-align: middle;\n",
       "    }\n",
       "\n",
       "    .dataframe tbody tr th {\n",
       "        vertical-align: top;\n",
       "    }\n",
       "\n",
       "    .dataframe thead th {\n",
       "        text-align: right;\n",
       "    }\n",
       "</style>\n",
       "<table border=\"1\" class=\"dataframe\">\n",
       "  <thead>\n",
       "    <tr style=\"text-align: right;\">\n",
       "      <th></th>\n",
       "      <th>counts</th>\n",
       "      <th>normalized</th>\n",
       "    </tr>\n",
       "  </thead>\n",
       "  <tbody>\n",
       "    <tr>\n",
       "      <td>(-0.001, 9.0]</td>\n",
       "      <td>9995</td>\n",
       "      <td>0.139564</td>\n",
       "    </tr>\n",
       "    <tr>\n",
       "      <td>(9.999, 19.0]</td>\n",
       "      <td>11498</td>\n",
       "      <td>0.160551</td>\n",
       "    </tr>\n",
       "    <tr>\n",
       "      <td>(19.999, 29.0]</td>\n",
       "      <td>6624</td>\n",
       "      <td>0.092493</td>\n",
       "    </tr>\n",
       "    <tr>\n",
       "      <td>(29.999, 39.0]</td>\n",
       "      <td>4466</td>\n",
       "      <td>0.062360</td>\n",
       "    </tr>\n",
       "    <tr>\n",
       "      <td>(39.999, 49.0]</td>\n",
       "      <td>4016</td>\n",
       "      <td>0.056077</td>\n",
       "    </tr>\n",
       "    <tr>\n",
       "      <td>(49.999, 59.0]</td>\n",
       "      <td>3619</td>\n",
       "      <td>0.050533</td>\n",
       "    </tr>\n",
       "    <tr>\n",
       "      <td>(59.999, 69.0]</td>\n",
       "      <td>3782</td>\n",
       "      <td>0.052809</td>\n",
       "    </tr>\n",
       "    <tr>\n",
       "      <td>(69.999, 79.0]</td>\n",
       "      <td>3828</td>\n",
       "      <td>0.053452</td>\n",
       "    </tr>\n",
       "    <tr>\n",
       "      <td>(79.999, 89.0]</td>\n",
       "      <td>3698</td>\n",
       "      <td>0.051637</td>\n",
       "    </tr>\n",
       "    <tr>\n",
       "      <td>(89.999, 99.0]</td>\n",
       "      <td>3539</td>\n",
       "      <td>0.049416</td>\n",
       "    </tr>\n",
       "    <tr>\n",
       "      <td>(99.999, 109.0]</td>\n",
       "      <td>4658</td>\n",
       "      <td>0.065041</td>\n",
       "    </tr>\n",
       "    <tr>\n",
       "      <td>(109.999, 119.0]</td>\n",
       "      <td>5402</td>\n",
       "      <td>0.075430</td>\n",
       "    </tr>\n",
       "    <tr>\n",
       "      <td>(119.999, 129.0]</td>\n",
       "      <td>4414</td>\n",
       "      <td>0.061634</td>\n",
       "    </tr>\n",
       "    <tr>\n",
       "      <td>(129.999, 139.0]</td>\n",
       "      <td>705</td>\n",
       "      <td>0.009844</td>\n",
       "    </tr>\n",
       "    <tr>\n",
       "      <td>(139.999, 149.0]</td>\n",
       "      <td>177</td>\n",
       "      <td>0.002472</td>\n",
       "    </tr>\n",
       "    <tr>\n",
       "      <td>(149.999, 159.0]</td>\n",
       "      <td>117</td>\n",
       "      <td>0.001634</td>\n",
       "    </tr>\n",
       "    <tr>\n",
       "      <td>(159.999, 169.0]</td>\n",
       "      <td>100</td>\n",
       "      <td>0.001396</td>\n",
       "    </tr>\n",
       "    <tr>\n",
       "      <td>(169.999, 179.0]</td>\n",
       "      <td>153</td>\n",
       "      <td>0.002136</td>\n",
       "    </tr>\n",
       "    <tr>\n",
       "      <td>(179.999, 189.0]</td>\n",
       "      <td>241</td>\n",
       "      <td>0.003365</td>\n",
       "    </tr>\n",
       "    <tr>\n",
       "      <td>(189.999, 199.0]</td>\n",
       "      <td>294</td>\n",
       "      <td>0.004105</td>\n",
       "    </tr>\n",
       "    <tr>\n",
       "      <td>(199.999, 209.0]</td>\n",
       "      <td>272</td>\n",
       "      <td>0.003798</td>\n",
       "    </tr>\n",
       "    <tr>\n",
       "      <td>(209.999, 219.0]</td>\n",
       "      <td>18</td>\n",
       "      <td>0.000251</td>\n",
       "    </tr>\n",
       "  </tbody>\n",
       "</table>\n",
       "</div>"
      ],
      "text/plain": [
       "                  counts  normalized\n",
       "(-0.001, 9.0]       9995    0.139564\n",
       "(9.999, 19.0]      11498    0.160551\n",
       "(19.999, 29.0]      6624    0.092493\n",
       "(29.999, 39.0]      4466    0.062360\n",
       "(39.999, 49.0]      4016    0.056077\n",
       "(49.999, 59.0]      3619    0.050533\n",
       "(59.999, 69.0]      3782    0.052809\n",
       "(69.999, 79.0]      3828    0.053452\n",
       "(79.999, 89.0]      3698    0.051637\n",
       "(89.999, 99.0]      3539    0.049416\n",
       "(99.999, 109.0]     4658    0.065041\n",
       "(109.999, 119.0]    5402    0.075430\n",
       "(119.999, 129.0]    4414    0.061634\n",
       "(129.999, 139.0]     705    0.009844\n",
       "(139.999, 149.0]     177    0.002472\n",
       "(149.999, 159.0]     117    0.001634\n",
       "(159.999, 169.0]     100    0.001396\n",
       "(169.999, 179.0]     153    0.002136\n",
       "(179.999, 189.0]     241    0.003365\n",
       "(189.999, 199.0]     294    0.004105\n",
       "(199.999, 209.0]     272    0.003798\n",
       "(209.999, 219.0]      18    0.000251"
      ]
     },
     "execution_count": 56,
     "metadata": {},
     "output_type": "execute_result"
    }
   ],
   "source": [
    "myresult"
   ]
  },
  {
   "cell_type": "code",
   "execution_count": 57,
   "metadata": {},
   "outputs": [
    {
     "data": {
      "text/plain": [
       "<matplotlib.axes._subplots.AxesSubplot at 0x27f6216f4c8>"
      ]
     },
     "execution_count": 57,
     "metadata": {},
     "output_type": "execute_result"
    },
    {
     "data": {
      "image/png": "[encoded data removed]",
      "text/plain": [
       "<Figure size 720x720 with 1 Axes>"
      ]
     },
     "metadata": {
      "needs_background": "light"
     },
     "output_type": "display_data"
    }
   ],
   "source": [
    "myresult.plot.barh(y=\"counts\",figsize=(10, 10))"
   ]
  },
  {
   "cell_type": "markdown",
   "metadata": {},
   "source": [
    "在线月数越少的用户越容易接收回访调查"
   ]
  },
  {
   "cell_type": "markdown",
   "metadata": {},
   "source": [
    "# 对GENDER的统计分析"
   ]
  },
  {
   "cell_type": "code",
   "execution_count": 58,
   "metadata": {},
   "outputs": [],
   "source": [
    "gender_result = compulete_count_normalized_categories(df_all.GENDER)"
   ]
  },
  {
   "cell_type": "code",
   "execution_count": 59,
   "metadata": {},
   "outputs": [
    {
     "data": {
      "text/html": [
       "<div>\n",
       "<style scoped>\n",
       "    .dataframe tbody tr th:only-of-type {\n",
       "        vertical-align: middle;\n",
       "    }\n",
       "\n",
       "    .dataframe tbody tr th {\n",
       "        vertical-align: top;\n",
       "    }\n",
       "\n",
       "    .dataframe thead th {\n",
       "        text-align: right;\n",
       "    }\n",
       "</style>\n",
       "<table border=\"1\" class=\"dataframe\">\n",
       "  <thead>\n",
       "    <tr style=\"text-align: right;\">\n",
       "      <th></th>\n",
       "      <th>counts</th>\n",
       "      <th>normalized</th>\n",
       "    </tr>\n",
       "  </thead>\n",
       "  <tbody>\n",
       "    <tr>\n",
       "      <td>1.0</td>\n",
       "      <td>45728</td>\n",
       "      <td>0.706093</td>\n",
       "    </tr>\n",
       "    <tr>\n",
       "      <td>2.0</td>\n",
       "      <td>19034</td>\n",
       "      <td>0.293907</td>\n",
       "    </tr>\n",
       "  </tbody>\n",
       "</table>\n",
       "</div>"
      ],
      "text/plain": [
       "     counts  normalized\n",
       "1.0   45728    0.706093\n",
       "2.0   19034    0.293907"
      ]
     },
     "execution_count": 59,
     "metadata": {},
     "output_type": "execute_result"
    }
   ],
   "source": [
    "gender_result"
   ]
  },
  {
   "cell_type": "code",
   "execution_count": 60,
   "metadata": {},
   "outputs": [
    {
     "data": {
      "text/plain": [
       "<matplotlib.axes._subplots.AxesSubplot at 0x27f6ac8ca08>"
      ]
     },
     "execution_count": 60,
     "metadata": {},
     "output_type": "execute_result"
    },
    {
     "data": {
      "image/png": "[encoded data removed]",
      "text/plain": [
       "<Figure size 432x432 with 1 Axes>"
      ]
     },
     "metadata": {},
     "output_type": "display_data"
    }
   ],
   "source": [
    "gender_result.plot.pie(y='normalized', figsize=(6, 6))"
   ]
  },
  {
   "cell_type": "markdown",
   "metadata": {},
   "source": [
    "性别为1的用户所占比重极大"
   ]
  },
  {
   "cell_type": "markdown",
   "metadata": {},
   "source": [
    "# 对AGE的统计分析"
   ]
  },
  {
   "cell_type": "code",
   "execution_count": 38,
   "metadata": {},
   "outputs": [
    {
     "data": {
      "text/plain": [
       "15.0"
      ]
     },
     "execution_count": 38,
     "metadata": {},
     "output_type": "execute_result"
    }
   ],
   "source": [
    "df_all.AGE.min()"
   ]
  },
  {
   "cell_type": "code",
   "execution_count": 39,
   "metadata": {},
   "outputs": [
    {
     "data": {
      "text/plain": [
       "100.0"
      ]
     },
     "execution_count": 39,
     "metadata": {},
     "output_type": "execute_result"
    }
   ],
   "source": [
    "df_all.AGE.max()"
   ]
  },
  {
   "cell_type": "code",
   "execution_count": 61,
   "metadata": {},
   "outputs": [],
   "source": [
    "result_age = compulete_count_normalized(df_all.AGE, 10, 110, 10)"
   ]
  },
  {
   "cell_type": "code",
   "execution_count": 62,
   "metadata": {},
   "outputs": [
    {
     "data": {
      "text/html": [
       "<div>\n",
       "<style scoped>\n",
       "    .dataframe tbody tr th:only-of-type {\n",
       "        vertical-align: middle;\n",
       "    }\n",
       "\n",
       "    .dataframe tbody tr th {\n",
       "        vertical-align: top;\n",
       "    }\n",
       "\n",
       "    .dataframe thead th {\n",
       "        text-align: right;\n",
       "    }\n",
       "</style>\n",
       "<table border=\"1\" class=\"dataframe\">\n",
       "  <thead>\n",
       "    <tr style=\"text-align: right;\">\n",
       "      <th></th>\n",
       "      <th>counts</th>\n",
       "      <th>normalized</th>\n",
       "    </tr>\n",
       "  </thead>\n",
       "  <tbody>\n",
       "    <tr>\n",
       "      <td>(9.999, 19.0]</td>\n",
       "      <td>4</td>\n",
       "      <td>0.000056</td>\n",
       "    </tr>\n",
       "    <tr>\n",
       "      <td>(19.999, 29.0]</td>\n",
       "      <td>4670</td>\n",
       "      <td>0.065209</td>\n",
       "    </tr>\n",
       "    <tr>\n",
       "      <td>(29.999, 39.0]</td>\n",
       "      <td>15419</td>\n",
       "      <td>0.215301</td>\n",
       "    </tr>\n",
       "    <tr>\n",
       "      <td>(39.999, 49.0]</td>\n",
       "      <td>15161</td>\n",
       "      <td>0.211699</td>\n",
       "    </tr>\n",
       "    <tr>\n",
       "      <td>(49.999, 59.0]</td>\n",
       "      <td>16109</td>\n",
       "      <td>0.224936</td>\n",
       "    </tr>\n",
       "    <tr>\n",
       "      <td>(59.999, 69.0]</td>\n",
       "      <td>7914</td>\n",
       "      <td>0.110506</td>\n",
       "    </tr>\n",
       "    <tr>\n",
       "      <td>(69.999, 79.0]</td>\n",
       "      <td>3966</td>\n",
       "      <td>0.055379</td>\n",
       "    </tr>\n",
       "    <tr>\n",
       "      <td>(79.999, 89.0]</td>\n",
       "      <td>1172</td>\n",
       "      <td>0.016365</td>\n",
       "    </tr>\n",
       "    <tr>\n",
       "      <td>(89.999, 99.0]</td>\n",
       "      <td>342</td>\n",
       "      <td>0.004775</td>\n",
       "    </tr>\n",
       "  </tbody>\n",
       "</table>\n",
       "</div>"
      ],
      "text/plain": [
       "                counts  normalized\n",
       "(9.999, 19.0]        4    0.000056\n",
       "(19.999, 29.0]    4670    0.065209\n",
       "(29.999, 39.0]   15419    0.215301\n",
       "(39.999, 49.0]   15161    0.211699\n",
       "(49.999, 59.0]   16109    0.224936\n",
       "(59.999, 69.0]    7914    0.110506\n",
       "(69.999, 79.0]    3966    0.055379\n",
       "(79.999, 89.0]    1172    0.016365\n",
       "(89.999, 99.0]     342    0.004775"
      ]
     },
     "execution_count": 62,
     "metadata": {},
     "output_type": "execute_result"
    }
   ],
   "source": [
    "result_age"
   ]
  },
  {
   "cell_type": "code",
   "execution_count": 64,
   "metadata": {},
   "outputs": [
    {
     "data": {
      "text/plain": [
       "<matplotlib.axes._subplots.AxesSubplot at 0x27f796a7d88>"
      ]
     },
     "execution_count": 64,
     "metadata": {},
     "output_type": "execute_result"
    },
    {
     "data": {
      "image/png": "[encoded data removed]",
      "text/plain": [
       "<Figure size 432x432 with 1 Axes>"
      ]
     },
     "metadata": {
      "needs_background": "light"
     },
     "output_type": "display_data"
    }
   ],
   "source": [
    "result_age.plot.barh(y=\"counts\", figsize=(6, 6))"
   ]
  },
  {
   "cell_type": "markdown",
   "metadata": {},
   "source": [
    "主要年段集中在30——60岁，60岁后易访数量不断下降"
   ]
  },
  {
   "cell_type": "markdown",
   "metadata": {},
   "source": [
    "# 对IF_GROUP的统计分析"
   ]
  },
  {
   "cell_type": "code",
   "execution_count": 46,
   "metadata": {},
   "outputs": [],
   "source": [
    "result_if_group = compulete_count_normalized_categories(df_all.IF_GROUP)"
   ]
  },
  {
   "cell_type": "code",
   "execution_count": 47,
   "metadata": {},
   "outputs": [
    {
     "data": {
      "text/html": [
       "<div>\n",
       "<style scoped>\n",
       "    .dataframe tbody tr th:only-of-type {\n",
       "        vertical-align: middle;\n",
       "    }\n",
       "\n",
       "    .dataframe tbody tr th {\n",
       "        vertical-align: top;\n",
       "    }\n",
       "\n",
       "    .dataframe thead th {\n",
       "        text-align: right;\n",
       "    }\n",
       "</style>\n",
       "<table border=\"1\" class=\"dataframe\">\n",
       "  <thead>\n",
       "    <tr style=\"text-align: right;\">\n",
       "      <th></th>\n",
       "      <th>counts</th>\n",
       "      <th>normalized</th>\n",
       "    </tr>\n",
       "  </thead>\n",
       "  <tbody>\n",
       "    <tr>\n",
       "      <td>N</td>\n",
       "      <td>46928</td>\n",
       "      <td>0.655273</td>\n",
       "    </tr>\n",
       "    <tr>\n",
       "      <td>Y</td>\n",
       "      <td>24688</td>\n",
       "      <td>0.344727</td>\n",
       "    </tr>\n",
       "  </tbody>\n",
       "</table>\n",
       "</div>"
      ],
      "text/plain": [
       "   counts  normalized\n",
       "N   46928    0.655273\n",
       "Y   24688    0.344727"
      ]
     },
     "execution_count": 47,
     "metadata": {},
     "output_type": "execute_result"
    }
   ],
   "source": [
    "result_if_group"
   ]
  },
  {
   "cell_type": "code",
   "execution_count": 48,
   "metadata": {},
   "outputs": [
    {
     "data": {
      "text/plain": [
       "<matplotlib.axes._subplots.AxesSubplot at 0x1fb801ebb88>"
      ]
     },
     "execution_count": 48,
     "metadata": {},
     "output_type": "execute_result"
    },
    {
     "data": {
      "image/png": "[encoded data removed]",
      "text/plain": [
       "<Figure size 432x432 with 1 Axes>"
      ]
     },
     "metadata": {},
     "output_type": "display_data"
    }
   ],
   "source": [
    "result_if_group.plot.pie(y=\"normalized\", figsize=(6, 6))"
   ]
  },
  {
   "cell_type": "markdown",
   "metadata": {},
   "source": [
    "非集团用户所占比重较大"
   ]
  },
  {
   "cell_type": "markdown",
   "metadata": {},
   "source": [
    "# 对IF_SCHOOL的统计分析"
   ]
  },
  {
   "cell_type": "code",
   "execution_count": 49,
   "metadata": {},
   "outputs": [],
   "source": [
    "result_if_school = compulete_count_normalized_categories(df_all.IF_SCHOOL)"
   ]
  },
  {
   "cell_type": "code",
   "execution_count": 50,
   "metadata": {},
   "outputs": [
    {
     "data": {
      "text/html": [
       "<div>\n",
       "<style scoped>\n",
       "    .dataframe tbody tr th:only-of-type {\n",
       "        vertical-align: middle;\n",
       "    }\n",
       "\n",
       "    .dataframe tbody tr th {\n",
       "        vertical-align: top;\n",
       "    }\n",
       "\n",
       "    .dataframe thead th {\n",
       "        text-align: right;\n",
       "    }\n",
       "</style>\n",
       "<table border=\"1\" class=\"dataframe\">\n",
       "  <thead>\n",
       "    <tr style=\"text-align: right;\">\n",
       "      <th></th>\n",
       "      <th>counts</th>\n",
       "      <th>normalized</th>\n",
       "    </tr>\n",
       "  </thead>\n",
       "  <tbody>\n",
       "    <tr>\n",
       "      <td>N</td>\n",
       "      <td>69647</td>\n",
       "      <td>0.972506</td>\n",
       "    </tr>\n",
       "    <tr>\n",
       "      <td>Y</td>\n",
       "      <td>1969</td>\n",
       "      <td>0.027494</td>\n",
       "    </tr>\n",
       "  </tbody>\n",
       "</table>\n",
       "</div>"
      ],
      "text/plain": [
       "   counts  normalized\n",
       "N   69647    0.972506\n",
       "Y    1969    0.027494"
      ]
     },
     "execution_count": 50,
     "metadata": {},
     "output_type": "execute_result"
    }
   ],
   "source": [
    "result_if_school"
   ]
  },
  {
   "cell_type": "code",
   "execution_count": 51,
   "metadata": {},
   "outputs": [
    {
     "data": {
      "text/plain": [
       "<matplotlib.axes._subplots.AxesSubplot at 0x1fbfbcfdc48>"
      ]
     },
     "execution_count": 51,
     "metadata": {},
     "output_type": "execute_result"
    },
    {
     "data": {
      "image/png": "[encoded data removed]",
      "text/plain": [
       "<Figure size 432x432 with 1 Axes>"
      ]
     },
     "metadata": {},
     "output_type": "display_data"
    }
   ],
   "source": [
    "result_if_school.plot.pie(y=\"normalized\", figsize=(6, 6))"
   ]
  },
  {
   "cell_type": "markdown",
   "metadata": {},
   "source": [
    "非校园用户所占比重极大，达到97.25%"
   ]
  },
  {
   "cell_type": "markdown",
   "metadata": {},
   "source": [
    "# 对BRD_F的统计分析"
   ]
  },
  {
   "cell_type": "code",
   "execution_count": 52,
   "metadata": {},
   "outputs": [],
   "source": [
    "result_brd_f = compulete_count_normalized_categories(df_all.BRD_F)"
   ]
  },
  {
   "cell_type": "code",
   "execution_count": 53,
   "metadata": {},
   "outputs": [
    {
     "data": {
      "text/html": [
       "<div>\n",
       "<style scoped>\n",
       "    .dataframe tbody tr th:only-of-type {\n",
       "        vertical-align: middle;\n",
       "    }\n",
       "\n",
       "    .dataframe tbody tr th {\n",
       "        vertical-align: top;\n",
       "    }\n",
       "\n",
       "    .dataframe thead th {\n",
       "        text-align: right;\n",
       "    }\n",
       "</style>\n",
       "<table border=\"1\" class=\"dataframe\">\n",
       "  <thead>\n",
       "    <tr style=\"text-align: right;\">\n",
       "      <th></th>\n",
       "      <th>counts</th>\n",
       "      <th>normalized</th>\n",
       "    </tr>\n",
       "  </thead>\n",
       "  <tbody>\n",
       "    <tr>\n",
       "      <td>Y</td>\n",
       "      <td>51971</td>\n",
       "      <td>0.72569</td>\n",
       "    </tr>\n",
       "    <tr>\n",
       "      <td>N</td>\n",
       "      <td>19645</td>\n",
       "      <td>0.27431</td>\n",
       "    </tr>\n",
       "  </tbody>\n",
       "</table>\n",
       "</div>"
      ],
      "text/plain": [
       "   counts  normalized\n",
       "Y   51971     0.72569\n",
       "N   19645     0.27431"
      ]
     },
     "execution_count": 53,
     "metadata": {},
     "output_type": "execute_result"
    }
   ],
   "source": [
    "result_brd_f"
   ]
  },
  {
   "cell_type": "code",
   "execution_count": 54,
   "metadata": {},
   "outputs": [
    {
     "data": {
      "text/plain": [
       "<matplotlib.axes._subplots.AxesSubplot at 0x1fbfba19288>"
      ]
     },
     "execution_count": 54,
     "metadata": {},
     "output_type": "execute_result"
    },
    {
     "data": {
      "image/png": "[encoded data removed]",
      "text/plain": [
       "<Figure size 432x432 with 1 Axes>"
      ]
     },
     "metadata": {},
     "output_type": "display_data"
    }
   ],
   "source": [
    "result_brd_f.plot.pie(y=\"normalized\", figsize=(6, 6))"
   ]
  },
  {
   "cell_type": "markdown",
   "metadata": {},
   "source": [
    "宽带用户所占比重为72.57%"
   ]
  },
  {
   "cell_type": "markdown",
   "metadata": {},
   "source": [
    "# 对BRD_RAX的统计分析"
   ]
  },
  {
   "cell_type": "code",
   "execution_count": 55,
   "metadata": {},
   "outputs": [
    {
     "data": {
      "text/plain": [
       "2.0"
      ]
     },
     "execution_count": 55,
     "metadata": {},
     "output_type": "execute_result"
    }
   ],
   "source": [
    "df_all.BRD_RAX.min()"
   ]
  },
  {
   "cell_type": "code",
   "execution_count": 59,
   "metadata": {},
   "outputs": [
    {
     "data": {
      "text/plain": [
       "(599.999, 1000.0]    444\n",
       "Name: BRD_RAX, dtype: int64"
      ]
     },
     "execution_count": 59,
     "metadata": {},
     "output_type": "execute_result"
    }
   ],
   "source": [
    "df_all.BRD_RAX.value_counts(bins=[600,1000])"
   ]
  },
  {
   "cell_type": "code",
   "execution_count": 60,
   "metadata": {},
   "outputs": [
    {
     "name": "stdout",
     "output_type": "stream",
     "text": [
      "<class 'pandas.core.series.Series'>\n"
     ]
    }
   ],
   "source": [
    "result_brd_rax = compulete_count_normalized(df_all.BRD_RAX, 0, 1100, 100)"
   ]
  },
  {
   "cell_type": "code",
   "execution_count": 61,
   "metadata": {},
   "outputs": [
    {
     "data": {
      "text/html": [
       "<div>\n",
       "<style scoped>\n",
       "    .dataframe tbody tr th:only-of-type {\n",
       "        vertical-align: middle;\n",
       "    }\n",
       "\n",
       "    .dataframe tbody tr th {\n",
       "        vertical-align: top;\n",
       "    }\n",
       "\n",
       "    .dataframe thead th {\n",
       "        text-align: right;\n",
       "    }\n",
       "</style>\n",
       "<table border=\"1\" class=\"dataframe\">\n",
       "  <thead>\n",
       "    <tr style=\"text-align: right;\">\n",
       "      <th></th>\n",
       "      <th>counts</th>\n",
       "      <th>normalized</th>\n",
       "    </tr>\n",
       "  </thead>\n",
       "  <tbody>\n",
       "    <tr>\n",
       "      <td>(-0.001, 99.0]</td>\n",
       "      <td>2914</td>\n",
       "      <td>0.040689</td>\n",
       "    </tr>\n",
       "    <tr>\n",
       "      <td>(99.999, 199.0]</td>\n",
       "      <td>20009</td>\n",
       "      <td>0.279393</td>\n",
       "    </tr>\n",
       "    <tr>\n",
       "      <td>(199.999, 299.0]</td>\n",
       "      <td>22063</td>\n",
       "      <td>0.308074</td>\n",
       "    </tr>\n",
       "    <tr>\n",
       "      <td>(299.999, 399.0]</td>\n",
       "      <td>1108</td>\n",
       "      <td>0.015471</td>\n",
       "    </tr>\n",
       "    <tr>\n",
       "      <td>(499.999, 599.0]</td>\n",
       "      <td>5313</td>\n",
       "      <td>0.074187</td>\n",
       "    </tr>\n",
       "  </tbody>\n",
       "</table>\n",
       "</div>"
      ],
      "text/plain": [
       "                  counts  normalized\n",
       "(-0.001, 99.0]      2914    0.040689\n",
       "(99.999, 199.0]    20009    0.279393\n",
       "(199.999, 299.0]   22063    0.308074\n",
       "(299.999, 399.0]    1108    0.015471\n",
       "(499.999, 599.0]    5313    0.074187"
      ]
     },
     "execution_count": 61,
     "metadata": {},
     "output_type": "execute_result"
    }
   ],
   "source": [
    "result_brd_rax"
   ]
  },
  {
   "cell_type": "code",
   "execution_count": 62,
   "metadata": {},
   "outputs": [
    {
     "data": {
      "text/plain": [
       "<matplotlib.axes._subplots.AxesSubplot at 0x1fb85de9688>"
      ]
     },
     "execution_count": 62,
     "metadata": {},
     "output_type": "execute_result"
    },
    {
     "data": {
      "image/png": "[encoded data removed]",
      "text/plain": [
       "<Figure size 432x432 with 1 Axes>"
      ]
     },
     "metadata": {},
     "output_type": "display_data"
    }
   ],
   "source": [
    "result_brd_rax.plot.pie(y=\"normalized\", figsize=(6, 6))"
   ]
  },
  {
   "cell_type": "markdown",
   "metadata": {},
   "source": [
    "易访用户中宽带速率在100-300的用户占大多数"
   ]
  },
  {
   "cell_type": "markdown",
   "metadata": {},
   "source": [
    "# 对BRD_ACTIVE_DAYS的统计分析"
   ]
  },
  {
   "cell_type": "code",
   "execution_count": 17,
   "metadata": {},
   "outputs": [
    {
     "data": {
      "text/plain": [
       "1.0"
      ]
     },
     "execution_count": 17,
     "metadata": {},
     "output_type": "execute_result"
    }
   ],
   "source": [
    "df_all.BRD_ACTIVE_DAYS.min()"
   ]
  },
  {
   "cell_type": "code",
   "execution_count": 18,
   "metadata": {},
   "outputs": [
    {
     "data": {
      "text/plain": [
       "31.0"
      ]
     },
     "execution_count": 18,
     "metadata": {},
     "output_type": "execute_result"
    }
   ],
   "source": [
    "df_all.BRD_ACTIVE_DAYS.max()"
   ]
  },
  {
   "cell_type": "code",
   "execution_count": 21,
   "metadata": {},
   "outputs": [],
   "source": [
    "result_brd_active_days = compulete_count_normalized(df_all.BRD_ACTIVE_DAYS, 0, 36, 5)"
   ]
  },
  {
   "cell_type": "code",
   "execution_count": 22,
   "metadata": {},
   "outputs": [
    {
     "data": {
      "text/html": [
       "<div>\n",
       "<style scoped>\n",
       "    .dataframe tbody tr th:only-of-type {\n",
       "        vertical-align: middle;\n",
       "    }\n",
       "\n",
       "    .dataframe tbody tr th {\n",
       "        vertical-align: top;\n",
       "    }\n",
       "\n",
       "    .dataframe thead th {\n",
       "        text-align: right;\n",
       "    }\n",
       "</style>\n",
       "<table border=\"1\" class=\"dataframe\">\n",
       "  <thead>\n",
       "    <tr style=\"text-align: right;\">\n",
       "      <th></th>\n",
       "      <th>counts</th>\n",
       "      <th>normalized</th>\n",
       "    </tr>\n",
       "  </thead>\n",
       "  <tbody>\n",
       "    <tr>\n",
       "      <td>(-0.001, 4.0]</td>\n",
       "      <td>31281</td>\n",
       "      <td>0.436788</td>\n",
       "    </tr>\n",
       "    <tr>\n",
       "      <td>(4.999, 9.0]</td>\n",
       "      <td>5273</td>\n",
       "      <td>0.073629</td>\n",
       "    </tr>\n",
       "    <tr>\n",
       "      <td>(9.999, 14.0]</td>\n",
       "      <td>1629</td>\n",
       "      <td>0.022746</td>\n",
       "    </tr>\n",
       "    <tr>\n",
       "      <td>(14.999, 19.0]</td>\n",
       "      <td>1666</td>\n",
       "      <td>0.023263</td>\n",
       "    </tr>\n",
       "    <tr>\n",
       "      <td>(19.999, 24.0]</td>\n",
       "      <td>1192</td>\n",
       "      <td>0.016644</td>\n",
       "    </tr>\n",
       "    <tr>\n",
       "      <td>(24.999, 29.0]</td>\n",
       "      <td>2227</td>\n",
       "      <td>0.031096</td>\n",
       "    </tr>\n",
       "    <tr>\n",
       "      <td>(29.999, 34.0]</td>\n",
       "      <td>1751</td>\n",
       "      <td>0.024450</td>\n",
       "    </tr>\n",
       "  </tbody>\n",
       "</table>\n",
       "</div>"
      ],
      "text/plain": [
       "                counts  normalized\n",
       "(-0.001, 4.0]    31281    0.436788\n",
       "(4.999, 9.0]      5273    0.073629\n",
       "(9.999, 14.0]     1629    0.022746\n",
       "(14.999, 19.0]    1666    0.023263\n",
       "(19.999, 24.0]    1192    0.016644\n",
       "(24.999, 29.0]    2227    0.031096\n",
       "(29.999, 34.0]    1751    0.024450"
      ]
     },
     "execution_count": 22,
     "metadata": {},
     "output_type": "execute_result"
    }
   ],
   "source": [
    "result_brd_active_days"
   ]
  },
  {
   "cell_type": "code",
   "execution_count": 23,
   "metadata": {},
   "outputs": [
    {
     "data": {
      "text/plain": [
       "<matplotlib.axes._subplots.AxesSubplot at 0x1e1f24dd408>"
      ]
     },
     "execution_count": 23,
     "metadata": {},
     "output_type": "execute_result"
    },
    {
     "data": {
      "image/png": "[encoded data removed]",
      "text/plain": [
       "<Figure size 432x432 with 1 Axes>"
      ]
     },
     "metadata": {},
     "output_type": "display_data"
    }
   ],
   "source": [
    "result_brd_active_days.plot.pie(y=\"normalized\", figsize=(6, 6))"
   ]
  },
  {
   "cell_type": "markdown",
   "metadata": {},
   "source": [
    "月宽带活跃天数在5天以下的占比重较大"
   ]
  },
  {
   "cell_type": "markdown",
   "metadata": {},
   "source": [
    "# 对IF_ITV的统计分析"
   ]
  },
  {
   "cell_type": "code",
   "execution_count": 25,
   "metadata": {},
   "outputs": [],
   "source": [
    "result_if_ITV = compulete_count_normalized_categories(df_all.IF_ITV)"
   ]
  },
  {
   "cell_type": "code",
   "execution_count": 26,
   "metadata": {},
   "outputs": [
    {
     "data": {
      "text/html": [
       "<div>\n",
       "<style scoped>\n",
       "    .dataframe tbody tr th:only-of-type {\n",
       "        vertical-align: middle;\n",
       "    }\n",
       "\n",
       "    .dataframe tbody tr th {\n",
       "        vertical-align: top;\n",
       "    }\n",
       "\n",
       "    .dataframe thead th {\n",
       "        text-align: right;\n",
       "    }\n",
       "</style>\n",
       "<table border=\"1\" class=\"dataframe\">\n",
       "  <thead>\n",
       "    <tr style=\"text-align: right;\">\n",
       "      <th></th>\n",
       "      <th>counts</th>\n",
       "      <th>normalized</th>\n",
       "    </tr>\n",
       "  </thead>\n",
       "  <tbody>\n",
       "    <tr>\n",
       "      <td>Y</td>\n",
       "      <td>41229</td>\n",
       "      <td>1.0</td>\n",
       "    </tr>\n",
       "  </tbody>\n",
       "</table>\n",
       "</div>"
      ],
      "text/plain": [
       "   counts  normalized\n",
       "Y   41229         1.0"
      ]
     },
     "execution_count": 26,
     "metadata": {},
     "output_type": "execute_result"
    }
   ],
   "source": [
    "result_if_ITV"
   ]
  },
  {
   "cell_type": "markdown",
   "metadata": {},
   "source": [
    "除缺失部分外，所有易访用户都是ITV用户"
   ]
  },
  {
   "cell_type": "markdown",
   "metadata": {},
   "source": [
    "# 对IF_DBL_CARD的统计分析"
   ]
  },
  {
   "cell_type": "code",
   "execution_count": 27,
   "metadata": {},
   "outputs": [],
   "source": [
    "result_if_dbl_card = compulete_count_normalized_categories(df_all.IF_DBL_CARD)"
   ]
  },
  {
   "cell_type": "code",
   "execution_count": 28,
   "metadata": {},
   "outputs": [
    {
     "data": {
      "text/html": [
       "<div>\n",
       "<style scoped>\n",
       "    .dataframe tbody tr th:only-of-type {\n",
       "        vertical-align: middle;\n",
       "    }\n",
       "\n",
       "    .dataframe tbody tr th {\n",
       "        vertical-align: top;\n",
       "    }\n",
       "\n",
       "    .dataframe thead th {\n",
       "        text-align: right;\n",
       "    }\n",
       "</style>\n",
       "<table border=\"1\" class=\"dataframe\">\n",
       "  <thead>\n",
       "    <tr style=\"text-align: right;\">\n",
       "      <th></th>\n",
       "      <th>counts</th>\n",
       "      <th>normalized</th>\n",
       "    </tr>\n",
       "  </thead>\n",
       "  <tbody>\n",
       "    <tr>\n",
       "      <td>Y</td>\n",
       "      <td>45466</td>\n",
       "      <td>0.634858</td>\n",
       "    </tr>\n",
       "    <tr>\n",
       "      <td>N</td>\n",
       "      <td>26150</td>\n",
       "      <td>0.365142</td>\n",
       "    </tr>\n",
       "  </tbody>\n",
       "</table>\n",
       "</div>"
      ],
      "text/plain": [
       "   counts  normalized\n",
       "Y   45466    0.634858\n",
       "N   26150    0.365142"
      ]
     },
     "execution_count": 28,
     "metadata": {},
     "output_type": "execute_result"
    }
   ],
   "source": [
    "result_if_dbl_card"
   ]
  },
  {
   "cell_type": "code",
   "execution_count": 29,
   "metadata": {},
   "outputs": [
    {
     "data": {
      "text/plain": [
       "<matplotlib.axes._subplots.AxesSubplot at 0x1e1f237db88>"
      ]
     },
     "execution_count": 29,
     "metadata": {},
     "output_type": "execute_result"
    },
    {
     "data": {
      "image/png": "[encoded data removed]",
      "text/plain": [
       "<Figure size 432x432 with 1 Axes>"
      ]
     },
     "metadata": {},
     "output_type": "display_data"
    }
   ],
   "source": [
    "result_if_dbl_card.plot.pie(y=\"normalized\", figsize=(6, 6))"
   ]
  },
  {
   "cell_type": "markdown",
   "metadata": {},
   "source": [
    "易访用户中双卡用户占比重较大"
   ]
  },
  {
   "cell_type": "markdown",
   "metadata": {},
   "source": [
    "# 对IF_4G_TRMNL的统计分析"
   ]
  },
  {
   "cell_type": "code",
   "execution_count": 30,
   "metadata": {},
   "outputs": [],
   "source": [
    "result_if_4g_trmnl = compulete_count_normalized_categories(df_all.IF_4G_TRMNL)"
   ]
  },
  {
   "cell_type": "code",
   "execution_count": 31,
   "metadata": {},
   "outputs": [
    {
     "data": {
      "text/html": [
       "<div>\n",
       "<style scoped>\n",
       "    .dataframe tbody tr th:only-of-type {\n",
       "        vertical-align: middle;\n",
       "    }\n",
       "\n",
       "    .dataframe tbody tr th {\n",
       "        vertical-align: top;\n",
       "    }\n",
       "\n",
       "    .dataframe thead th {\n",
       "        text-align: right;\n",
       "    }\n",
       "</style>\n",
       "<table border=\"1\" class=\"dataframe\">\n",
       "  <thead>\n",
       "    <tr style=\"text-align: right;\">\n",
       "      <th></th>\n",
       "      <th>counts</th>\n",
       "      <th>normalized</th>\n",
       "    </tr>\n",
       "  </thead>\n",
       "  <tbody>\n",
       "    <tr>\n",
       "      <td>Y</td>\n",
       "      <td>60296</td>\n",
       "      <td>0.841935</td>\n",
       "    </tr>\n",
       "    <tr>\n",
       "      <td>N</td>\n",
       "      <td>11320</td>\n",
       "      <td>0.158065</td>\n",
       "    </tr>\n",
       "  </tbody>\n",
       "</table>\n",
       "</div>"
      ],
      "text/plain": [
       "   counts  normalized\n",
       "Y   60296    0.841935\n",
       "N   11320    0.158065"
      ]
     },
     "execution_count": 31,
     "metadata": {},
     "output_type": "execute_result"
    }
   ],
   "source": [
    "result_if_4g_trmnl"
   ]
  },
  {
   "cell_type": "code",
   "execution_count": 32,
   "metadata": {},
   "outputs": [
    {
     "data": {
      "text/plain": [
       "<matplotlib.axes._subplots.AxesSubplot at 0x1e1f690f488>"
      ]
     },
     "execution_count": 32,
     "metadata": {},
     "output_type": "execute_result"
    },
    {
     "data": {
      "image/png": "[encoded data removed]",
      "text/plain": [
       "<Figure size 432x432 with 1 Axes>"
      ]
     },
     "metadata": {},
     "output_type": "display_data"
    }
   ],
   "source": [
    "result_if_4g_trmnl.plot.pie(y=\"normalized\", figsize=(6, 6))"
   ]
  },
  {
   "cell_type": "markdown",
   "metadata": {},
   "source": [
    "易访用户84.19%为4G终端，考虑到当前普及的4G，该特征参考价值不大"
   ]
  },
  {
   "cell_type": "markdown",
   "metadata": {},
   "source": [
    "# 对TRMNL_MONTHS的统计分析"
   ]
  },
  {
   "cell_type": "code",
   "execution_count": 34,
   "metadata": {},
   "outputs": [
    {
     "data": {
      "text/plain": [
       "-15.0"
      ]
     },
     "execution_count": 34,
     "metadata": {},
     "output_type": "execute_result"
    }
   ],
   "source": [
    "df_all.TRMNL_MONTHS.min()"
   ]
  },
  {
   "cell_type": "code",
   "execution_count": 35,
   "metadata": {},
   "outputs": [
    {
     "data": {
      "text/plain": [
       "168.0"
      ]
     },
     "execution_count": 35,
     "metadata": {},
     "output_type": "execute_result"
    }
   ],
   "source": [
    "df_all.TRMNL_MONTHS.max()"
   ]
  },
  {
   "cell_type": "code",
   "execution_count": 65,
   "metadata": {},
   "outputs": [],
   "source": [
    "result_trmnl_months = compulete_count_normalized(df_all.TRMNL_MONTHS, 0, 180, 10)"
   ]
  },
  {
   "cell_type": "code",
   "execution_count": 66,
   "metadata": {},
   "outputs": [
    {
     "data": {
      "text/html": [
       "<div>\n",
       "<style scoped>\n",
       "    .dataframe tbody tr th:only-of-type {\n",
       "        vertical-align: middle;\n",
       "    }\n",
       "\n",
       "    .dataframe tbody tr th {\n",
       "        vertical-align: top;\n",
       "    }\n",
       "\n",
       "    .dataframe thead th {\n",
       "        text-align: right;\n",
       "    }\n",
       "</style>\n",
       "<table border=\"1\" class=\"dataframe\">\n",
       "  <thead>\n",
       "    <tr style=\"text-align: right;\">\n",
       "      <th></th>\n",
       "      <th>counts</th>\n",
       "      <th>normalized</th>\n",
       "    </tr>\n",
       "  </thead>\n",
       "  <tbody>\n",
       "    <tr>\n",
       "      <td>(-0.001, 9.0]</td>\n",
       "      <td>21993</td>\n",
       "      <td>0.307096</td>\n",
       "    </tr>\n",
       "    <tr>\n",
       "      <td>(9.999, 19.0]</td>\n",
       "      <td>18196</td>\n",
       "      <td>0.254077</td>\n",
       "    </tr>\n",
       "    <tr>\n",
       "      <td>(19.999, 29.0]</td>\n",
       "      <td>11581</td>\n",
       "      <td>0.161710</td>\n",
       "    </tr>\n",
       "    <tr>\n",
       "      <td>(29.999, 39.0]</td>\n",
       "      <td>7507</td>\n",
       "      <td>0.104823</td>\n",
       "    </tr>\n",
       "    <tr>\n",
       "      <td>(39.999, 49.0]</td>\n",
       "      <td>3791</td>\n",
       "      <td>0.052935</td>\n",
       "    </tr>\n",
       "    <tr>\n",
       "      <td>(49.999, 59.0]</td>\n",
       "      <td>2134</td>\n",
       "      <td>0.029798</td>\n",
       "    </tr>\n",
       "    <tr>\n",
       "      <td>(59.999, 69.0]</td>\n",
       "      <td>1173</td>\n",
       "      <td>0.016379</td>\n",
       "    </tr>\n",
       "    <tr>\n",
       "      <td>(69.999, 79.0]</td>\n",
       "      <td>762</td>\n",
       "      <td>0.010640</td>\n",
       "    </tr>\n",
       "    <tr>\n",
       "      <td>(79.999, 89.0]</td>\n",
       "      <td>471</td>\n",
       "      <td>0.006577</td>\n",
       "    </tr>\n",
       "    <tr>\n",
       "      <td>(89.999, 99.0]</td>\n",
       "      <td>330</td>\n",
       "      <td>0.004608</td>\n",
       "    </tr>\n",
       "    <tr>\n",
       "      <td>(99.999, 109.0]</td>\n",
       "      <td>318</td>\n",
       "      <td>0.004440</td>\n",
       "    </tr>\n",
       "    <tr>\n",
       "      <td>(109.999, 119.0]</td>\n",
       "      <td>275</td>\n",
       "      <td>0.003840</td>\n",
       "    </tr>\n",
       "    <tr>\n",
       "      <td>(119.999, 129.0]</td>\n",
       "      <td>191</td>\n",
       "      <td>0.002667</td>\n",
       "    </tr>\n",
       "    <tr>\n",
       "      <td>(129.999, 139.0]</td>\n",
       "      <td>22</td>\n",
       "      <td>0.000307</td>\n",
       "    </tr>\n",
       "    <tr>\n",
       "      <td>(139.999, 149.0]</td>\n",
       "      <td>1</td>\n",
       "      <td>0.000014</td>\n",
       "    </tr>\n",
       "    <tr>\n",
       "      <td>(149.999, 159.0]</td>\n",
       "      <td>15</td>\n",
       "      <td>0.000209</td>\n",
       "    </tr>\n",
       "    <tr>\n",
       "      <td>(159.999, 169.0]</td>\n",
       "      <td>39</td>\n",
       "      <td>0.000545</td>\n",
       "    </tr>\n",
       "  </tbody>\n",
       "</table>\n",
       "</div>"
      ],
      "text/plain": [
       "                  counts  normalized\n",
       "(-0.001, 9.0]      21993    0.307096\n",
       "(9.999, 19.0]      18196    0.254077\n",
       "(19.999, 29.0]     11581    0.161710\n",
       "(29.999, 39.0]      7507    0.104823\n",
       "(39.999, 49.0]      3791    0.052935\n",
       "(49.999, 59.0]      2134    0.029798\n",
       "(59.999, 69.0]      1173    0.016379\n",
       "(69.999, 79.0]       762    0.010640\n",
       "(79.999, 89.0]       471    0.006577\n",
       "(89.999, 99.0]       330    0.004608\n",
       "(99.999, 109.0]      318    0.004440\n",
       "(109.999, 119.0]     275    0.003840\n",
       "(119.999, 129.0]     191    0.002667\n",
       "(129.999, 139.0]      22    0.000307\n",
       "(139.999, 149.0]       1    0.000014\n",
       "(149.999, 159.0]      15    0.000209\n",
       "(159.999, 169.0]      39    0.000545"
      ]
     },
     "execution_count": 66,
     "metadata": {},
     "output_type": "execute_result"
    }
   ],
   "source": [
    "result_trmnl_months"
   ]
  },
  {
   "cell_type": "code",
   "execution_count": 67,
   "metadata": {},
   "outputs": [
    {
     "data": {
      "text/plain": [
       "<matplotlib.axes._subplots.AxesSubplot at 0x27f794caac8>"
      ]
     },
     "execution_count": 67,
     "metadata": {},
     "output_type": "execute_result"
    },
    {
     "data": {
      "image/png": "[encoded data removed]",
      "text/plain": [
       "<Figure size 432x432 with 1 Axes>"
      ]
     },
     "metadata": {
      "needs_background": "light"
     },
     "output_type": "display_data"
    }
   ],
   "source": [
    "result_trmnl_months.plot.barh(y=\"counts\", figsize=(6, 6))"
   ]
  },
  {
   "cell_type": "markdown",
   "metadata": {},
   "source": [
    "易访用户随着其终端机龄的不断增加而减少"
   ]
  },
  {
   "cell_type": "markdown",
   "metadata": {},
   "source": [
    "# MBL_DATA_FLOW_AMNT"
   ]
  },
  {
   "cell_type": "markdown",
   "metadata": {},
   "source": [
    "## 对MBL_DATA_FLOW_AMNT00的统计分析"
   ]
  },
  {
   "cell_type": "code",
   "execution_count": 42,
   "metadata": {},
   "outputs": [
    {
     "data": {
      "text/plain": [
       "0"
      ]
     },
     "execution_count": 42,
     "metadata": {},
     "output_type": "execute_result"
    }
   ],
   "source": [
    "df_all.MBL_DATA_FLOW_AMNT00.min()"
   ]
  },
  {
   "cell_type": "code",
   "execution_count": 43,
   "metadata": {},
   "outputs": [
    {
     "data": {
      "text/plain": [
       "237054"
      ]
     },
     "execution_count": 43,
     "metadata": {},
     "output_type": "execute_result"
    }
   ],
   "source": [
    "df_all.MBL_DATA_FLOW_AMNT00.max()"
   ]
  },
  {
   "cell_type": "code",
   "execution_count": 68,
   "metadata": {},
   "outputs": [],
   "source": [
    "result_mbl_data_flow_amnt00 = compulete_count_normalized(df_all.MBL_DATA_FLOW_AMNT00, 0, 238000,1000)"
   ]
  },
  {
   "cell_type": "code",
   "execution_count": 69,
   "metadata": {},
   "outputs": [],
   "source": [
    "result_mbl_data_flow_amnt00 = result_mbl_data_flow_amnt00.sort_values(by=[\"counts\"], ascending=False).head(10)"
   ]
  },
  {
   "cell_type": "code",
   "execution_count": 70,
   "metadata": {},
   "outputs": [
    {
     "data": {
      "text/html": [
       "<div>\n",
       "<style scoped>\n",
       "    .dataframe tbody tr th:only-of-type {\n",
       "        vertical-align: middle;\n",
       "    }\n",
       "\n",
       "    .dataframe tbody tr th {\n",
       "        vertical-align: top;\n",
       "    }\n",
       "\n",
       "    .dataframe thead th {\n",
       "        text-align: right;\n",
       "    }\n",
       "</style>\n",
       "<table border=\"1\" class=\"dataframe\">\n",
       "  <thead>\n",
       "    <tr style=\"text-align: right;\">\n",
       "      <th></th>\n",
       "      <th>counts</th>\n",
       "      <th>normalized</th>\n",
       "    </tr>\n",
       "  </thead>\n",
       "  <tbody>\n",
       "    <tr>\n",
       "      <td>(-0.001, 999.0]</td>\n",
       "      <td>26552</td>\n",
       "      <td>0.370755</td>\n",
       "    </tr>\n",
       "    <tr>\n",
       "      <td>(999.999, 1999.0]</td>\n",
       "      <td>5028</td>\n",
       "      <td>0.070208</td>\n",
       "    </tr>\n",
       "    <tr>\n",
       "      <td>(1999.999, 2999.0]</td>\n",
       "      <td>3618</td>\n",
       "      <td>0.050519</td>\n",
       "    </tr>\n",
       "    <tr>\n",
       "      <td>(2999.999, 3999.0]</td>\n",
       "      <td>3031</td>\n",
       "      <td>0.042323</td>\n",
       "    </tr>\n",
       "    <tr>\n",
       "      <td>(3999.999, 4999.0]</td>\n",
       "      <td>2539</td>\n",
       "      <td>0.035453</td>\n",
       "    </tr>\n",
       "    <tr>\n",
       "      <td>(4999.999, 5999.0]</td>\n",
       "      <td>2379</td>\n",
       "      <td>0.033219</td>\n",
       "    </tr>\n",
       "    <tr>\n",
       "      <td>(5999.999, 6999.0]</td>\n",
       "      <td>2051</td>\n",
       "      <td>0.028639</td>\n",
       "    </tr>\n",
       "    <tr>\n",
       "      <td>(6999.999, 7999.0]</td>\n",
       "      <td>1870</td>\n",
       "      <td>0.026111</td>\n",
       "    </tr>\n",
       "    <tr>\n",
       "      <td>(7999.999, 8999.0]</td>\n",
       "      <td>1724</td>\n",
       "      <td>0.024073</td>\n",
       "    </tr>\n",
       "    <tr>\n",
       "      <td>(9999.999, 10999.0]</td>\n",
       "      <td>1587</td>\n",
       "      <td>0.022160</td>\n",
       "    </tr>\n",
       "  </tbody>\n",
       "</table>\n",
       "</div>"
      ],
      "text/plain": [
       "                     counts  normalized\n",
       "(-0.001, 999.0]       26552    0.370755\n",
       "(999.999, 1999.0]      5028    0.070208\n",
       "(1999.999, 2999.0]     3618    0.050519\n",
       "(2999.999, 3999.0]     3031    0.042323\n",
       "(3999.999, 4999.0]     2539    0.035453\n",
       "(4999.999, 5999.0]     2379    0.033219\n",
       "(5999.999, 6999.0]     2051    0.028639\n",
       "(6999.999, 7999.0]     1870    0.026111\n",
       "(7999.999, 8999.0]     1724    0.024073\n",
       "(9999.999, 10999.0]    1587    0.022160"
      ]
     },
     "execution_count": 70,
     "metadata": {},
     "output_type": "execute_result"
    }
   ],
   "source": [
    "result_mbl_data_flow_amnt00"
   ]
  },
  {
   "cell_type": "code",
   "execution_count": 71,
   "metadata": {},
   "outputs": [
    {
     "data": {
      "text/plain": [
       "<matplotlib.axes._subplots.AxesSubplot at 0x27f76e220c8>"
      ]
     },
     "execution_count": 71,
     "metadata": {},
     "output_type": "execute_result"
    },
    {
     "data": {
      "image/png": "[encoded data removed]",
      "text/plain": [
       "<Figure size 432x432 with 1 Axes>"
      ]
     },
     "metadata": {
      "needs_background": "light"
     },
     "output_type": "display_data"
    }
   ],
   "source": [
    "result_mbl_data_flow_amnt00.plot.barh(y=\"counts\", figsize=(6, 6))"
   ]
  },
  {
   "cell_type": "markdown",
   "metadata": {},
   "source": [
    "当月流量在1000M以内的易访用户所占比重最多，之后随着流量使用越多易访用户数量不断减少"
   ]
  },
  {
   "cell_type": "markdown",
   "metadata": {},
   "source": [
    "## 对MBL_DATA_FLOW_AMNT01的统计分析"
   ]
  },
  {
   "cell_type": "code",
   "execution_count": 61,
   "metadata": {},
   "outputs": [
    {
     "data": {
      "text/plain": [
       "0.0"
      ]
     },
     "execution_count": 61,
     "metadata": {},
     "output_type": "execute_result"
    }
   ],
   "source": [
    "df_all.MBL_DATA_FLOW_AMNT01.min()"
   ]
  },
  {
   "cell_type": "code",
   "execution_count": 62,
   "metadata": {},
   "outputs": [
    {
     "data": {
      "text/plain": [
       "170083.0"
      ]
     },
     "execution_count": 62,
     "metadata": {},
     "output_type": "execute_result"
    }
   ],
   "source": [
    "df_all.MBL_DATA_FLOW_AMNT01.max()"
   ]
  },
  {
   "cell_type": "code",
   "execution_count": 72,
   "metadata": {},
   "outputs": [],
   "source": [
    "result_mbl_data_flow_amnt01 = compulete_count_normalized(df_all.MBL_DATA_FLOW_AMNT01, 0, 171000,1000)"
   ]
  },
  {
   "cell_type": "code",
   "execution_count": 73,
   "metadata": {},
   "outputs": [],
   "source": [
    "result_mbl_data_flow_amnt01 = result_mbl_data_flow_amnt01.sort_values(by=[\"counts\"], ascending=False).head(10)"
   ]
  },
  {
   "cell_type": "code",
   "execution_count": 74,
   "metadata": {},
   "outputs": [
    {
     "data": {
      "text/html": [
       "<div>\n",
       "<style scoped>\n",
       "    .dataframe tbody tr th:only-of-type {\n",
       "        vertical-align: middle;\n",
       "    }\n",
       "\n",
       "    .dataframe tbody tr th {\n",
       "        vertical-align: top;\n",
       "    }\n",
       "\n",
       "    .dataframe thead th {\n",
       "        text-align: right;\n",
       "    }\n",
       "</style>\n",
       "<table border=\"1\" class=\"dataframe\">\n",
       "  <thead>\n",
       "    <tr style=\"text-align: right;\">\n",
       "      <th></th>\n",
       "      <th>counts</th>\n",
       "      <th>normalized</th>\n",
       "    </tr>\n",
       "  </thead>\n",
       "  <tbody>\n",
       "    <tr>\n",
       "      <td>(-0.001, 999.0]</td>\n",
       "      <td>26946</td>\n",
       "      <td>0.376257</td>\n",
       "    </tr>\n",
       "    <tr>\n",
       "      <td>(999.999, 1999.0]</td>\n",
       "      <td>5030</td>\n",
       "      <td>0.070236</td>\n",
       "    </tr>\n",
       "    <tr>\n",
       "      <td>(1999.999, 2999.0]</td>\n",
       "      <td>3683</td>\n",
       "      <td>0.051427</td>\n",
       "    </tr>\n",
       "    <tr>\n",
       "      <td>(2999.999, 3999.0]</td>\n",
       "      <td>2922</td>\n",
       "      <td>0.040801</td>\n",
       "    </tr>\n",
       "    <tr>\n",
       "      <td>(3999.999, 4999.0]</td>\n",
       "      <td>2623</td>\n",
       "      <td>0.036626</td>\n",
       "    </tr>\n",
       "    <tr>\n",
       "      <td>(4999.999, 5999.0]</td>\n",
       "      <td>2279</td>\n",
       "      <td>0.031822</td>\n",
       "    </tr>\n",
       "    <tr>\n",
       "      <td>(5999.999, 6999.0]</td>\n",
       "      <td>2020</td>\n",
       "      <td>0.028206</td>\n",
       "    </tr>\n",
       "    <tr>\n",
       "      <td>(6999.999, 7999.0]</td>\n",
       "      <td>1753</td>\n",
       "      <td>0.024478</td>\n",
       "    </tr>\n",
       "    <tr>\n",
       "      <td>(7999.999, 8999.0]</td>\n",
       "      <td>1677</td>\n",
       "      <td>0.023417</td>\n",
       "    </tr>\n",
       "    <tr>\n",
       "      <td>(8999.999, 9999.0]</td>\n",
       "      <td>1596</td>\n",
       "      <td>0.022286</td>\n",
       "    </tr>\n",
       "  </tbody>\n",
       "</table>\n",
       "</div>"
      ],
      "text/plain": [
       "                    counts  normalized\n",
       "(-0.001, 999.0]      26946    0.376257\n",
       "(999.999, 1999.0]     5030    0.070236\n",
       "(1999.999, 2999.0]    3683    0.051427\n",
       "(2999.999, 3999.0]    2922    0.040801\n",
       "(3999.999, 4999.0]    2623    0.036626\n",
       "(4999.999, 5999.0]    2279    0.031822\n",
       "(5999.999, 6999.0]    2020    0.028206\n",
       "(6999.999, 7999.0]    1753    0.024478\n",
       "(7999.999, 8999.0]    1677    0.023417\n",
       "(8999.999, 9999.0]    1596    0.022286"
      ]
     },
     "execution_count": 74,
     "metadata": {},
     "output_type": "execute_result"
    }
   ],
   "source": [
    "result_mbl_data_flow_amnt01"
   ]
  },
  {
   "cell_type": "code",
   "execution_count": 75,
   "metadata": {},
   "outputs": [
    {
     "data": {
      "text/plain": [
       "<matplotlib.axes._subplots.AxesSubplot at 0x27f79a0da08>"
      ]
     },
     "execution_count": 75,
     "metadata": {},
     "output_type": "execute_result"
    },
    {
     "data": {
      "image/png": "[encoded data removed]",
      "text/plain": [
       "<Figure size 432x432 with 1 Axes>"
      ]
     },
     "metadata": {
      "needs_background": "light"
     },
     "output_type": "display_data"
    }
   ],
   "source": [
    "result_mbl_data_flow_amnt01.plot.barh(y=\"counts\", figsize=(6, 6))"
   ]
  },
  {
   "cell_type": "markdown",
   "metadata": {},
   "source": [
    "## 对MBL_DATA_FLOW_AMNT02的统计分析"
   ]
  },
  {
   "cell_type": "code",
   "execution_count": 8,
   "metadata": {},
   "outputs": [
    {
     "data": {
      "text/plain": [
       "0.0"
      ]
     },
     "execution_count": 8,
     "metadata": {},
     "output_type": "execute_result"
    }
   ],
   "source": [
    "df_all.MBL_DATA_FLOW_AMNT02.min()"
   ]
  },
  {
   "cell_type": "code",
   "execution_count": 9,
   "metadata": {},
   "outputs": [
    {
     "data": {
      "text/plain": [
       "169857.0"
      ]
     },
     "execution_count": 9,
     "metadata": {},
     "output_type": "execute_result"
    }
   ],
   "source": [
    "df_all.MBL_DATA_FLOW_AMNT02.max()"
   ]
  },
  {
   "cell_type": "code",
   "execution_count": 76,
   "metadata": {},
   "outputs": [],
   "source": [
    "result_mbl_data_flow_amnt02 = compulete_count_normalized(df_all.MBL_DATA_FLOW_AMNT02, 0, 171000,1000)"
   ]
  },
  {
   "cell_type": "code",
   "execution_count": 77,
   "metadata": {},
   "outputs": [],
   "source": [
    "result_mbl_data_flow_amnt02 = result_mbl_data_flow_amnt02.sort_values(by=[\"counts\"], ascending=False).head(10)"
   ]
  },
  {
   "cell_type": "code",
   "execution_count": 78,
   "metadata": {},
   "outputs": [
    {
     "data": {
      "text/html": [
       "<div>\n",
       "<style scoped>\n",
       "    .dataframe tbody tr th:only-of-type {\n",
       "        vertical-align: middle;\n",
       "    }\n",
       "\n",
       "    .dataframe tbody tr th {\n",
       "        vertical-align: top;\n",
       "    }\n",
       "\n",
       "    .dataframe thead th {\n",
       "        text-align: right;\n",
       "    }\n",
       "</style>\n",
       "<table border=\"1\" class=\"dataframe\">\n",
       "  <thead>\n",
       "    <tr style=\"text-align: right;\">\n",
       "      <th></th>\n",
       "      <th>counts</th>\n",
       "      <th>normalized</th>\n",
       "    </tr>\n",
       "  </thead>\n",
       "  <tbody>\n",
       "    <tr>\n",
       "      <td>(-0.001, 999.0]</td>\n",
       "      <td>27521</td>\n",
       "      <td>0.384286</td>\n",
       "    </tr>\n",
       "    <tr>\n",
       "      <td>(999.999, 1999.0]</td>\n",
       "      <td>5068</td>\n",
       "      <td>0.070766</td>\n",
       "    </tr>\n",
       "    <tr>\n",
       "      <td>(1999.999, 2999.0]</td>\n",
       "      <td>3598</td>\n",
       "      <td>0.050240</td>\n",
       "    </tr>\n",
       "    <tr>\n",
       "      <td>(2999.999, 3999.0]</td>\n",
       "      <td>3005</td>\n",
       "      <td>0.041960</td>\n",
       "    </tr>\n",
       "    <tr>\n",
       "      <td>(3999.999, 4999.0]</td>\n",
       "      <td>2504</td>\n",
       "      <td>0.034964</td>\n",
       "    </tr>\n",
       "    <tr>\n",
       "      <td>(4999.999, 5999.0]</td>\n",
       "      <td>2253</td>\n",
       "      <td>0.031459</td>\n",
       "    </tr>\n",
       "    <tr>\n",
       "      <td>(5999.999, 6999.0]</td>\n",
       "      <td>1928</td>\n",
       "      <td>0.026921</td>\n",
       "    </tr>\n",
       "    <tr>\n",
       "      <td>(6999.999, 7999.0]</td>\n",
       "      <td>1741</td>\n",
       "      <td>0.024310</td>\n",
       "    </tr>\n",
       "    <tr>\n",
       "      <td>(7999.999, 8999.0]</td>\n",
       "      <td>1637</td>\n",
       "      <td>0.022858</td>\n",
       "    </tr>\n",
       "    <tr>\n",
       "      <td>(8999.999, 9999.0]</td>\n",
       "      <td>1514</td>\n",
       "      <td>0.021141</td>\n",
       "    </tr>\n",
       "  </tbody>\n",
       "</table>\n",
       "</div>"
      ],
      "text/plain": [
       "                    counts  normalized\n",
       "(-0.001, 999.0]      27521    0.384286\n",
       "(999.999, 1999.0]     5068    0.070766\n",
       "(1999.999, 2999.0]    3598    0.050240\n",
       "(2999.999, 3999.0]    3005    0.041960\n",
       "(3999.999, 4999.0]    2504    0.034964\n",
       "(4999.999, 5999.0]    2253    0.031459\n",
       "(5999.999, 6999.0]    1928    0.026921\n",
       "(6999.999, 7999.0]    1741    0.024310\n",
       "(7999.999, 8999.0]    1637    0.022858\n",
       "(8999.999, 9999.0]    1514    0.021141"
      ]
     },
     "execution_count": 78,
     "metadata": {},
     "output_type": "execute_result"
    }
   ],
   "source": [
    "result_mbl_data_flow_amnt02"
   ]
  },
  {
   "cell_type": "code",
   "execution_count": 79,
   "metadata": {},
   "outputs": [
    {
     "data": {
      "text/plain": [
       "<matplotlib.axes._subplots.AxesSubplot at 0x27f63e30c08>"
      ]
     },
     "execution_count": 79,
     "metadata": {},
     "output_type": "execute_result"
    },
    {
     "data": {
      "image/png": "[encoded data removed]",
      "text/plain": [
       "<Figure size 432x432 with 1 Axes>"
      ]
     },
     "metadata": {
      "needs_background": "light"
     },
     "output_type": "display_data"
    }
   ],
   "source": [
    "result_mbl_data_flow_amnt02.plot.barh(y=\"counts\", figsize=(6, 6))"
   ]
  },
  {
   "cell_type": "markdown",
   "metadata": {},
   "source": [
    "## 对MBL_DATA_FLOW_AMNT03的统计分析"
   ]
  },
  {
   "cell_type": "code",
   "execution_count": 15,
   "metadata": {},
   "outputs": [
    {
     "data": {
      "text/plain": [
       "0.0"
      ]
     },
     "execution_count": 15,
     "metadata": {},
     "output_type": "execute_result"
    }
   ],
   "source": [
    "df_all.MBL_DATA_FLOW_AMNT03.min()"
   ]
  },
  {
   "cell_type": "code",
   "execution_count": 16,
   "metadata": {},
   "outputs": [
    {
     "data": {
      "text/plain": [
       "158894.0"
      ]
     },
     "execution_count": 16,
     "metadata": {},
     "output_type": "execute_result"
    }
   ],
   "source": [
    "df_all.MBL_DATA_FLOW_AMNT03.max()"
   ]
  },
  {
   "cell_type": "code",
   "execution_count": 50,
   "metadata": {},
   "outputs": [],
   "source": [
    "result_mbl_data_flow_amnt03 = compulete_count_normalized(df_all.MBL_DATA_FLOW_AMNT03, 0, 160000,1000)"
   ]
  },
  {
   "cell_type": "code",
   "execution_count": 51,
   "metadata": {},
   "outputs": [],
   "source": [
    "result_mbl_data_flow_amnt03 = result_mbl_data_flow_amnt03.sort_values(by=[\"counts\"], ascending=False).head(10)"
   ]
  },
  {
   "cell_type": "code",
   "execution_count": 52,
   "metadata": {},
   "outputs": [
    {
     "data": {
      "text/html": [
       "<div>\n",
       "<style scoped>\n",
       "    .dataframe tbody tr th:only-of-type {\n",
       "        vertical-align: middle;\n",
       "    }\n",
       "\n",
       "    .dataframe tbody tr th {\n",
       "        vertical-align: top;\n",
       "    }\n",
       "\n",
       "    .dataframe thead th {\n",
       "        text-align: right;\n",
       "    }\n",
       "</style>\n",
       "<table border=\"1\" class=\"dataframe\">\n",
       "  <thead>\n",
       "    <tr style=\"text-align: right;\">\n",
       "      <th></th>\n",
       "      <th>counts</th>\n",
       "      <th>normalized</th>\n",
       "    </tr>\n",
       "  </thead>\n",
       "  <tbody>\n",
       "    <tr>\n",
       "      <td>(-0.001, 999.0]</td>\n",
       "      <td>27963</td>\n",
       "      <td>0.390457</td>\n",
       "    </tr>\n",
       "    <tr>\n",
       "      <td>(999.999, 1999.0]</td>\n",
       "      <td>5094</td>\n",
       "      <td>0.071129</td>\n",
       "    </tr>\n",
       "    <tr>\n",
       "      <td>(1999.999, 2999.0]</td>\n",
       "      <td>3607</td>\n",
       "      <td>0.050366</td>\n",
       "    </tr>\n",
       "    <tr>\n",
       "      <td>(2999.999, 3999.0]</td>\n",
       "      <td>2896</td>\n",
       "      <td>0.040438</td>\n",
       "    </tr>\n",
       "    <tr>\n",
       "      <td>(3999.999, 4999.0]</td>\n",
       "      <td>2435</td>\n",
       "      <td>0.034001</td>\n",
       "    </tr>\n",
       "    <tr>\n",
       "      <td>(4999.999, 5999.0]</td>\n",
       "      <td>2137</td>\n",
       "      <td>0.029840</td>\n",
       "    </tr>\n",
       "    <tr>\n",
       "      <td>(5999.999, 6999.0]</td>\n",
       "      <td>1850</td>\n",
       "      <td>0.025832</td>\n",
       "    </tr>\n",
       "    <tr>\n",
       "      <td>(6999.999, 7999.0]</td>\n",
       "      <td>1736</td>\n",
       "      <td>0.024240</td>\n",
       "    </tr>\n",
       "    <tr>\n",
       "      <td>(7999.999, 8999.0]</td>\n",
       "      <td>1584</td>\n",
       "      <td>0.022118</td>\n",
       "    </tr>\n",
       "    <tr>\n",
       "      <td>(8999.999, 9999.0]</td>\n",
       "      <td>1502</td>\n",
       "      <td>0.020973</td>\n",
       "    </tr>\n",
       "  </tbody>\n",
       "</table>\n",
       "</div>"
      ],
      "text/plain": [
       "                    counts  normalized\n",
       "(-0.001, 999.0]      27963    0.390457\n",
       "(999.999, 1999.0]     5094    0.071129\n",
       "(1999.999, 2999.0]    3607    0.050366\n",
       "(2999.999, 3999.0]    2896    0.040438\n",
       "(3999.999, 4999.0]    2435    0.034001\n",
       "(4999.999, 5999.0]    2137    0.029840\n",
       "(5999.999, 6999.0]    1850    0.025832\n",
       "(6999.999, 7999.0]    1736    0.024240\n",
       "(7999.999, 8999.0]    1584    0.022118\n",
       "(8999.999, 9999.0]    1502    0.020973"
      ]
     },
     "execution_count": 52,
     "metadata": {},
     "output_type": "execute_result"
    }
   ],
   "source": [
    "result_mbl_data_flow_amnt03"
   ]
  },
  {
   "cell_type": "code",
   "execution_count": 54,
   "metadata": {},
   "outputs": [
    {
     "data": {
      "text/plain": [
       "<matplotlib.axes._subplots.AxesSubplot at 0x27f76f115c8>"
      ]
     },
     "execution_count": 54,
     "metadata": {},
     "output_type": "execute_result"
    },
    {
     "data": {
      "image/png": "[encoded data removed]",
      "text/plain": [
       "<Figure size 432x432 with 1 Axes>"
      ]
     },
     "metadata": {
      "needs_background": "light"
     },
     "output_type": "display_data"
    }
   ],
   "source": [
    "result_mbl_data_flow_amnt03.plot.barh(y=\"counts\", figsize=(6, 6))"
   ]
  },
  {
   "cell_type": "markdown",
   "metadata": {},
   "source": [
    "综合每月流量使用量来看，0-1000M使用量的易访用户占大多数"
   ]
  },
  {
   "cell_type": "markdown",
   "metadata": {},
   "source": [
    "# MBL_VOICE_DRTN00"
   ]
  },
  {
   "cell_type": "markdown",
   "metadata": {},
   "source": [
    "## 对MBL_VOICE_DRTN00的统计分析"
   ]
  },
  {
   "cell_type": "code",
   "execution_count": 21,
   "metadata": {},
   "outputs": [
    {
     "data": {
      "text/plain": [
       "0"
      ]
     },
     "execution_count": 21,
     "metadata": {},
     "output_type": "execute_result"
    }
   ],
   "source": [
    "df_all.MBL_VOICE_DRTN00.min()"
   ]
  },
  {
   "cell_type": "code",
   "execution_count": 22,
   "metadata": {},
   "outputs": [
    {
     "data": {
      "text/plain": [
       "7724"
      ]
     },
     "execution_count": 22,
     "metadata": {},
     "output_type": "execute_result"
    }
   ],
   "source": [
    "df_all.MBL_VOICE_DRTN00.max()"
   ]
  },
  {
   "cell_type": "code",
   "execution_count": 23,
   "metadata": {},
   "outputs": [],
   "source": [
    "result_mbl_voice_drtn00 = compulete_count_normalized(df_all.MBL_VOICE_DRTN00, 0, 7900, 100)"
   ]
  },
  {
   "cell_type": "code",
   "execution_count": 25,
   "metadata": {},
   "outputs": [],
   "source": [
    "result_mbl_voice_drtn00 = result_mbl_voice_drtn00.sort_values(by=[\"counts\"], ascending=False).head(10)"
   ]
  },
  {
   "cell_type": "code",
   "execution_count": 26,
   "metadata": {},
   "outputs": [
    {
     "data": {
      "text/html": [
       "<div>\n",
       "<style scoped>\n",
       "    .dataframe tbody tr th:only-of-type {\n",
       "        vertical-align: middle;\n",
       "    }\n",
       "\n",
       "    .dataframe tbody tr th {\n",
       "        vertical-align: top;\n",
       "    }\n",
       "\n",
       "    .dataframe thead th {\n",
       "        text-align: right;\n",
       "    }\n",
       "</style>\n",
       "<table border=\"1\" class=\"dataframe\">\n",
       "  <thead>\n",
       "    <tr style=\"text-align: right;\">\n",
       "      <th></th>\n",
       "      <th>counts</th>\n",
       "      <th>normalized</th>\n",
       "    </tr>\n",
       "  </thead>\n",
       "  <tbody>\n",
       "    <tr>\n",
       "      <td>(-0.001, 99.0]</td>\n",
       "      <td>26837</td>\n",
       "      <td>0.374735</td>\n",
       "    </tr>\n",
       "    <tr>\n",
       "      <td>(99.999, 199.0]</td>\n",
       "      <td>14621</td>\n",
       "      <td>0.204158</td>\n",
       "    </tr>\n",
       "    <tr>\n",
       "      <td>(199.999, 299.0]</td>\n",
       "      <td>9120</td>\n",
       "      <td>0.127346</td>\n",
       "    </tr>\n",
       "    <tr>\n",
       "      <td>(299.999, 399.0]</td>\n",
       "      <td>5837</td>\n",
       "      <td>0.081504</td>\n",
       "    </tr>\n",
       "    <tr>\n",
       "      <td>(399.999, 499.0]</td>\n",
       "      <td>3976</td>\n",
       "      <td>0.055518</td>\n",
       "    </tr>\n",
       "    <tr>\n",
       "      <td>(499.999, 599.0]</td>\n",
       "      <td>2727</td>\n",
       "      <td>0.038078</td>\n",
       "    </tr>\n",
       "    <tr>\n",
       "      <td>(599.999, 699.0]</td>\n",
       "      <td>2028</td>\n",
       "      <td>0.028318</td>\n",
       "    </tr>\n",
       "    <tr>\n",
       "      <td>(699.999, 799.0]</td>\n",
       "      <td>1484</td>\n",
       "      <td>0.020722</td>\n",
       "    </tr>\n",
       "    <tr>\n",
       "      <td>(799.999, 899.0]</td>\n",
       "      <td>1093</td>\n",
       "      <td>0.015262</td>\n",
       "    </tr>\n",
       "    <tr>\n",
       "      <td>(899.999, 999.0]</td>\n",
       "      <td>800</td>\n",
       "      <td>0.011171</td>\n",
       "    </tr>\n",
       "  </tbody>\n",
       "</table>\n",
       "</div>"
      ],
      "text/plain": [
       "                  counts  normalized\n",
       "(-0.001, 99.0]     26837    0.374735\n",
       "(99.999, 199.0]    14621    0.204158\n",
       "(199.999, 299.0]    9120    0.127346\n",
       "(299.999, 399.0]    5837    0.081504\n",
       "(399.999, 499.0]    3976    0.055518\n",
       "(499.999, 599.0]    2727    0.038078\n",
       "(599.999, 699.0]    2028    0.028318\n",
       "(699.999, 799.0]    1484    0.020722\n",
       "(799.999, 899.0]    1093    0.015262\n",
       "(899.999, 999.0]     800    0.011171"
      ]
     },
     "execution_count": 26,
     "metadata": {},
     "output_type": "execute_result"
    }
   ],
   "source": [
    "result_mbl_voice_drtn00"
   ]
  },
  {
   "cell_type": "code",
   "execution_count": 27,
   "metadata": {},
   "outputs": [
    {
     "data": {
      "text/plain": [
       "<matplotlib.axes._subplots.AxesSubplot at 0x27f6ad6fe48>"
      ]
     },
     "execution_count": 27,
     "metadata": {},
     "output_type": "execute_result"
    },
    {
     "data": {
      "image/png": "[encoded data removed]",
      "text/plain": [
       "<Figure size 432x432 with 1 Axes>"
      ]
     },
     "metadata": {
      "needs_background": "light"
     },
     "output_type": "display_data"
    }
   ],
   "source": [
    "result_mbl_voice_drtn00.plot.barh(y=\"counts\", figsize=(6, 6))"
   ]
  },
  {
   "cell_type": "markdown",
   "metadata": {},
   "source": [
    "## 对MBL_VOICE_DRTN01的统计分析"
   ]
  },
  {
   "cell_type": "code",
   "execution_count": 28,
   "metadata": {},
   "outputs": [
    {
     "data": {
      "text/plain": [
       "0.0"
      ]
     },
     "execution_count": 28,
     "metadata": {},
     "output_type": "execute_result"
    }
   ],
   "source": [
    "df_all.MBL_VOICE_DRTN01.min()"
   ]
  },
  {
   "cell_type": "code",
   "execution_count": 29,
   "metadata": {},
   "outputs": [
    {
     "data": {
      "text/plain": [
       "6765.0"
      ]
     },
     "execution_count": 29,
     "metadata": {},
     "output_type": "execute_result"
    }
   ],
   "source": [
    "df_all.MBL_VOICE_DRTN01.max()"
   ]
  },
  {
   "cell_type": "code",
   "execution_count": 30,
   "metadata": {},
   "outputs": [],
   "source": [
    "result_mbl_voice_drtn01 = compulete_count_normalized(df_all.MBL_VOICE_DRTN01, 0, 6900, 100)\n",
    "result_mbl_voice_drtn01 = result_mbl_voice_drtn01.sort_values(by=[\"counts\"], ascending=False).head(10)"
   ]
  },
  {
   "cell_type": "code",
   "execution_count": 31,
   "metadata": {},
   "outputs": [
    {
     "data": {
      "text/html": [
       "<div>\n",
       "<style scoped>\n",
       "    .dataframe tbody tr th:only-of-type {\n",
       "        vertical-align: middle;\n",
       "    }\n",
       "\n",
       "    .dataframe tbody tr th {\n",
       "        vertical-align: top;\n",
       "    }\n",
       "\n",
       "    .dataframe thead th {\n",
       "        text-align: right;\n",
       "    }\n",
       "</style>\n",
       "<table border=\"1\" class=\"dataframe\">\n",
       "  <thead>\n",
       "    <tr style=\"text-align: right;\">\n",
       "      <th></th>\n",
       "      <th>counts</th>\n",
       "      <th>normalized</th>\n",
       "    </tr>\n",
       "  </thead>\n",
       "  <tbody>\n",
       "    <tr>\n",
       "      <td>(-0.001, 99.0]</td>\n",
       "      <td>27316</td>\n",
       "      <td>0.381423</td>\n",
       "    </tr>\n",
       "    <tr>\n",
       "      <td>(99.999, 199.0]</td>\n",
       "      <td>14424</td>\n",
       "      <td>0.201408</td>\n",
       "    </tr>\n",
       "    <tr>\n",
       "      <td>(199.999, 299.0]</td>\n",
       "      <td>8880</td>\n",
       "      <td>0.123995</td>\n",
       "    </tr>\n",
       "    <tr>\n",
       "      <td>(299.999, 399.0]</td>\n",
       "      <td>5872</td>\n",
       "      <td>0.081993</td>\n",
       "    </tr>\n",
       "    <tr>\n",
       "      <td>(399.999, 499.0]</td>\n",
       "      <td>3950</td>\n",
       "      <td>0.055155</td>\n",
       "    </tr>\n",
       "    <tr>\n",
       "      <td>(499.999, 599.0]</td>\n",
       "      <td>2680</td>\n",
       "      <td>0.037422</td>\n",
       "    </tr>\n",
       "    <tr>\n",
       "      <td>(599.999, 699.0]</td>\n",
       "      <td>1895</td>\n",
       "      <td>0.026461</td>\n",
       "    </tr>\n",
       "    <tr>\n",
       "      <td>(699.999, 799.0]</td>\n",
       "      <td>1426</td>\n",
       "      <td>0.019912</td>\n",
       "    </tr>\n",
       "    <tr>\n",
       "      <td>(799.999, 899.0]</td>\n",
       "      <td>1018</td>\n",
       "      <td>0.014215</td>\n",
       "    </tr>\n",
       "    <tr>\n",
       "      <td>(899.999, 999.0]</td>\n",
       "      <td>806</td>\n",
       "      <td>0.011254</td>\n",
       "    </tr>\n",
       "  </tbody>\n",
       "</table>\n",
       "</div>"
      ],
      "text/plain": [
       "                  counts  normalized\n",
       "(-0.001, 99.0]     27316    0.381423\n",
       "(99.999, 199.0]    14424    0.201408\n",
       "(199.999, 299.0]    8880    0.123995\n",
       "(299.999, 399.0]    5872    0.081993\n",
       "(399.999, 499.0]    3950    0.055155\n",
       "(499.999, 599.0]    2680    0.037422\n",
       "(599.999, 699.0]    1895    0.026461\n",
       "(699.999, 799.0]    1426    0.019912\n",
       "(799.999, 899.0]    1018    0.014215\n",
       "(899.999, 999.0]     806    0.011254"
      ]
     },
     "execution_count": 31,
     "metadata": {},
     "output_type": "execute_result"
    }
   ],
   "source": [
    "result_mbl_voice_drtn01"
   ]
  },
  {
   "cell_type": "code",
   "execution_count": 32,
   "metadata": {},
   "outputs": [
    {
     "data": {
      "text/plain": [
       "<matplotlib.axes._subplots.AxesSubplot at 0x27f76eee508>"
      ]
     },
     "execution_count": 32,
     "metadata": {},
     "output_type": "execute_result"
    },
    {
     "data": {
      "image/png": "[encoded data removed]",
      "text/plain": [
       "<Figure size 432x432 with 1 Axes>"
      ]
     },
     "metadata": {
      "needs_background": "light"
     },
     "output_type": "display_data"
    }
   ],
   "source": [
    "result_mbl_voice_drtn01.plot.barh(y=\"counts\", figsize=(6, 6))"
   ]
  },
  {
   "cell_type": "markdown",
   "metadata": {},
   "source": [
    "## 对MBL_VOICE_DRTN02的统计分析"
   ]
  },
  {
   "cell_type": "code",
   "execution_count": 33,
   "metadata": {},
   "outputs": [
    {
     "data": {
      "text/plain": [
       "7717.0"
      ]
     },
     "execution_count": 33,
     "metadata": {},
     "output_type": "execute_result"
    }
   ],
   "source": [
    "df_all.MBL_VOICE_DRTN02.max()"
   ]
  },
  {
   "cell_type": "code",
   "execution_count": 36,
   "metadata": {},
   "outputs": [],
   "source": [
    "result_mbl_voice_drtn02 = compulete_count_normalized(df_all.MBL_VOICE_DRTN02, 0, 7900, 100)\n",
    "result_mbl_voice_drtn02 = result_mbl_voice_drtn02.sort_values(by=[\"counts\"], ascending=False).head(10)"
   ]
  },
  {
   "cell_type": "code",
   "execution_count": 37,
   "metadata": {},
   "outputs": [
    {
     "data": {
      "text/html": [
       "<div>\n",
       "<style scoped>\n",
       "    .dataframe tbody tr th:only-of-type {\n",
       "        vertical-align: middle;\n",
       "    }\n",
       "\n",
       "    .dataframe tbody tr th {\n",
       "        vertical-align: top;\n",
       "    }\n",
       "\n",
       "    .dataframe thead th {\n",
       "        text-align: right;\n",
       "    }\n",
       "</style>\n",
       "<table border=\"1\" class=\"dataframe\">\n",
       "  <thead>\n",
       "    <tr style=\"text-align: right;\">\n",
       "      <th></th>\n",
       "      <th>counts</th>\n",
       "      <th>normalized</th>\n",
       "    </tr>\n",
       "  </thead>\n",
       "  <tbody>\n",
       "    <tr>\n",
       "      <td>(-0.001, 99.0]</td>\n",
       "      <td>27126</td>\n",
       "      <td>0.378770</td>\n",
       "    </tr>\n",
       "    <tr>\n",
       "      <td>(99.999, 199.0]</td>\n",
       "      <td>14273</td>\n",
       "      <td>0.199299</td>\n",
       "    </tr>\n",
       "    <tr>\n",
       "      <td>(199.999, 299.0]</td>\n",
       "      <td>8751</td>\n",
       "      <td>0.122193</td>\n",
       "    </tr>\n",
       "    <tr>\n",
       "      <td>(299.999, 399.0]</td>\n",
       "      <td>5817</td>\n",
       "      <td>0.081225</td>\n",
       "    </tr>\n",
       "    <tr>\n",
       "      <td>(399.999, 499.0]</td>\n",
       "      <td>4003</td>\n",
       "      <td>0.055895</td>\n",
       "    </tr>\n",
       "    <tr>\n",
       "      <td>(499.999, 599.0]</td>\n",
       "      <td>2651</td>\n",
       "      <td>0.037017</td>\n",
       "    </tr>\n",
       "    <tr>\n",
       "      <td>(599.999, 699.0]</td>\n",
       "      <td>1999</td>\n",
       "      <td>0.027913</td>\n",
       "    </tr>\n",
       "    <tr>\n",
       "      <td>(699.999, 799.0]</td>\n",
       "      <td>1406</td>\n",
       "      <td>0.019632</td>\n",
       "    </tr>\n",
       "    <tr>\n",
       "      <td>(799.999, 899.0]</td>\n",
       "      <td>1098</td>\n",
       "      <td>0.015332</td>\n",
       "    </tr>\n",
       "    <tr>\n",
       "      <td>(899.999, 999.0]</td>\n",
       "      <td>740</td>\n",
       "      <td>0.010333</td>\n",
       "    </tr>\n",
       "  </tbody>\n",
       "</table>\n",
       "</div>"
      ],
      "text/plain": [
       "                  counts  normalized\n",
       "(-0.001, 99.0]     27126    0.378770\n",
       "(99.999, 199.0]    14273    0.199299\n",
       "(199.999, 299.0]    8751    0.122193\n",
       "(299.999, 399.0]    5817    0.081225\n",
       "(399.999, 499.0]    4003    0.055895\n",
       "(499.999, 599.0]    2651    0.037017\n",
       "(599.999, 699.0]    1999    0.027913\n",
       "(699.999, 799.0]    1406    0.019632\n",
       "(799.999, 899.0]    1098    0.015332\n",
       "(899.999, 999.0]     740    0.010333"
      ]
     },
     "execution_count": 37,
     "metadata": {},
     "output_type": "execute_result"
    }
   ],
   "source": [
    "result_mbl_voice_drtn02"
   ]
  },
  {
   "cell_type": "code",
   "execution_count": 38,
   "metadata": {},
   "outputs": [
    {
     "data": {
      "text/plain": [
       "<matplotlib.axes._subplots.AxesSubplot at 0x27f6aec7048>"
      ]
     },
     "execution_count": 38,
     "metadata": {},
     "output_type": "execute_result"
    },
    {
     "data": {
      "image/png": "[encoded data removed]",
      "text/plain": [
       "<Figure size 432x432 with 1 Axes>"
      ]
     },
     "metadata": {
      "needs_background": "light"
     },
     "output_type": "display_data"
    }
   ],
   "source": [
    "result_mbl_voice_drtn02.plot.barh(y=\"counts\", figsize=(6, 6))"
   ]
  },
  {
   "cell_type": "markdown",
   "metadata": {},
   "source": [
    "## 对MBL_VOICE_DRTN02的统计分析"
   ]
  },
  {
   "cell_type": "code",
   "execution_count": 40,
   "metadata": {},
   "outputs": [
    {
     "data": {
      "text/plain": [
       "6001.0"
      ]
     },
     "execution_count": 40,
     "metadata": {},
     "output_type": "execute_result"
    }
   ],
   "source": [
    "df_all.MBL_VOICE_DRTN03.max()"
   ]
  },
  {
   "cell_type": "code",
   "execution_count": 41,
   "metadata": {},
   "outputs": [],
   "source": [
    "result_mbl_voice_drtn03 = compulete_count_normalized(df_all.MBL_VOICE_DRTN03, 0, 6200, 100)\n",
    "result_mbl_voice_drtn03 = result_mbl_voice_drtn02.sort_values(by=[\"counts\"], ascending=False).head(10)"
   ]
  },
  {
   "cell_type": "code",
   "execution_count": 42,
   "metadata": {},
   "outputs": [
    {
     "data": {
      "text/html": [
       "<div>\n",
       "<style scoped>\n",
       "    .dataframe tbody tr th:only-of-type {\n",
       "        vertical-align: middle;\n",
       "    }\n",
       "\n",
       "    .dataframe tbody tr th {\n",
       "        vertical-align: top;\n",
       "    }\n",
       "\n",
       "    .dataframe thead th {\n",
       "        text-align: right;\n",
       "    }\n",
       "</style>\n",
       "<table border=\"1\" class=\"dataframe\">\n",
       "  <thead>\n",
       "    <tr style=\"text-align: right;\">\n",
       "      <th></th>\n",
       "      <th>counts</th>\n",
       "      <th>normalized</th>\n",
       "    </tr>\n",
       "  </thead>\n",
       "  <tbody>\n",
       "    <tr>\n",
       "      <td>(-0.001, 99.0]</td>\n",
       "      <td>27126</td>\n",
       "      <td>0.378770</td>\n",
       "    </tr>\n",
       "    <tr>\n",
       "      <td>(99.999, 199.0]</td>\n",
       "      <td>14273</td>\n",
       "      <td>0.199299</td>\n",
       "    </tr>\n",
       "    <tr>\n",
       "      <td>(199.999, 299.0]</td>\n",
       "      <td>8751</td>\n",
       "      <td>0.122193</td>\n",
       "    </tr>\n",
       "    <tr>\n",
       "      <td>(299.999, 399.0]</td>\n",
       "      <td>5817</td>\n",
       "      <td>0.081225</td>\n",
       "    </tr>\n",
       "    <tr>\n",
       "      <td>(399.999, 499.0]</td>\n",
       "      <td>4003</td>\n",
       "      <td>0.055895</td>\n",
       "    </tr>\n",
       "    <tr>\n",
       "      <td>(499.999, 599.0]</td>\n",
       "      <td>2651</td>\n",
       "      <td>0.037017</td>\n",
       "    </tr>\n",
       "    <tr>\n",
       "      <td>(599.999, 699.0]</td>\n",
       "      <td>1999</td>\n",
       "      <td>0.027913</td>\n",
       "    </tr>\n",
       "    <tr>\n",
       "      <td>(699.999, 799.0]</td>\n",
       "      <td>1406</td>\n",
       "      <td>0.019632</td>\n",
       "    </tr>\n",
       "    <tr>\n",
       "      <td>(799.999, 899.0]</td>\n",
       "      <td>1098</td>\n",
       "      <td>0.015332</td>\n",
       "    </tr>\n",
       "    <tr>\n",
       "      <td>(899.999, 999.0]</td>\n",
       "      <td>740</td>\n",
       "      <td>0.010333</td>\n",
       "    </tr>\n",
       "  </tbody>\n",
       "</table>\n",
       "</div>"
      ],
      "text/plain": [
       "                  counts  normalized\n",
       "(-0.001, 99.0]     27126    0.378770\n",
       "(99.999, 199.0]    14273    0.199299\n",
       "(199.999, 299.0]    8751    0.122193\n",
       "(299.999, 399.0]    5817    0.081225\n",
       "(399.999, 499.0]    4003    0.055895\n",
       "(499.999, 599.0]    2651    0.037017\n",
       "(599.999, 699.0]    1999    0.027913\n",
       "(699.999, 799.0]    1406    0.019632\n",
       "(799.999, 899.0]    1098    0.015332\n",
       "(899.999, 999.0]     740    0.010333"
      ]
     },
     "execution_count": 42,
     "metadata": {},
     "output_type": "execute_result"
    }
   ],
   "source": [
    "result_mbl_voice_drtn03"
   ]
  },
  {
   "cell_type": "code",
   "execution_count": 43,
   "metadata": {},
   "outputs": [
    {
     "data": {
      "text/plain": [
       "<matplotlib.axes._subplots.AxesSubplot at 0x27f6b3a8308>"
      ]
     },
     "execution_count": 43,
     "metadata": {},
     "output_type": "execute_result"
    },
    {
     "data": {
      "image/png": "[encoded data removed]",
      "text/plain": [
       "<Figure size 432x432 with 1 Axes>"
      ]
     },
     "metadata": {
      "needs_background": "light"
     },
     "output_type": "display_data"
    }
   ],
   "source": [
    "result_mbl_voice_drtn03.plot.barh(y=\"counts\", figsize=(6, 6))"
   ]
  },
  {
   "cell_type": "markdown",
   "metadata": {},
   "source": [
    "## 分析"
   ]
  },
  {
   "cell_type": "markdown",
   "metadata": {},
   "source": [
    "每月主叫时长在0-100min的易访用户的比重最大，之后随着时长增加不断递减"
   ]
  },
  {
   "attachments": {},
   "cell_type": "markdown",
   "metadata": {},
   "source": [
    "# 对MBL_DATA_4G_FLOW_AMNT00"
   ]
  },
  {
   "cell_type": "code",
   "execution_count": 44,
   "metadata": {},
   "outputs": [
    {
     "data": {
      "text/plain": [
       "0"
      ]
     },
     "execution_count": 44,
     "metadata": {},
     "output_type": "execute_result"
    }
   ],
   "source": [
    "df_all.MBL_DATA_4G_FLOW_AMNT00.min()"
   ]
  },
  {
   "cell_type": "code",
   "execution_count": 45,
   "metadata": {},
   "outputs": [
    {
     "data": {
      "text/plain": [
       "237054"
      ]
     },
     "execution_count": 45,
     "metadata": {},
     "output_type": "execute_result"
    }
   ],
   "source": [
    "df_all.MBL_DATA_4G_FLOW_AMNT00.max()"
   ]
  },
  {
   "cell_type": "code",
   "execution_count": 46,
   "metadata": {},
   "outputs": [],
   "source": [
    "result_mbl_data_4G_flow_amnt00 = compulete_count_normalized(df_all.MBL_DATA_4G_FLOW_AMNT00, 0, 239000, 1000)\n",
    "result_mbl_data_4G_flow_amnt00 = result_mbl_data_4G_flow_amnt00.sort_values(by=[\"counts\"], ascending=False).head(10)"
   ]
  },
  {
   "cell_type": "code",
   "execution_count": 47,
   "metadata": {},
   "outputs": [
    {
     "data": {
      "text/html": [
       "<div>\n",
       "<style scoped>\n",
       "    .dataframe tbody tr th:only-of-type {\n",
       "        vertical-align: middle;\n",
       "    }\n",
       "\n",
       "    .dataframe tbody tr th {\n",
       "        vertical-align: top;\n",
       "    }\n",
       "\n",
       "    .dataframe thead th {\n",
       "        text-align: right;\n",
       "    }\n",
       "</style>\n",
       "<table border=\"1\" class=\"dataframe\">\n",
       "  <thead>\n",
       "    <tr style=\"text-align: right;\">\n",
       "      <th></th>\n",
       "      <th>counts</th>\n",
       "      <th>normalized</th>\n",
       "    </tr>\n",
       "  </thead>\n",
       "  <tbody>\n",
       "    <tr>\n",
       "      <td>(-0.001, 999.0]</td>\n",
       "      <td>26784</td>\n",
       "      <td>0.373995</td>\n",
       "    </tr>\n",
       "    <tr>\n",
       "      <td>(999.999, 1999.0]</td>\n",
       "      <td>4947</td>\n",
       "      <td>0.069077</td>\n",
       "    </tr>\n",
       "    <tr>\n",
       "      <td>(1999.999, 2999.0]</td>\n",
       "      <td>3585</td>\n",
       "      <td>0.050059</td>\n",
       "    </tr>\n",
       "    <tr>\n",
       "      <td>(2999.999, 3999.0]</td>\n",
       "      <td>3002</td>\n",
       "      <td>0.041918</td>\n",
       "    </tr>\n",
       "    <tr>\n",
       "      <td>(3999.999, 4999.0]</td>\n",
       "      <td>2522</td>\n",
       "      <td>0.035216</td>\n",
       "    </tr>\n",
       "    <tr>\n",
       "      <td>(4999.999, 5999.0]</td>\n",
       "      <td>2375</td>\n",
       "      <td>0.033163</td>\n",
       "    </tr>\n",
       "    <tr>\n",
       "      <td>(5999.999, 6999.0]</td>\n",
       "      <td>2040</td>\n",
       "      <td>0.028485</td>\n",
       "    </tr>\n",
       "    <tr>\n",
       "      <td>(6999.999, 7999.0]</td>\n",
       "      <td>1858</td>\n",
       "      <td>0.025944</td>\n",
       "    </tr>\n",
       "    <tr>\n",
       "      <td>(7999.999, 8999.0]</td>\n",
       "      <td>1719</td>\n",
       "      <td>0.024003</td>\n",
       "    </tr>\n",
       "    <tr>\n",
       "      <td>(9999.999, 10999.0]</td>\n",
       "      <td>1588</td>\n",
       "      <td>0.022174</td>\n",
       "    </tr>\n",
       "  </tbody>\n",
       "</table>\n",
       "</div>"
      ],
      "text/plain": [
       "                     counts  normalized\n",
       "(-0.001, 999.0]       26784    0.373995\n",
       "(999.999, 1999.0]      4947    0.069077\n",
       "(1999.999, 2999.0]     3585    0.050059\n",
       "(2999.999, 3999.0]     3002    0.041918\n",
       "(3999.999, 4999.0]     2522    0.035216\n",
       "(4999.999, 5999.0]     2375    0.033163\n",
       "(5999.999, 6999.0]     2040    0.028485\n",
       "(6999.999, 7999.0]     1858    0.025944\n",
       "(7999.999, 8999.0]     1719    0.024003\n",
       "(9999.999, 10999.0]    1588    0.022174"
      ]
     },
     "execution_count": 47,
     "metadata": {},
     "output_type": "execute_result"
    }
   ],
   "source": [
    "result_mbl_data_4G_flow_amnt00"
   ]
  },
  {
   "cell_type": "code",
   "execution_count": 48,
   "metadata": {},
   "outputs": [
    {
     "data": {
      "text/plain": [
       "<matplotlib.axes._subplots.AxesSubplot at 0x27f622a47c8>"
      ]
     },
     "execution_count": 48,
     "metadata": {},
     "output_type": "execute_result"
    },
    {
     "data": {
      "image/png": "[encoded data removed]",
      "text/plain": [
       "<Figure size 432x432 with 1 Axes>"
      ]
     },
     "metadata": {
      "needs_background": "light"
     },
     "output_type": "display_data"
    }
   ],
   "source": [
    "result_mbl_data_4G_flow_amnt00.plot.barh(y=\"counts\", figsize=(6, 6))"
   ]
  },
  {
   "cell_type": "markdown",
   "metadata": {},
   "source": [
    "当月4G流量在0-1000M的易访用户所占比重极大，之后随着流量递增二减少"
   ]
  },
  {
   "cell_type": "code",
   "execution_count": null,
   "metadata": {},
   "outputs": [],
   "source": []
  }
 ],
 "metadata": {
  "kernelspec": {
   "display_name": "Python 3",
   "language": "python",
   "name": "python3"
  },
  "language_info": {
   "codemirror_mode": {
    "name": "ipython",
    "version": 3
   },
   "file_extension": ".py",
   "mimetype": "text/x-python",
   "name": "python",
   "nbconvert_exporter": "python",
   "pygments_lexer": "ipython3",
   "version": "3.7.4"
  },
  "toc": {
   "base_numbering": 1,
   "nav_menu": {},
   "number_sections": true,
   "sideBar": true,
   "skip_h1_title": false,
   "title_cell": "Table of Contents",
   "title_sidebar": "Contents",
   "toc_cell": false,
   "toc_position": {
    "height": "calc(100% - 180px)",
    "left": "10px",
    "top": "150px",
    "width": "254.025px"
   },
   "toc_section_display": true,
   "toc_window_display": true
  },
  "widgets": {
   "application/vnd.jupyter.widget-state+json": {
    "state": {},
    "version_major": 2,
    "version_minor": 0
   }
  }
 },
 "nbformat": 4,
 "nbformat_minor": 4
}
