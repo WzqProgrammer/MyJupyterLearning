{
 "cells": [
  {
   "cell_type": "code",
   "execution_count": 1,
   "metadata": {},
   "outputs": [],
   "source": [
    "import torch\n",
    "import torch.nn as nn\n",
    "import torch.optim as optim\n",
    "import torchvision\n",
    "import torchvision.transforms as transforms\n",
    "import numpy as np\n",
    "from torchvision import datasets, models, transforms\n",
    "import os\n",
    "import matplotlib.pyplot as plt\n",
    "import pandas as pd\n",
    "from PIL import Image\n",
    "from torch.utils.data import Dataset\n",
    "from torch.autograd import Variable\n",
    "import time"
   ]
  },
  {
   "cell_type": "code",
   "execution_count": 2,
   "metadata": {},
   "outputs": [],
   "source": [
    "data_dir = 'F:\\DataSets/EmotionImages/TargetData'\n",
    "\n",
    "data_transform = {x: transforms.Compose([transforms.Resize([224, 224]),  # 设置尺寸\n",
    "                                        transforms.ToTensor(),  # 转为Tensor\n",
    "                                        transforms.Normalize([0.485, 0.456, 0.406],\n",
    "                                                             [0.229, 0.224, 0.225])])  # 标准化\n",
    "                  for x in {\"train\", \"valid\"}}  # {\"train\":\"训练集数据格式\",\"valid\":\"测试集数据格式\"}\n",
    "\n",
    "image_datasets = {x: datasets.ImageFolder(root=os.path.join(data_dir, x),  # 载入数据\n",
    "                                         transform = data_transform[x])\n",
    "                  for x in {\"train\", \"valid\"}}  # {\"train\":\"训练集\",\"valid\":\"测试集\"}\n",
    "\n",
    "dataloader = {x: torch.utils.data.DataLoader(dataset=image_datasets[x],\n",
    "                                            batch_size=16,\n",
    "                                            shuffle=True)\n",
    "              for x in {\"train\", \"valid\"}}  # {包装16个为一个批次\"train\":\"训练集数据载入\",\"valid\":\"测试集数据载入\"}"
   ]
  },
  {
   "cell_type": "code",
   "execution_count": 3,
   "metadata": {},
   "outputs": [
    {
     "name": "stdout",
     "output_type": "stream",
     "text": [
      "1848\n",
      "231\n"
     ]
    }
   ],
   "source": [
    "train_data = dataloader[\"train\"]\n",
    "valid_data = dataloader[\"valid\"]\n",
    "\n",
    "train_data_size = len(image_datasets[\"train\"])\n",
    "valid_data_size = len(image_datasets[\"valid\"])\n",
    "\n",
    "print(train_data_size)\n",
    "print(valid_data_size)"
   ]
  },
  {
   "cell_type": "code",
   "execution_count": 17,
   "metadata": {},
   "outputs": [],
   "source": [
    "my_model = models.mobilenet_v2(pretrained=True)  # 网络预训练好的模型"
   ]
  },
  {
   "cell_type": "code",
   "execution_count": 18,
   "metadata": {},
   "outputs": [
    {
     "name": "stdout",
     "output_type": "stream",
     "text": [
      "Sequential(\n",
      "  (0): Dropout(p=0.2, inplace=False)\n",
      "  (1): Linear(in_features=1280, out_features=1000, bias=True)\n",
      ")\n"
     ]
    }
   ],
   "source": [
    "print(my_model.classifier)"
   ]
  },
  {
   "cell_type": "code",
   "execution_count": 19,
   "metadata": {},
   "outputs": [],
   "source": [
    "for param in my_model.parameters():\n",
    "    param.requires_grad = False"
   ]
  },
  {
   "cell_type": "code",
   "execution_count": 20,
   "metadata": {},
   "outputs": [],
   "source": [
    "my_model.classifier = nn.Sequential(\n",
    "    nn.Linear(1280, 224),\n",
    "    nn.ReLU(),\n",
    "#     nn.Dropout(0.4),\n",
    "    nn.Linear(224, 3),\n",
    "    nn.LogSoftmax(dim=1)\n",
    ")"
   ]
  },
  {
   "cell_type": "code",
   "execution_count": 21,
   "metadata": {},
   "outputs": [],
   "source": [
    "loss_func = nn.NLLLoss()\n",
    "optimizer = optim.Adam(my_model.parameters())"
   ]
  },
  {
   "cell_type": "code",
   "execution_count": 22,
   "metadata": {},
   "outputs": [],
   "source": [
    "def train_and_valid(model, loss_function, optimizer, epochs=25):\n",
    "    device = torch.device(\"cuda:0\" if torch.cuda.is_available() else \"cpu\")\n",
    "    history = []\n",
    "    best_acc = 0.0\n",
    "    best_epoch = 0\n",
    " \n",
    "    for epoch in range(epochs):\n",
    "        epoch_start = time.time()\n",
    "        print(\"Epoch: {}/{}\".format(epoch+1, epochs))\n",
    " \n",
    "        model.train()\n",
    " \n",
    "        train_loss = 0.0\n",
    "        train_acc = 0.0\n",
    "        valid_loss = 0.0\n",
    "        valid_acc = 0.0\n",
    " \n",
    "        for i, (inputs, labels) in enumerate(train_data):\n",
    "            inputs = inputs.to(device)\n",
    "            labels = labels.to(device)\n",
    " \n",
    "            #因为这里梯度是累加的，所以每次记得清零\n",
    "            optimizer.zero_grad()\n",
    " \n",
    "            outputs = model(inputs)\n",
    " \n",
    "            loss = loss_function(outputs, labels)\n",
    " \n",
    "            loss.backward()\n",
    " \n",
    "            optimizer.step()\n",
    " \n",
    "            train_loss += loss.item() * inputs.size(0)\n",
    " \n",
    "            ret, predictions = torch.max(outputs.data, 1)\n",
    "            correct_counts = predictions.eq(labels.data.view_as(predictions))\n",
    " \n",
    "            acc = torch.mean(correct_counts.type(torch.FloatTensor))\n",
    " \n",
    "            train_acc += acc.item() * inputs.size(0)\n",
    " \n",
    "        with torch.no_grad():\n",
    "            model.eval()\n",
    " \n",
    "            for j, (inputs, labels) in enumerate(valid_data):\n",
    "                inputs = inputs.to(device)\n",
    "                labels = labels.to(device)\n",
    " \n",
    "                outputs = model(inputs)\n",
    " \n",
    "                loss = loss_function(outputs, labels)\n",
    " \n",
    "                valid_loss += loss.item() * inputs.size(0)\n",
    " \n",
    "                ret, predictions = torch.max(outputs.data, 1)\n",
    "                correct_counts = predictions.eq(labels.data.view_as(predictions))\n",
    " \n",
    "                acc = torch.mean(correct_counts.type(torch.FloatTensor))\n",
    " \n",
    "                valid_acc += acc.item() * inputs.size(0)\n",
    " \n",
    "        avg_train_loss = train_loss/train_data_size\n",
    "        avg_train_acc = train_acc/train_data_size\n",
    " \n",
    "        avg_valid_loss = valid_loss/valid_data_size\n",
    "        avg_valid_acc = valid_acc/valid_data_size\n",
    " \n",
    "        history.append([avg_train_loss, avg_valid_loss, avg_train_acc, avg_valid_acc])\n",
    " \n",
    "        if best_acc < avg_valid_acc:\n",
    "            best_acc = avg_valid_acc\n",
    "            best_epoch = epoch + 1\n",
    " \n",
    "        epoch_end = time.time()\n",
    " \n",
    "        print(\"Epoch: {:03d}, Training: Loss: {:.4f}, Accuracy: {:.4f}%, \\n\\t\\tValidation: Loss: {:.4f}, Accuracy: {:.4f}%, Time: {:.4f}s\".format(\n",
    "            epoch+1, avg_valid_loss, avg_train_acc*100, avg_valid_loss, avg_valid_acc*100, epoch_end-epoch_start\n",
    "        ))\n",
    "        print(\"Best Accuracy for validation : {:.4f} at epoch {:03d}\".format(best_acc, best_epoch))\n",
    " \n",
    "        torch.save(model, 'F:\\DataSets/modles/'+'mobileNet_v2_2_'+str(epoch+1)+'.pt')\n",
    "    return model, history"
   ]
  },
  {
   "cell_type": "code",
   "execution_count": 23,
   "metadata": {},
   "outputs": [
    {
     "name": "stdout",
     "output_type": "stream",
     "text": [
      "Epoch: 1/30\n",
      "Epoch: 001, Training: Loss: 0.4882, Accuracy: 69.5346%, \n",
      "\t\tValidation: Loss: 0.4882, Accuracy: 80.5195%, Time: 476.6962s\n",
      "Best Accuracy for validation : 0.8052 at epoch 001\n",
      "Epoch: 2/30\n",
      "Epoch: 002, Training: Loss: 0.4589, Accuracy: 79.7619%, \n",
      "\t\tValidation: Loss: 0.4589, Accuracy: 83.1169%, Time: 488.0947s\n",
      "Best Accuracy for validation : 0.8312 at epoch 002\n",
      "Epoch: 3/30\n",
      "Epoch: 003, Training: Loss: 0.4274, Accuracy: 79.3290%, \n",
      "\t\tValidation: Loss: 0.4274, Accuracy: 83.1169%, Time: 485.7868s\n",
      "Best Accuracy for validation : 0.8312 at epoch 002\n",
      "Epoch: 4/30\n",
      "Epoch: 004, Training: Loss: 0.5001, Accuracy: 81.8723%, \n",
      "\t\tValidation: Loss: 0.5001, Accuracy: 79.2208%, Time: 487.4736s\n",
      "Best Accuracy for validation : 0.8312 at epoch 002\n",
      "Epoch: 5/30\n",
      "Epoch: 005, Training: Loss: 0.4247, Accuracy: 82.6299%, \n",
      "\t\tValidation: Loss: 0.4247, Accuracy: 82.6840%, Time: 487.3200s\n",
      "Best Accuracy for validation : 0.8312 at epoch 002\n",
      "Epoch: 6/30\n",
      "Epoch: 006, Training: Loss: 0.4718, Accuracy: 83.6039%, \n",
      "\t\tValidation: Loss: 0.4718, Accuracy: 80.5195%, Time: 488.0920s\n",
      "Best Accuracy for validation : 0.8312 at epoch 002\n",
      "Epoch: 7/30\n",
      "Epoch: 007, Training: Loss: 0.4384, Accuracy: 81.9264%, \n",
      "\t\tValidation: Loss: 0.4384, Accuracy: 84.4156%, Time: 485.7125s\n",
      "Best Accuracy for validation : 0.8442 at epoch 007\n",
      "Epoch: 8/30\n",
      "Epoch: 008, Training: Loss: 0.4860, Accuracy: 84.6320%, \n",
      "\t\tValidation: Loss: 0.4860, Accuracy: 77.9221%, Time: 500.9353s\n",
      "Best Accuracy for validation : 0.8442 at epoch 007\n",
      "Epoch: 9/30\n",
      "Epoch: 009, Training: Loss: 0.4485, Accuracy: 85.8766%, \n",
      "\t\tValidation: Loss: 0.4485, Accuracy: 84.4156%, Time: 524.8802s\n",
      "Best Accuracy for validation : 0.8442 at epoch 007\n",
      "Epoch: 10/30\n",
      "Epoch: 010, Training: Loss: 0.4379, Accuracy: 85.6602%, \n",
      "\t\tValidation: Loss: 0.4379, Accuracy: 83.9827%, Time: 488.3473s\n",
      "Best Accuracy for validation : 0.8442 at epoch 007\n",
      "Epoch: 11/30\n",
      "Epoch: 011, Training: Loss: 0.5888, Accuracy: 84.9026%, \n",
      "\t\tValidation: Loss: 0.5888, Accuracy: 77.4892%, Time: 486.8725s\n",
      "Best Accuracy for validation : 0.8442 at epoch 007\n",
      "Epoch: 12/30\n",
      "Epoch: 012, Training: Loss: 0.4262, Accuracy: 86.8506%, \n",
      "\t\tValidation: Loss: 0.4262, Accuracy: 83.1169%, Time: 487.4299s\n",
      "Best Accuracy for validation : 0.8442 at epoch 007\n",
      "Epoch: 13/30\n",
      "Epoch: 013, Training: Loss: 0.4693, Accuracy: 88.0952%, \n",
      "\t\tValidation: Loss: 0.4693, Accuracy: 81.3853%, Time: 486.2326s\n",
      "Best Accuracy for validation : 0.8442 at epoch 007\n",
      "Epoch: 14/30\n",
      "Epoch: 014, Training: Loss: 0.4357, Accuracy: 87.6623%, \n",
      "\t\tValidation: Loss: 0.4357, Accuracy: 84.8485%, Time: 487.4595s\n",
      "Best Accuracy for validation : 0.8485 at epoch 014\n",
      "Epoch: 15/30\n",
      "Epoch: 015, Training: Loss: 0.4609, Accuracy: 88.9610%, \n",
      "\t\tValidation: Loss: 0.4609, Accuracy: 82.6840%, Time: 492.2054s\n",
      "Best Accuracy for validation : 0.8485 at epoch 014\n",
      "Epoch: 16/30\n",
      "Epoch: 016, Training: Loss: 0.5157, Accuracy: 90.0433%, \n",
      "\t\tValidation: Loss: 0.5157, Accuracy: 81.3853%, Time: 488.0866s\n",
      "Best Accuracy for validation : 0.8485 at epoch 014\n",
      "Epoch: 17/30\n",
      "Epoch: 017, Training: Loss: 0.4777, Accuracy: 88.5823%, \n",
      "\t\tValidation: Loss: 0.4777, Accuracy: 82.6840%, Time: 488.4652s\n",
      "Best Accuracy for validation : 0.8485 at epoch 014\n",
      "Epoch: 18/30\n",
      "Epoch: 018, Training: Loss: 0.4448, Accuracy: 90.0974%, \n",
      "\t\tValidation: Loss: 0.4448, Accuracy: 83.1169%, Time: 487.3238s\n",
      "Best Accuracy for validation : 0.8485 at epoch 014\n",
      "Epoch: 19/30\n",
      "Epoch: 019, Training: Loss: 0.5492, Accuracy: 91.8831%, \n",
      "\t\tValidation: Loss: 0.5492, Accuracy: 83.5498%, Time: 491.4719s\n",
      "Best Accuracy for validation : 0.8485 at epoch 014\n",
      "Epoch: 20/30\n",
      "Epoch: 020, Training: Loss: 0.5267, Accuracy: 91.6126%, \n",
      "\t\tValidation: Loss: 0.5267, Accuracy: 82.6840%, Time: 490.3196s\n",
      "Best Accuracy for validation : 0.8485 at epoch 014\n",
      "Epoch: 21/30\n",
      "Epoch: 021, Training: Loss: 0.5143, Accuracy: 91.5584%, \n",
      "\t\tValidation: Loss: 0.5143, Accuracy: 81.3853%, Time: 489.9056s\n",
      "Best Accuracy for validation : 0.8485 at epoch 014\n",
      "Epoch: 22/30\n",
      "Epoch: 022, Training: Loss: 0.5343, Accuracy: 90.8550%, \n",
      "\t\tValidation: Loss: 0.5343, Accuracy: 82.6840%, Time: 493.4361s\n",
      "Best Accuracy for validation : 0.8485 at epoch 014\n",
      "Epoch: 23/30\n",
      "Epoch: 023, Training: Loss: 0.5398, Accuracy: 93.0195%, \n",
      "\t\tValidation: Loss: 0.5398, Accuracy: 81.3853%, Time: 490.8537s\n",
      "Best Accuracy for validation : 0.8485 at epoch 014\n",
      "Epoch: 24/30\n",
      "Epoch: 024, Training: Loss: 0.6359, Accuracy: 92.8030%, \n",
      "\t\tValidation: Loss: 0.6359, Accuracy: 82.6840%, Time: 491.3271s\n",
      "Best Accuracy for validation : 0.8485 at epoch 014\n",
      "Epoch: 25/30\n",
      "Epoch: 025, Training: Loss: 0.4925, Accuracy: 91.6126%, \n",
      "\t\tValidation: Loss: 0.4925, Accuracy: 81.8182%, Time: 489.0427s\n",
      "Best Accuracy for validation : 0.8485 at epoch 014\n",
      "Epoch: 26/30\n",
      "Epoch: 026, Training: Loss: 0.5358, Accuracy: 94.4805%, \n",
      "\t\tValidation: Loss: 0.5358, Accuracy: 82.2511%, Time: 491.4544s\n",
      "Best Accuracy for validation : 0.8485 at epoch 014\n",
      "Epoch: 27/30\n",
      "Epoch: 027, Training: Loss: 0.5858, Accuracy: 94.0476%, \n",
      "\t\tValidation: Loss: 0.5858, Accuracy: 80.5195%, Time: 489.4568s\n",
      "Best Accuracy for validation : 0.8485 at epoch 014\n",
      "Epoch: 28/30\n",
      "Epoch: 028, Training: Loss: 0.5544, Accuracy: 95.0216%, \n",
      "\t\tValidation: Loss: 0.5544, Accuracy: 84.8485%, Time: 493.9996s\n",
      "Best Accuracy for validation : 0.8485 at epoch 028\n",
      "Epoch: 29/30\n",
      "Epoch: 029, Training: Loss: 0.5934, Accuracy: 94.0476%, \n",
      "\t\tValidation: Loss: 0.5934, Accuracy: 82.2511%, Time: 488.1291s\n",
      "Best Accuracy for validation : 0.8485 at epoch 028\n",
      "Epoch: 30/30\n",
      "Epoch: 030, Training: Loss: 0.6203, Accuracy: 94.9675%, \n",
      "\t\tValidation: Loss: 0.6203, Accuracy: 79.6537%, Time: 495.1887s\n",
      "Best Accuracy for validation : 0.8485 at epoch 028\n"
     ]
    }
   ],
   "source": [
    "num_epochs = 30\n",
    "trained_model, history = train_and_valid(my_model, loss_func, optimizer, num_epochs)"
   ]
  },
  {
   "cell_type": "code",
   "execution_count": 4,
   "metadata": {},
   "outputs": [
    {
     "data": {
      "image/png": "[encoded data removed]",
      "text/plain": [
       "<Figure size 432x288 with 1 Axes>"
      ]
     },
     "metadata": {
      "needs_background": "light"
     },
     "output_type": "display_data"
    },
    {
     "data": {
      "image/png": "[encoded data removed]",
      "text/plain": [
       "<Figure size 432x288 with 1 Axes>"
      ]
     },
     "metadata": {
      "needs_background": "light"
     },
     "output_type": "display_data"
    }
   ],
   "source": [
    "# torch.save(history, 'F:\\DataSets/modles/'+'mobilenet_2' + '_history.pt')\n",
    "history = torch.load('F:\\DataSets/modles/'+'mobilenet_' + 'history.pt')\n",
    "history = np.array(history)\n",
    "plt.plot(history[:, 0:2])\n",
    "plt.legend(['Tr Loss', 'Val Loss'])\n",
    "plt.xlabel('Epoch Number')\n",
    "plt.ylabel('Loss')\n",
    "plt.ylim(0, 1)\n",
    "# plt.savefig('resnet101_loss_curve.png')\n",
    "plt.show()\n",
    " \n",
    "plt.plot(history[:, 2:4]) \n",
    "plt.legend(['Tr Accuracy', 'Val Accuracy'])\n",
    "plt.xlabel('Epoch Number')\n",
    "plt.ylabel('Accuracy')\n",
    "plt.ylim(0, 1)\n",
    "# plt.savefig('resnet101_accuracy_curve.png')\n",
    "plt.show()"
   ]
  },
  {
   "cell_type": "code",
   "execution_count": null,
   "metadata": {},
   "outputs": [],
   "source": []
  }
 ],
 "metadata": {
  "kernelspec": {
   "display_name": "Python 3",
   "language": "python",
   "name": "python3"
  },
  "language_info": {
   "codemirror_mode": {
    "name": "ipython",
    "version": 3
   },
   "file_extension": ".py",
   "mimetype": "text/x-python",
   "name": "python",
   "nbconvert_exporter": "python",
   "pygments_lexer": "ipython3",
   "version": "3.7.4"
  }
 },
 "nbformat": 4,
 "nbformat_minor": 4
}
